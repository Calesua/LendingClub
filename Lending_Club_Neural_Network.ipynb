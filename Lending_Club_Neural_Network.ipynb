{
 "cells": [
  {
   "cell_type": "markdown",
   "id": "e6f268c8",
   "metadata": {},
   "source": [
    "# Lending Club\n",
    "\n",
    "## The Data\n",
    "\n",
    "We will be using a subset of the LendingClub DataSet obtained from Kaggle: https://www.kaggle.com/wordsforthewise/lending-club\n",
    "\n",
    "\n",
    "LendingClub is a US peer-to-peer lending company, headquartered in San Francisco, California.[3] It was the first peer-to-peer lender to register its offerings as securities with the Securities and Exchange Commission (SEC), and to offer loan trading on a secondary market. LendingClub is the world's largest peer-to-peer lending platform.\n",
    "\n",
    "### Our Goal\n",
    "\n",
    "Given historical data on loans given out with information on whether or not the borrower defaulted (charge-off), we build a Neural Network model that can predict wether or not a borrower will pay back their loan.\n",
    "\n",
    "The \"loan_status\" column contains our label."
   ]
  },
  {
   "cell_type": "markdown",
   "id": "0ce70701",
   "metadata": {},
   "source": [
    "#### Let's import the packages we will need"
   ]
  },
  {
   "cell_type": "code",
   "execution_count": 1,
   "id": "31867cc6",
   "metadata": {},
   "outputs": [],
   "source": [
    "import numpy as np\n",
    "import pandas as pd                          # Allows working with dataframes\n",
    "\n",
    "import matplotlib.pyplot as plt              # Graphics package\n",
    "import seaborn as sns                        # Enhanced graphics package\n",
    "sns.set(style='darkgrid')\n",
    "\n",
    "import re                                    #regex(regular expression) module"
   ]
  },
  {
   "cell_type": "code",
   "execution_count": 2,
   "id": "4a43983b",
   "metadata": {},
   "outputs": [],
   "source": [
    "# ML Data preparation\n",
    "\n",
    "from sklearn.preprocessing import MinMaxScaler                      # Data normalization\n",
    "from sklearn.model_selection import train_test_split                # Model training/testing data\n",
    "from sklearn.metrics import classification_report,confusion_matrix  # Model performance metrics\n",
    "from sklearn.impute import KNNImputer                               # Filling missing data using KNN"
   ]
  },
  {
   "cell_type": "code",
   "execution_count": 3,
   "id": "bba8d0ac",
   "metadata": {},
   "outputs": [],
   "source": [
    "#Neural Network\n",
    "\n",
    "import tensorflow as tf\n",
    "\n",
    "# Neural network settings\n",
    "from tensorflow.keras.models import Sequential\n",
    "from tensorflow.keras.layers import Dense, Activation\n",
    "\n",
    "# Preventing overfitting\n",
    "from tensorflow.keras.callbacks import EarlyStopping         # Training stopping when there's not enough performance reducing error\n",
    "from tensorflow.keras.layers import Dropout                  # Rnadomly drops nodes connections to prevent overfitting"
   ]
  },
  {
   "cell_type": "markdown",
   "id": "ac3cc378",
   "metadata": {},
   "source": [
    "## 1. Data Overview\n",
    "#### Let's load the data and try to visualize some general information in the dataset"
   ]
  },
  {
   "cell_type": "markdown",
   "id": "c09abb23",
   "metadata": {},
   "source": [
    "#### 'lending_club_info.csv' contains a description of the variables whose values are given in the historic file 'lending_club_loan_two.csv'"
   ]
  },
  {
   "cell_type": "code",
   "execution_count": 4,
   "id": "ed2d4b1a",
   "metadata": {
    "scrolled": true
   },
   "outputs": [
    {
     "data": {
      "text/html": [
       "<div>\n",
       "<style scoped>\n",
       "    .dataframe tbody tr th:only-of-type {\n",
       "        vertical-align: middle;\n",
       "    }\n",
       "\n",
       "    .dataframe tbody tr th {\n",
       "        vertical-align: top;\n",
       "    }\n",
       "\n",
       "    .dataframe thead th {\n",
       "        text-align: right;\n",
       "    }\n",
       "</style>\n",
       "<table border=\"1\" class=\"dataframe\">\n",
       "  <thead>\n",
       "    <tr style=\"text-align: right;\">\n",
       "      <th></th>\n",
       "      <th>LoanStatNew</th>\n",
       "      <th>Description</th>\n",
       "    </tr>\n",
       "  </thead>\n",
       "  <tbody>\n",
       "    <tr>\n",
       "      <th>0</th>\n",
       "      <td>loan_amnt</td>\n",
       "      <td>The listed amount of the loan applied for by the borrower. If at some point in time, the credit department reduces the loan amount, then it will b...</td>\n",
       "    </tr>\n",
       "    <tr>\n",
       "      <th>1</th>\n",
       "      <td>term</td>\n",
       "      <td>The number of payments on the loan. Values are in months and can be either 36 or 60.</td>\n",
       "    </tr>\n",
       "    <tr>\n",
       "      <th>2</th>\n",
       "      <td>int_rate</td>\n",
       "      <td>Interest Rate on the loan</td>\n",
       "    </tr>\n",
       "    <tr>\n",
       "      <th>3</th>\n",
       "      <td>installment</td>\n",
       "      <td>The monthly payment owed by the borrower if the loan originates.</td>\n",
       "    </tr>\n",
       "    <tr>\n",
       "      <th>4</th>\n",
       "      <td>grade</td>\n",
       "      <td>LC assigned loan grade</td>\n",
       "    </tr>\n",
       "    <tr>\n",
       "      <th>5</th>\n",
       "      <td>sub_grade</td>\n",
       "      <td>LC assigned loan subgrade</td>\n",
       "    </tr>\n",
       "    <tr>\n",
       "      <th>6</th>\n",
       "      <td>emp_title</td>\n",
       "      <td>The job title supplied by the Borrower when applying for the loan.*</td>\n",
       "    </tr>\n",
       "    <tr>\n",
       "      <th>7</th>\n",
       "      <td>emp_length</td>\n",
       "      <td>Employment length in years. Possible values are between 0 and 10 where 0 means less than one year and 10 means ten or more years.</td>\n",
       "    </tr>\n",
       "    <tr>\n",
       "      <th>8</th>\n",
       "      <td>home_ownership</td>\n",
       "      <td>The home ownership status provided by the borrower during registration or obtained from the credit report. Our values are: RENT, OWN, MORTGAGE, OTHER</td>\n",
       "    </tr>\n",
       "    <tr>\n",
       "      <th>9</th>\n",
       "      <td>annual_inc</td>\n",
       "      <td>The self-reported annual income provided by the borrower during registration.</td>\n",
       "    </tr>\n",
       "    <tr>\n",
       "      <th>10</th>\n",
       "      <td>verification_status</td>\n",
       "      <td>Indicates if income was verified by LC, not verified, or if the income source was verified</td>\n",
       "    </tr>\n",
       "    <tr>\n",
       "      <th>11</th>\n",
       "      <td>issue_d</td>\n",
       "      <td>The month which the loan was funded</td>\n",
       "    </tr>\n",
       "    <tr>\n",
       "      <th>12</th>\n",
       "      <td>loan_status</td>\n",
       "      <td>Current status of the loan</td>\n",
       "    </tr>\n",
       "    <tr>\n",
       "      <th>13</th>\n",
       "      <td>purpose</td>\n",
       "      <td>A category provided by the borrower for the loan request.</td>\n",
       "    </tr>\n",
       "    <tr>\n",
       "      <th>14</th>\n",
       "      <td>title</td>\n",
       "      <td>The loan title provided by the borrower</td>\n",
       "    </tr>\n",
       "    <tr>\n",
       "      <th>15</th>\n",
       "      <td>zip_code</td>\n",
       "      <td>The first 3 numbers of the zip code provided by the borrower in the loan application.</td>\n",
       "    </tr>\n",
       "    <tr>\n",
       "      <th>16</th>\n",
       "      <td>addr_state</td>\n",
       "      <td>The state provided by the borrower in the loan application</td>\n",
       "    </tr>\n",
       "    <tr>\n",
       "      <th>17</th>\n",
       "      <td>dti</td>\n",
       "      <td>A ratio calculated using the borrower’s total monthly debt payments on the total debt obligations, excluding mortgage and the requested LC loan, d...</td>\n",
       "    </tr>\n",
       "    <tr>\n",
       "      <th>18</th>\n",
       "      <td>earliest_cr_line</td>\n",
       "      <td>The month the borrower's earliest reported credit line was opened</td>\n",
       "    </tr>\n",
       "    <tr>\n",
       "      <th>19</th>\n",
       "      <td>open_acc</td>\n",
       "      <td>The number of open credit lines in the borrower's credit file.</td>\n",
       "    </tr>\n",
       "    <tr>\n",
       "      <th>20</th>\n",
       "      <td>pub_rec</td>\n",
       "      <td>Number of derogatory public records</td>\n",
       "    </tr>\n",
       "    <tr>\n",
       "      <th>21</th>\n",
       "      <td>revol_bal</td>\n",
       "      <td>Total credit revolving balance</td>\n",
       "    </tr>\n",
       "    <tr>\n",
       "      <th>22</th>\n",
       "      <td>revol_util</td>\n",
       "      <td>Revolving line utilization rate, or the amount of credit the borrower is using relative to all available revolving credit.</td>\n",
       "    </tr>\n",
       "    <tr>\n",
       "      <th>23</th>\n",
       "      <td>total_acc</td>\n",
       "      <td>The total number of credit lines currently in the borrower's credit file</td>\n",
       "    </tr>\n",
       "    <tr>\n",
       "      <th>24</th>\n",
       "      <td>initial_list_status</td>\n",
       "      <td>The initial listing status of the loan. Possible values are – W, F</td>\n",
       "    </tr>\n",
       "    <tr>\n",
       "      <th>25</th>\n",
       "      <td>application_type</td>\n",
       "      <td>Indicates whether the loan is an individual application or a joint application with two co-borrowers</td>\n",
       "    </tr>\n",
       "    <tr>\n",
       "      <th>26</th>\n",
       "      <td>mort_acc</td>\n",
       "      <td>Number of mortgage accounts.</td>\n",
       "    </tr>\n",
       "    <tr>\n",
       "      <th>27</th>\n",
       "      <td>pub_rec_bankruptcies</td>\n",
       "      <td>Number of public record bankruptcies</td>\n",
       "    </tr>\n",
       "  </tbody>\n",
       "</table>\n",
       "</div>"
      ],
      "text/plain": [
       "             LoanStatNew  \\\n",
       "0              loan_amnt   \n",
       "1                   term   \n",
       "2               int_rate   \n",
       "3            installment   \n",
       "4                  grade   \n",
       "5              sub_grade   \n",
       "6              emp_title   \n",
       "7             emp_length   \n",
       "8         home_ownership   \n",
       "9             annual_inc   \n",
       "10   verification_status   \n",
       "11               issue_d   \n",
       "12           loan_status   \n",
       "13               purpose   \n",
       "14                 title   \n",
       "15              zip_code   \n",
       "16            addr_state   \n",
       "17                   dti   \n",
       "18      earliest_cr_line   \n",
       "19              open_acc   \n",
       "20               pub_rec   \n",
       "21             revol_bal   \n",
       "22            revol_util   \n",
       "23             total_acc   \n",
       "24   initial_list_status   \n",
       "25      application_type   \n",
       "26              mort_acc   \n",
       "27  pub_rec_bankruptcies   \n",
       "\n",
       "                                                                                                                                              Description  \n",
       "0   The listed amount of the loan applied for by the borrower. If at some point in time, the credit department reduces the loan amount, then it will b...  \n",
       "1                                                                    The number of payments on the loan. Values are in months and can be either 36 or 60.  \n",
       "2                                                                                                                               Interest Rate on the loan  \n",
       "3                                                                                        The monthly payment owed by the borrower if the loan originates.  \n",
       "4                                                                                                                                  LC assigned loan grade  \n",
       "5                                                                                                                               LC assigned loan subgrade  \n",
       "6                                                                                     The job title supplied by the Borrower when applying for the loan.*  \n",
       "7                      Employment length in years. Possible values are between 0 and 10 where 0 means less than one year and 10 means ten or more years.   \n",
       "8   The home ownership status provided by the borrower during registration or obtained from the credit report. Our values are: RENT, OWN, MORTGAGE, OTHER  \n",
       "9                                                                           The self-reported annual income provided by the borrower during registration.  \n",
       "10                                                             Indicates if income was verified by LC, not verified, or if the income source was verified  \n",
       "11                                                                                                                    The month which the loan was funded  \n",
       "12                                                                                                                             Current status of the loan  \n",
       "13                                                                                             A category provided by the borrower for the loan request.   \n",
       "14                                                                                                                The loan title provided by the borrower  \n",
       "15                                                                  The first 3 numbers of the zip code provided by the borrower in the loan application.  \n",
       "16                                                                                             The state provided by the borrower in the loan application  \n",
       "17  A ratio calculated using the borrower’s total monthly debt payments on the total debt obligations, excluding mortgage and the requested LC loan, d...  \n",
       "18                                                                                      The month the borrower's earliest reported credit line was opened  \n",
       "19                                                                                         The number of open credit lines in the borrower's credit file.  \n",
       "20                                                                                                                    Number of derogatory public records  \n",
       "21                                                                                                                         Total credit revolving balance  \n",
       "22                             Revolving line utilization rate, or the amount of credit the borrower is using relative to all available revolving credit.  \n",
       "23                                                                               The total number of credit lines currently in the borrower's credit file  \n",
       "24                                                                                     The initial listing status of the loan. Possible values are – W, F  \n",
       "25                                                   Indicates whether the loan is an individual application or a joint application with two co-borrowers  \n",
       "26                                                                                                                           Number of mortgage accounts.  \n",
       "27                                                                                                                   Number of public record bankruptcies  "
      ]
     },
     "execution_count": 4,
     "metadata": {},
     "output_type": "execute_result"
    }
   ],
   "source": [
    "lc_info = pd.read_csv('../DATA/lending_club_info.csv')\n",
    "pd.options.display.max_colwidth = 150 # This sets the amount length of string to be shown to 150 chars\n",
    "lc_info"
   ]
  },
  {
   "cell_type": "code",
   "execution_count": 5,
   "id": "3711da72",
   "metadata": {
    "scrolled": true
   },
   "outputs": [
    {
     "data": {
      "text/html": [
       "<div>\n",
       "<style scoped>\n",
       "    .dataframe tbody tr th:only-of-type {\n",
       "        vertical-align: middle;\n",
       "    }\n",
       "\n",
       "    .dataframe tbody tr th {\n",
       "        vertical-align: top;\n",
       "    }\n",
       "\n",
       "    .dataframe thead th {\n",
       "        text-align: right;\n",
       "    }\n",
       "</style>\n",
       "<table border=\"1\" class=\"dataframe\">\n",
       "  <thead>\n",
       "    <tr style=\"text-align: right;\">\n",
       "      <th></th>\n",
       "      <th>loan_amnt</th>\n",
       "      <th>term</th>\n",
       "      <th>int_rate</th>\n",
       "      <th>installment</th>\n",
       "      <th>grade</th>\n",
       "      <th>sub_grade</th>\n",
       "      <th>emp_title</th>\n",
       "      <th>emp_length</th>\n",
       "      <th>home_ownership</th>\n",
       "      <th>annual_inc</th>\n",
       "      <th>...</th>\n",
       "      <th>open_acc</th>\n",
       "      <th>pub_rec</th>\n",
       "      <th>revol_bal</th>\n",
       "      <th>revol_util</th>\n",
       "      <th>total_acc</th>\n",
       "      <th>initial_list_status</th>\n",
       "      <th>application_type</th>\n",
       "      <th>mort_acc</th>\n",
       "      <th>pub_rec_bankruptcies</th>\n",
       "      <th>address</th>\n",
       "    </tr>\n",
       "  </thead>\n",
       "  <tbody>\n",
       "    <tr>\n",
       "      <th>0</th>\n",
       "      <td>10000.0</td>\n",
       "      <td>36 months</td>\n",
       "      <td>11.44</td>\n",
       "      <td>329.48</td>\n",
       "      <td>B</td>\n",
       "      <td>B4</td>\n",
       "      <td>Marketing</td>\n",
       "      <td>10+ years</td>\n",
       "      <td>RENT</td>\n",
       "      <td>117000.0</td>\n",
       "      <td>...</td>\n",
       "      <td>16.0</td>\n",
       "      <td>0.0</td>\n",
       "      <td>36369.0</td>\n",
       "      <td>41.8</td>\n",
       "      <td>25.0</td>\n",
       "      <td>w</td>\n",
       "      <td>INDIVIDUAL</td>\n",
       "      <td>0.0</td>\n",
       "      <td>0.0</td>\n",
       "      <td>0174 Michelle Gateway\\nMendozaberg, OK 22690</td>\n",
       "    </tr>\n",
       "    <tr>\n",
       "      <th>1</th>\n",
       "      <td>8000.0</td>\n",
       "      <td>36 months</td>\n",
       "      <td>11.99</td>\n",
       "      <td>265.68</td>\n",
       "      <td>B</td>\n",
       "      <td>B5</td>\n",
       "      <td>Credit analyst</td>\n",
       "      <td>4 years</td>\n",
       "      <td>MORTGAGE</td>\n",
       "      <td>65000.0</td>\n",
       "      <td>...</td>\n",
       "      <td>17.0</td>\n",
       "      <td>0.0</td>\n",
       "      <td>20131.0</td>\n",
       "      <td>53.3</td>\n",
       "      <td>27.0</td>\n",
       "      <td>f</td>\n",
       "      <td>INDIVIDUAL</td>\n",
       "      <td>3.0</td>\n",
       "      <td>0.0</td>\n",
       "      <td>1076 Carney Fort Apt. 347\\nLoganmouth, SD 05113</td>\n",
       "    </tr>\n",
       "    <tr>\n",
       "      <th>2</th>\n",
       "      <td>15600.0</td>\n",
       "      <td>36 months</td>\n",
       "      <td>10.49</td>\n",
       "      <td>506.97</td>\n",
       "      <td>B</td>\n",
       "      <td>B3</td>\n",
       "      <td>Statistician</td>\n",
       "      <td>&lt; 1 year</td>\n",
       "      <td>RENT</td>\n",
       "      <td>43057.0</td>\n",
       "      <td>...</td>\n",
       "      <td>13.0</td>\n",
       "      <td>0.0</td>\n",
       "      <td>11987.0</td>\n",
       "      <td>92.2</td>\n",
       "      <td>26.0</td>\n",
       "      <td>f</td>\n",
       "      <td>INDIVIDUAL</td>\n",
       "      <td>0.0</td>\n",
       "      <td>0.0</td>\n",
       "      <td>87025 Mark Dale Apt. 269\\nNew Sabrina, WV 05113</td>\n",
       "    </tr>\n",
       "    <tr>\n",
       "      <th>3</th>\n",
       "      <td>7200.0</td>\n",
       "      <td>36 months</td>\n",
       "      <td>6.49</td>\n",
       "      <td>220.65</td>\n",
       "      <td>A</td>\n",
       "      <td>A2</td>\n",
       "      <td>Client Advocate</td>\n",
       "      <td>6 years</td>\n",
       "      <td>RENT</td>\n",
       "      <td>54000.0</td>\n",
       "      <td>...</td>\n",
       "      <td>6.0</td>\n",
       "      <td>0.0</td>\n",
       "      <td>5472.0</td>\n",
       "      <td>21.5</td>\n",
       "      <td>13.0</td>\n",
       "      <td>f</td>\n",
       "      <td>INDIVIDUAL</td>\n",
       "      <td>0.0</td>\n",
       "      <td>0.0</td>\n",
       "      <td>823 Reid Ford\\nDelacruzside, MA 00813</td>\n",
       "    </tr>\n",
       "    <tr>\n",
       "      <th>4</th>\n",
       "      <td>24375.0</td>\n",
       "      <td>60 months</td>\n",
       "      <td>17.27</td>\n",
       "      <td>609.33</td>\n",
       "      <td>C</td>\n",
       "      <td>C5</td>\n",
       "      <td>Destiny Management Inc.</td>\n",
       "      <td>9 years</td>\n",
       "      <td>MORTGAGE</td>\n",
       "      <td>55000.0</td>\n",
       "      <td>...</td>\n",
       "      <td>13.0</td>\n",
       "      <td>0.0</td>\n",
       "      <td>24584.0</td>\n",
       "      <td>69.8</td>\n",
       "      <td>43.0</td>\n",
       "      <td>f</td>\n",
       "      <td>INDIVIDUAL</td>\n",
       "      <td>1.0</td>\n",
       "      <td>0.0</td>\n",
       "      <td>679 Luna Roads\\nGreggshire, VA 11650</td>\n",
       "    </tr>\n",
       "  </tbody>\n",
       "</table>\n",
       "<p>5 rows × 27 columns</p>\n",
       "</div>"
      ],
      "text/plain": [
       "   loan_amnt        term  int_rate  installment grade sub_grade  \\\n",
       "0    10000.0   36 months     11.44       329.48     B        B4   \n",
       "1     8000.0   36 months     11.99       265.68     B        B5   \n",
       "2    15600.0   36 months     10.49       506.97     B        B3   \n",
       "3     7200.0   36 months      6.49       220.65     A        A2   \n",
       "4    24375.0   60 months     17.27       609.33     C        C5   \n",
       "\n",
       "                 emp_title emp_length home_ownership  annual_inc  ...  \\\n",
       "0                Marketing  10+ years           RENT    117000.0  ...   \n",
       "1          Credit analyst     4 years       MORTGAGE     65000.0  ...   \n",
       "2             Statistician   < 1 year           RENT     43057.0  ...   \n",
       "3          Client Advocate    6 years           RENT     54000.0  ...   \n",
       "4  Destiny Management Inc.    9 years       MORTGAGE     55000.0  ...   \n",
       "\n",
       "  open_acc pub_rec revol_bal revol_util total_acc  initial_list_status  \\\n",
       "0     16.0     0.0   36369.0       41.8      25.0                    w   \n",
       "1     17.0     0.0   20131.0       53.3      27.0                    f   \n",
       "2     13.0     0.0   11987.0       92.2      26.0                    f   \n",
       "3      6.0     0.0    5472.0       21.5      13.0                    f   \n",
       "4     13.0     0.0   24584.0       69.8      43.0                    f   \n",
       "\n",
       "  application_type  mort_acc  pub_rec_bankruptcies  \\\n",
       "0       INDIVIDUAL       0.0                   0.0   \n",
       "1       INDIVIDUAL       3.0                   0.0   \n",
       "2       INDIVIDUAL       0.0                   0.0   \n",
       "3       INDIVIDUAL       0.0                   0.0   \n",
       "4       INDIVIDUAL       1.0                   0.0   \n",
       "\n",
       "                                           address  \n",
       "0     0174 Michelle Gateway\\nMendozaberg, OK 22690  \n",
       "1  1076 Carney Fort Apt. 347\\nLoganmouth, SD 05113  \n",
       "2  87025 Mark Dale Apt. 269\\nNew Sabrina, WV 05113  \n",
       "3            823 Reid Ford\\nDelacruzside, MA 00813  \n",
       "4             679 Luna Roads\\nGreggshire, VA 11650  \n",
       "\n",
       "[5 rows x 27 columns]"
      ]
     },
     "execution_count": 5,
     "metadata": {},
     "output_type": "execute_result"
    }
   ],
   "source": [
    "lc_loan = pd.read_csv('../DATA/lending_club_loan_two.csv')\n",
    "lc_loan.head()"
   ]
  },
  {
   "cell_type": "code",
   "execution_count": 6,
   "id": "ba6be782",
   "metadata": {},
   "outputs": [
    {
     "data": {
      "text/plain": [
       "<Axes: xlabel='loan_status', ylabel='count'>"
      ]
     },
     "execution_count": 6,
     "metadata": {},
     "output_type": "execute_result"
    },
    {
     "data": {
      "image/png": "[encoded data removed]",
      "text/plain": [
       "<Figure size 800x200 with 1 Axes>"
      ]
     },
     "metadata": {},
     "output_type": "display_data"
    }
   ],
   "source": [
    "# Proportion of loans that are defaulted\n",
    "plt.figure(figsize=(8,2))\n",
    "sns.countplot(data=lc_loan, x='loan_status')"
   ]
  },
  {
   "cell_type": "code",
   "execution_count": 7,
   "id": "ba88d81d",
   "metadata": {
    "scrolled": false
   },
   "outputs": [
    {
     "data": {
      "text/plain": [
       "<Axes: xlabel='loan_amnt', ylabel='Count'>"
      ]
     },
     "execution_count": 7,
     "metadata": {},
     "output_type": "execute_result"
    },
    {
     "data": {
      "image/png": "[encoded data removed]",
      "text/plain": [
       "<Figure size 1000x300 with 1 Axes>"
      ]
     },
     "metadata": {},
     "output_type": "display_data"
    }
   ],
   "source": [
    "# Distribution of the amount borrowed for historic loans\n",
    "plt.figure(figsize=(10,3))\n",
    "sns.histplot(lc_loan['loan_amnt'], kde=False, bins=25)"
   ]
  },
  {
   "cell_type": "markdown",
   "id": "f80012f6",
   "metadata": {},
   "source": [
    "#### As we can see, the historical amount of money borrowed concentrates around 10K USD."
   ]
  },
  {
   "cell_type": "markdown",
   "id": "eb14595a",
   "metadata": {},
   "source": [
    "#### Let's now turn loan_status to a dummy variable so we can check the correlations with each other variable"
   ]
  },
  {
   "cell_type": "code",
   "execution_count": 8,
   "id": "bc50697b",
   "metadata": {
    "scrolled": true
   },
   "outputs": [
    {
     "data": {
      "text/html": [
       "<div>\n",
       "<style scoped>\n",
       "    .dataframe tbody tr th:only-of-type {\n",
       "        vertical-align: middle;\n",
       "    }\n",
       "\n",
       "    .dataframe tbody tr th {\n",
       "        vertical-align: top;\n",
       "    }\n",
       "\n",
       "    .dataframe thead th {\n",
       "        text-align: right;\n",
       "    }\n",
       "</style>\n",
       "<table border=\"1\" class=\"dataframe\">\n",
       "  <thead>\n",
       "    <tr style=\"text-align: right;\">\n",
       "      <th></th>\n",
       "      <th>loan_status</th>\n",
       "      <th>status_dummy</th>\n",
       "    </tr>\n",
       "  </thead>\n",
       "  <tbody>\n",
       "    <tr>\n",
       "      <th>396020</th>\n",
       "      <td>Fully Paid</td>\n",
       "      <td>1</td>\n",
       "    </tr>\n",
       "    <tr>\n",
       "      <th>396021</th>\n",
       "      <td>Fully Paid</td>\n",
       "      <td>1</td>\n",
       "    </tr>\n",
       "    <tr>\n",
       "      <th>396022</th>\n",
       "      <td>Fully Paid</td>\n",
       "      <td>1</td>\n",
       "    </tr>\n",
       "    <tr>\n",
       "      <th>396023</th>\n",
       "      <td>Fully Paid</td>\n",
       "      <td>1</td>\n",
       "    </tr>\n",
       "    <tr>\n",
       "      <th>396024</th>\n",
       "      <td>Fully Paid</td>\n",
       "      <td>1</td>\n",
       "    </tr>\n",
       "    <tr>\n",
       "      <th>396025</th>\n",
       "      <td>Fully Paid</td>\n",
       "      <td>1</td>\n",
       "    </tr>\n",
       "    <tr>\n",
       "      <th>396026</th>\n",
       "      <td>Fully Paid</td>\n",
       "      <td>1</td>\n",
       "    </tr>\n",
       "    <tr>\n",
       "      <th>396027</th>\n",
       "      <td>Fully Paid</td>\n",
       "      <td>1</td>\n",
       "    </tr>\n",
       "    <tr>\n",
       "      <th>396028</th>\n",
       "      <td>Fully Paid</td>\n",
       "      <td>1</td>\n",
       "    </tr>\n",
       "    <tr>\n",
       "      <th>396029</th>\n",
       "      <td>Fully Paid</td>\n",
       "      <td>1</td>\n",
       "    </tr>\n",
       "  </tbody>\n",
       "</table>\n",
       "</div>"
      ],
      "text/plain": [
       "       loan_status  status_dummy\n",
       "396020  Fully Paid             1\n",
       "396021  Fully Paid             1\n",
       "396022  Fully Paid             1\n",
       "396023  Fully Paid             1\n",
       "396024  Fully Paid             1\n",
       "396025  Fully Paid             1\n",
       "396026  Fully Paid             1\n",
       "396027  Fully Paid             1\n",
       "396028  Fully Paid             1\n",
       "396029  Fully Paid             1"
      ]
     },
     "execution_count": 8,
     "metadata": {},
     "output_type": "execute_result"
    }
   ],
   "source": [
    "# We associate each element of loan_status with a 0 or a 1 in the a column\n",
    "lc_loan['status_dummy'] = (lc_loan['loan_status'].map({'Fully Paid':1,'Charged Off':0})).astype(np.uint8)\n",
    "lc_loan[['loan_status','status_dummy']].tail(10)"
   ]
  },
  {
   "cell_type": "code",
   "execution_count": 9,
   "id": "e2c3d80f",
   "metadata": {},
   "outputs": [
    {
     "name": "stderr",
     "output_type": "stream",
     "text": [
      "C:\\Users\\lol_s\\AppData\\Local\\Temp\\ipykernel_15752\\2775831331.py:3: FutureWarning: The default value of numeric_only in DataFrame.corr is deprecated. In a future version, it will default to False. Select only valid columns or specify the value of numeric_only to silence this warning.\n",
      "  sns.heatmap(lc_loan.corr(), annot=True)\n"
     ]
    },
    {
     "data": {
      "text/plain": [
       "<Axes: >"
      ]
     },
     "execution_count": 9,
     "metadata": {},
     "output_type": "execute_result"
    },
    {
     "data": {
      "image/png": "[encoded data removed]",
      "text/plain": [
       "<Figure size 1000x500 with 2 Axes>"
      ]
     },
     "metadata": {},
     "output_type": "display_data"
    }
   ],
   "source": [
    "# Plot the correlations\n",
    "plt.figure(figsize=(10,5))\n",
    "sns.heatmap(lc_loan.corr(), annot=True)"
   ]
  },
  {
   "cell_type": "markdown",
   "id": "39f47392",
   "metadata": {},
   "source": [
    "####  Let's see description of the variables that show the greatest correlations"
   ]
  },
  {
   "cell_type": "code",
   "execution_count": 10,
   "id": "30baf7b0",
   "metadata": {
    "scrolled": true
   },
   "outputs": [
    {
     "data": {
      "text/html": [
       "<div>\n",
       "<style scoped>\n",
       "    .dataframe tbody tr th:only-of-type {\n",
       "        vertical-align: middle;\n",
       "    }\n",
       "\n",
       "    .dataframe tbody tr th {\n",
       "        vertical-align: top;\n",
       "    }\n",
       "\n",
       "    .dataframe thead th {\n",
       "        text-align: right;\n",
       "    }\n",
       "</style>\n",
       "<table border=\"1\" class=\"dataframe\">\n",
       "  <thead>\n",
       "    <tr style=\"text-align: right;\">\n",
       "      <th></th>\n",
       "      <th>Description</th>\n",
       "    </tr>\n",
       "    <tr>\n",
       "      <th>LoanStatNew</th>\n",
       "      <th></th>\n",
       "    </tr>\n",
       "  </thead>\n",
       "  <tbody>\n",
       "    <tr>\n",
       "      <th>installment</th>\n",
       "      <td>The monthly payment owed by the borrower if the loan originates.</td>\n",
       "    </tr>\n",
       "    <tr>\n",
       "      <th>pub_rec</th>\n",
       "      <td>Number of derogatory public records</td>\n",
       "    </tr>\n",
       "    <tr>\n",
       "      <th>pub_rec_bankruptcies</th>\n",
       "      <td>Number of public record bankruptcies</td>\n",
       "    </tr>\n",
       "    <tr>\n",
       "      <th>open_acc</th>\n",
       "      <td>The number of open credit lines in the borrower's credit file.</td>\n",
       "    </tr>\n",
       "    <tr>\n",
       "      <th>total_acc</th>\n",
       "      <td>The total number of credit lines currently in the borrower's credit file</td>\n",
       "    </tr>\n",
       "  </tbody>\n",
       "</table>\n",
       "</div>"
      ],
      "text/plain": [
       "                                                                                   Description\n",
       "LoanStatNew                                                                                   \n",
       "installment                   The monthly payment owed by the borrower if the loan originates.\n",
       "pub_rec                                                    Number of derogatory public records\n",
       "pub_rec_bankruptcies                                      Number of public record bankruptcies\n",
       "open_acc                        The number of open credit lines in the borrower's credit file.\n",
       "total_acc             The total number of credit lines currently in the borrower's credit file"
      ]
     },
     "execution_count": 10,
     "metadata": {},
     "output_type": "execute_result"
    }
   ],
   "source": [
    "lc_info.set_index('LoanStatNew').loc[['installment', 'pub_rec', 'pub_rec_bankruptcies', 'open_acc', 'total_acc']]"
   ]
  },
  {
   "cell_type": "markdown",
   "id": "2ebe3293",
   "metadata": {},
   "source": [
    "#### As expected, installment is pretty correlated to the total amount of money borrowed\n",
    "#### Again, pub_rec and pub_rc_bankruptcies show similar information about public records about payment default\n",
    "#### The relation between open_acc and total_acc is probably not that evident, as having a bigger or smaller record does not imply having more or less credit accounts currently open. This said, I would suggest the following reasons that make this happen (We would need more information to accept or reject them):\n",
    "* The more experience a person have with credit lines, the more comfortable it feels to have them and perhaps the more that person can feel in need to have extra money for his projects\n",
    "* The older the person gets, the more accounts he would have oppened and because of his age, the more money income he could have managed to get and also (related or not to the latter) the less he would worry about having a money debt"
   ]
  },
  {
   "cell_type": "markdown",
   "id": "424e2686",
   "metadata": {},
   "source": [
    "#### Correlation with status_dummy"
   ]
  },
  {
   "cell_type": "code",
   "execution_count": 11,
   "id": "1788a425",
   "metadata": {},
   "outputs": [
    {
     "name": "stderr",
     "output_type": "stream",
     "text": [
      "C:\\Users\\lol_s\\AppData\\Local\\Temp\\ipykernel_15752\\3795390216.py:2: FutureWarning: The default value of numeric_only in DataFrame.corr is deprecated. In a future version, it will default to False. Select only valid columns or specify the value of numeric_only to silence this warning.\n",
      "  lc_loan.corr()['status_dummy'].abs().sort_values()\n"
     ]
    },
    {
     "data": {
      "text/plain": [
       "pub_rec_bankruptcies    0.009383\n",
       "revol_bal               0.010892\n",
       "total_acc               0.017893\n",
       "pub_rec                 0.019933\n",
       "open_acc                0.028012\n",
       "installment             0.041082\n",
       "annual_inc              0.053432\n",
       "loan_amnt               0.059836\n",
       "dti                     0.062413\n",
       "mort_acc                0.073111\n",
       "revol_util              0.082373\n",
       "int_rate                0.247758\n",
       "status_dummy            1.000000\n",
       "Name: status_dummy, dtype: float64"
      ]
     },
     "execution_count": 11,
     "metadata": {},
     "output_type": "execute_result"
    }
   ],
   "source": [
    "# Correlations with the target feature\n",
    "lc_loan.corr()['status_dummy'].abs().sort_values()"
   ]
  },
  {
   "cell_type": "code",
   "execution_count": 12,
   "id": "a8ccef1f",
   "metadata": {},
   "outputs": [
    {
     "data": {
      "text/plain": [
       "<Axes: xlabel='int_rate', ylabel='Count'>"
      ]
     },
     "execution_count": 12,
     "metadata": {},
     "output_type": "execute_result"
    },
    {
     "data": {
      "image/png": "[encoded data removed]",
      "text/plain": [
       "<Figure size 800x300 with 1 Axes>"
      ]
     },
     "metadata": {},
     "output_type": "display_data"
    }
   ],
   "source": [
    "# Distribution with respect to the interest rate and clusterized by payment status\n",
    "plt.figure(figsize=(8,3))\n",
    "sns.histplot(lc_loan, x='int_rate',hue='loan_status', multiple='dodge', bins=30, kde=True, kde_kws={'bw_adjust':4}) #kde_kws is a smoothness factor"
   ]
  },
  {
   "cell_type": "markdown",
   "id": "d7719447",
   "metadata": {},
   "source": [
    "#### There's better payment rate for bigger interest rate, although the difference is not significant"
   ]
  },
  {
   "cell_type": "code",
   "execution_count": 13,
   "id": "5e5b467c",
   "metadata": {},
   "outputs": [
    {
     "data": {
      "text/plain": [
       "<seaborn.axisgrid.FacetGrid at 0x2083e69ecb0>"
      ]
     },
     "execution_count": 13,
     "metadata": {},
     "output_type": "execute_result"
    },
    {
     "data": {
      "image/png": "[encoded data removed]",
      "text/plain": [
       "<Figure size 900x300 with 3 Axes>"
      ]
     },
     "metadata": {},
     "output_type": "display_data"
    }
   ],
   "source": [
    "# Proportion of Fully paid/Charged off loans for each kind of application type\n",
    "g = sns.FacetGrid(lc_loan,col='application_type', sharey=False, height=3)\n",
    "#If we let share y, the 2nd and 3rd graphs would be tiny if compared to the 1st\n",
    "g.map(sns.histplot,'loan_status')"
   ]
  },
  {
   "cell_type": "markdown",
   "id": "a500bcc3",
   "metadata": {},
   "source": [
    "#### The direct payment type is the most risky and the joint type is the least"
   ]
  },
  {
   "cell_type": "code",
   "execution_count": 14,
   "id": "03371081",
   "metadata": {},
   "outputs": [
    {
     "data": {
      "text/plain": [
       "<seaborn.axisgrid.FacetGrid at 0x2083e712440>"
      ]
     },
     "execution_count": 14,
     "metadata": {},
     "output_type": "execute_result"
    },
    {
     "data": {
      "image/png": "[encoded data removed]",
      "text/plain": [
       "<Figure size 558.25x350 with 1 Axes>"
      ]
     },
     "metadata": {},
     "output_type": "display_data"
    }
   ],
   "source": [
    "# Dependency of loan_status with the duration of the loan (term column)\n",
    "sns.displot(lc_loan, x='term', hue='loan_status', height=3.5, aspect=1.2)"
   ]
  },
  {
   "cell_type": "markdown",
   "id": "49390717",
   "metadata": {},
   "source": [
    "#### The proportion Fully paid vs. Charged off is much greater in loans with a 36 months duration"
   ]
  },
  {
   "cell_type": "code",
   "execution_count": 15,
   "id": "728f4461",
   "metadata": {},
   "outputs": [
    {
     "data": {
      "text/plain": [
       "<Axes: xlabel='loan_status', ylabel='loan_amnt'>"
      ]
     },
     "execution_count": 15,
     "metadata": {},
     "output_type": "execute_result"
    },
    {
     "data": {
      "image/png": "[encoded data removed]",
      "text/plain": [
       "<Figure size 640x480 with 1 Axes>"
      ]
     },
     "metadata": {},
     "output_type": "display_data"
    }
   ],
   "source": [
    "# Distribution of Fully loan amounts for fully paid and charged off loans\n",
    "sns.boxplot(data=lc_loan, x='loan_status',y='loan_amnt', width=0.5)"
   ]
  },
  {
   "cell_type": "code",
   "execution_count": 16,
   "id": "f3b3161a",
   "metadata": {
    "scrolled": false
   },
   "outputs": [
    {
     "data": {
      "text/plain": [
       "<Axes: xlabel='sub_grade', ylabel='count'>"
      ]
     },
     "execution_count": 16,
     "metadata": {},
     "output_type": "execute_result"
    },
    {
     "data": {
      "image/png": "[encoded data removed]",
      "text/plain": [
       "<Figure size 1000x300 with 1 Axes>"
      ]
     },
     "metadata": {},
     "output_type": "display_data"
    }
   ],
   "source": [
    "# Distribution of loans respect to the quality score assigned (sub_grade)\n",
    "plt.figure(figsize=(10,3))\n",
    "sns.countplot(data=lc_loan, x='sub_grade', hue='loan_status', order=sorted(lc_loan['sub_grade'].unique()))"
   ]
  },
  {
   "cell_type": "markdown",
   "id": "2d0bfe6e",
   "metadata": {},
   "source": [
    "#### As shown, the proportion of 'fully paid' vs. 'charged off' loans grows between the A1 and the B3 subgrades, then it keeps reducing at a decreasing rate up to the F3 subgrade and from there it's fairly constant"
   ]
  },
  {
   "cell_type": "code",
   "execution_count": 17,
   "id": "58c20974",
   "metadata": {},
   "outputs": [
    {
     "data": {
      "text/plain": [
       "24    The initial listing status of the loan. Possible values are – W, F\n",
       "Name: Description, dtype: object"
      ]
     },
     "execution_count": 17,
     "metadata": {},
     "output_type": "execute_result"
    }
   ],
   "source": [
    "lc_info[lc_info['LoanStatNew'] == 'initial_list_status'].Description"
   ]
  },
  {
   "cell_type": "markdown",
   "id": "f8196f4b",
   "metadata": {},
   "source": [
    "#### W Loans are a random set of loans which were initially available for whole purchase for investors"
   ]
  },
  {
   "cell_type": "code",
   "execution_count": 18,
   "id": "5b3f4fdc",
   "metadata": {},
   "outputs": [
    {
     "data": {
      "text/plain": [
       "<Axes: xlabel='initial_list_status', ylabel='Count'>"
      ]
     },
     "execution_count": 18,
     "metadata": {},
     "output_type": "execute_result"
    },
    {
     "data": {
      "image/png": "[encoded data removed]",
      "text/plain": [
       "<Figure size 400x350 with 1 Axes>"
      ]
     },
     "metadata": {},
     "output_type": "display_data"
    }
   ],
   "source": [
    "# Dependency of loan_status with the initial list status\n",
    "plt.figure(figsize=(4,3.5))\n",
    "sns.histplot(lc_loan, x='initial_list_status', hue='loan_status', multiple='fill')"
   ]
  },
  {
   "cell_type": "markdown",
   "id": "6c8cdd91",
   "metadata": {},
   "source": [
    "## 2. Data transformation\n",
    "### 2.1. Direct transformations"
   ]
  },
  {
   "cell_type": "code",
   "execution_count": 19,
   "id": "60339e88",
   "metadata": {
    "scrolled": false
   },
   "outputs": [
    {
     "data": {
      "text/html": [
       "<div>\n",
       "<style scoped>\n",
       "    .dataframe tbody tr th:only-of-type {\n",
       "        vertical-align: middle;\n",
       "    }\n",
       "\n",
       "    .dataframe tbody tr th {\n",
       "        vertical-align: top;\n",
       "    }\n",
       "\n",
       "    .dataframe thead th {\n",
       "        text-align: right;\n",
       "    }\n",
       "</style>\n",
       "<table border=\"1\" class=\"dataframe\">\n",
       "  <thead>\n",
       "    <tr style=\"text-align: right;\">\n",
       "      <th></th>\n",
       "      <th>loan_amnt</th>\n",
       "      <th>term</th>\n",
       "      <th>int_rate</th>\n",
       "      <th>installment</th>\n",
       "      <th>grade</th>\n",
       "      <th>sub_grade</th>\n",
       "      <th>emp_title</th>\n",
       "      <th>emp_length</th>\n",
       "      <th>home_ownership</th>\n",
       "      <th>annual_inc</th>\n",
       "      <th>...</th>\n",
       "      <th>pub_rec</th>\n",
       "      <th>revol_bal</th>\n",
       "      <th>revol_util</th>\n",
       "      <th>total_acc</th>\n",
       "      <th>initial_list_status</th>\n",
       "      <th>application_type</th>\n",
       "      <th>mort_acc</th>\n",
       "      <th>pub_rec_bankruptcies</th>\n",
       "      <th>address</th>\n",
       "      <th>status_dummy</th>\n",
       "    </tr>\n",
       "  </thead>\n",
       "  <tbody>\n",
       "    <tr>\n",
       "      <th>0</th>\n",
       "      <td>10000.0</td>\n",
       "      <td>36 months</td>\n",
       "      <td>11.44</td>\n",
       "      <td>329.48</td>\n",
       "      <td>B</td>\n",
       "      <td>B4</td>\n",
       "      <td>Marketing</td>\n",
       "      <td>10+ years</td>\n",
       "      <td>RENT</td>\n",
       "      <td>117000.0</td>\n",
       "      <td>...</td>\n",
       "      <td>0.0</td>\n",
       "      <td>36369.0</td>\n",
       "      <td>41.8</td>\n",
       "      <td>25.0</td>\n",
       "      <td>w</td>\n",
       "      <td>INDIVIDUAL</td>\n",
       "      <td>0.0</td>\n",
       "      <td>0.0</td>\n",
       "      <td>0174 Michelle Gateway\\nMendozaberg, OK 22690</td>\n",
       "      <td>1</td>\n",
       "    </tr>\n",
       "    <tr>\n",
       "      <th>1</th>\n",
       "      <td>8000.0</td>\n",
       "      <td>36 months</td>\n",
       "      <td>11.99</td>\n",
       "      <td>265.68</td>\n",
       "      <td>B</td>\n",
       "      <td>B5</td>\n",
       "      <td>Credit analyst</td>\n",
       "      <td>4 years</td>\n",
       "      <td>MORTGAGE</td>\n",
       "      <td>65000.0</td>\n",
       "      <td>...</td>\n",
       "      <td>0.0</td>\n",
       "      <td>20131.0</td>\n",
       "      <td>53.3</td>\n",
       "      <td>27.0</td>\n",
       "      <td>f</td>\n",
       "      <td>INDIVIDUAL</td>\n",
       "      <td>3.0</td>\n",
       "      <td>0.0</td>\n",
       "      <td>1076 Carney Fort Apt. 347\\nLoganmouth, SD 05113</td>\n",
       "      <td>1</td>\n",
       "    </tr>\n",
       "    <tr>\n",
       "      <th>2</th>\n",
       "      <td>15600.0</td>\n",
       "      <td>36 months</td>\n",
       "      <td>10.49</td>\n",
       "      <td>506.97</td>\n",
       "      <td>B</td>\n",
       "      <td>B3</td>\n",
       "      <td>Statistician</td>\n",
       "      <td>&lt; 1 year</td>\n",
       "      <td>RENT</td>\n",
       "      <td>43057.0</td>\n",
       "      <td>...</td>\n",
       "      <td>0.0</td>\n",
       "      <td>11987.0</td>\n",
       "      <td>92.2</td>\n",
       "      <td>26.0</td>\n",
       "      <td>f</td>\n",
       "      <td>INDIVIDUAL</td>\n",
       "      <td>0.0</td>\n",
       "      <td>0.0</td>\n",
       "      <td>87025 Mark Dale Apt. 269\\nNew Sabrina, WV 05113</td>\n",
       "      <td>1</td>\n",
       "    </tr>\n",
       "    <tr>\n",
       "      <th>3</th>\n",
       "      <td>7200.0</td>\n",
       "      <td>36 months</td>\n",
       "      <td>6.49</td>\n",
       "      <td>220.65</td>\n",
       "      <td>A</td>\n",
       "      <td>A2</td>\n",
       "      <td>Client Advocate</td>\n",
       "      <td>6 years</td>\n",
       "      <td>RENT</td>\n",
       "      <td>54000.0</td>\n",
       "      <td>...</td>\n",
       "      <td>0.0</td>\n",
       "      <td>5472.0</td>\n",
       "      <td>21.5</td>\n",
       "      <td>13.0</td>\n",
       "      <td>f</td>\n",
       "      <td>INDIVIDUAL</td>\n",
       "      <td>0.0</td>\n",
       "      <td>0.0</td>\n",
       "      <td>823 Reid Ford\\nDelacruzside, MA 00813</td>\n",
       "      <td>1</td>\n",
       "    </tr>\n",
       "    <tr>\n",
       "      <th>4</th>\n",
       "      <td>24375.0</td>\n",
       "      <td>60 months</td>\n",
       "      <td>17.27</td>\n",
       "      <td>609.33</td>\n",
       "      <td>C</td>\n",
       "      <td>C5</td>\n",
       "      <td>Destiny Management Inc.</td>\n",
       "      <td>9 years</td>\n",
       "      <td>MORTGAGE</td>\n",
       "      <td>55000.0</td>\n",
       "      <td>...</td>\n",
       "      <td>0.0</td>\n",
       "      <td>24584.0</td>\n",
       "      <td>69.8</td>\n",
       "      <td>43.0</td>\n",
       "      <td>f</td>\n",
       "      <td>INDIVIDUAL</td>\n",
       "      <td>1.0</td>\n",
       "      <td>0.0</td>\n",
       "      <td>679 Luna Roads\\nGreggshire, VA 11650</td>\n",
       "      <td>0</td>\n",
       "    </tr>\n",
       "  </tbody>\n",
       "</table>\n",
       "<p>5 rows × 28 columns</p>\n",
       "</div>"
      ],
      "text/plain": [
       "   loan_amnt        term  int_rate  installment grade sub_grade  \\\n",
       "0    10000.0   36 months     11.44       329.48     B        B4   \n",
       "1     8000.0   36 months     11.99       265.68     B        B5   \n",
       "2    15600.0   36 months     10.49       506.97     B        B3   \n",
       "3     7200.0   36 months      6.49       220.65     A        A2   \n",
       "4    24375.0   60 months     17.27       609.33     C        C5   \n",
       "\n",
       "                 emp_title emp_length home_ownership  annual_inc  ... pub_rec  \\\n",
       "0                Marketing  10+ years           RENT    117000.0  ...     0.0   \n",
       "1          Credit analyst     4 years       MORTGAGE     65000.0  ...     0.0   \n",
       "2             Statistician   < 1 year           RENT     43057.0  ...     0.0   \n",
       "3          Client Advocate    6 years           RENT     54000.0  ...     0.0   \n",
       "4  Destiny Management Inc.    9 years       MORTGAGE     55000.0  ...     0.0   \n",
       "\n",
       "  revol_bal revol_util total_acc initial_list_status  application_type  \\\n",
       "0   36369.0       41.8      25.0                   w        INDIVIDUAL   \n",
       "1   20131.0       53.3      27.0                   f        INDIVIDUAL   \n",
       "2   11987.0       92.2      26.0                   f        INDIVIDUAL   \n",
       "3    5472.0       21.5      13.0                   f        INDIVIDUAL   \n",
       "4   24584.0       69.8      43.0                   f        INDIVIDUAL   \n",
       "\n",
       "  mort_acc  pub_rec_bankruptcies  \\\n",
       "0      0.0                   0.0   \n",
       "1      3.0                   0.0   \n",
       "2      0.0                   0.0   \n",
       "3      0.0                   0.0   \n",
       "4      1.0                   0.0   \n",
       "\n",
       "                                           address  status_dummy  \n",
       "0     0174 Michelle Gateway\\nMendozaberg, OK 22690             1  \n",
       "1  1076 Carney Fort Apt. 347\\nLoganmouth, SD 05113             1  \n",
       "2  87025 Mark Dale Apt. 269\\nNew Sabrina, WV 05113             1  \n",
       "3            823 Reid Ford\\nDelacruzside, MA 00813             1  \n",
       "4             679 Luna Roads\\nGreggshire, VA 11650             0  \n",
       "\n",
       "[5 rows x 28 columns]"
      ]
     },
     "execution_count": 19,
     "metadata": {},
     "output_type": "execute_result"
    }
   ],
   "source": [
    "lc_loan.head()"
   ]
  },
  {
   "cell_type": "markdown",
   "id": "3e14963f",
   "metadata": {},
   "source": [
    "#### We need to turn some of the features to numerical type in order to use them in our neural network"
   ]
  },
  {
   "cell_type": "markdown",
   "id": "b66c10b8",
   "metadata": {},
   "source": [
    "### emp_length"
   ]
  },
  {
   "cell_type": "code",
   "execution_count": 20,
   "id": "9cffc7df",
   "metadata": {},
   "outputs": [
    {
     "data": {
      "text/plain": [
       "array(['10+ years', '4 years', '< 1 year', '6 years', '9 years',\n",
       "       '2 years', '3 years', '8 years', '7 years', '5 years', '1 year',\n",
       "       nan], dtype=object)"
      ]
     },
     "execution_count": 20,
     "metadata": {},
     "output_type": "execute_result"
    }
   ],
   "source": [
    "lc_loan['emp_length'].unique() #There are NaN values"
   ]
  },
  {
   "cell_type": "code",
   "execution_count": 21,
   "id": "adb81214",
   "metadata": {},
   "outputs": [],
   "source": [
    "def str_to_num(str):\n",
    "    '''\n",
    "    This function returns the input variable if it's a float, 0 if the that variable starts with < and the float number contained\n",
    "    in the string variable in any other case\n",
    "    '''\n",
    "    if type(str)==float:\n",
    "        return str\n",
    "    elif str.split()[0]=='<':\n",
    "        return 0\n",
    "    else:\n",
    "        return int(re.findall(r'-?\\d+\\.?\\d*', str)[0])"
   ]
  },
  {
   "cell_type": "code",
   "execution_count": 22,
   "id": "260feae4",
   "metadata": {
    "scrolled": true
   },
   "outputs": [
    {
     "data": {
      "text/plain": [
       "array([10.,  4.,  0.,  6.,  9.,  2.,  3.,  8.,  7.,  5.,  1., nan])"
      ]
     },
     "execution_count": 22,
     "metadata": {},
     "output_type": "execute_result"
    }
   ],
   "source": [
    "lc_loan['emp_length'] = lc_loan['emp_length'].apply(str_to_num)\n",
    "lc_loan['emp_length'].unique()"
   ]
  },
  {
   "cell_type": "markdown",
   "id": "d6638b21",
   "metadata": {},
   "source": [
    "### Same process with 'term'"
   ]
  },
  {
   "cell_type": "code",
   "execution_count": 23,
   "id": "f7145cf0",
   "metadata": {},
   "outputs": [
    {
     "data": {
      "text/plain": [
       "array([36, 60], dtype=int64)"
      ]
     },
     "execution_count": 23,
     "metadata": {},
     "output_type": "execute_result"
    }
   ],
   "source": [
    "lc_loan['term'] = lc_loan['term'].apply(str_to_num)\n",
    "lc_loan['term'].unique()"
   ]
  },
  {
   "cell_type": "markdown",
   "id": "aec64397",
   "metadata": {},
   "source": [
    "### Subgrade column to numerical \n",
    "#### following the next pattern:\n",
    "A1 -> 1.00   B1 -> 2.00   ...   G1 -> 7.00\n",
    "<br>A2 -> 1.20   B2 -> 2.20   ...   G2 -> 7.20\n",
    "<br>A3 -> 1.40   B3 -> 2.40   ...   G3 -> 7.40\n",
    "<br>A4 -> 1.60   B4 -> 2.60   ...   G4 -> 7.60\n",
    "<br>A5 -> 1.80   B5 -> 2.80   ...   G5 -> 7.80"
   ]
  },
  {
   "cell_type": "code",
   "execution_count": 24,
   "id": "30c46c1e",
   "metadata": {
    "scrolled": true
   },
   "outputs": [
    {
     "data": {
      "text/plain": [
       "array(['B4', 'B5', 'B3', 'A2', 'C5', 'C3', 'A1', 'B2', 'C1', 'A5', 'E4',\n",
       "       'A4', 'A3', 'D1', 'C2', 'B1', 'D3', 'D5', 'D2', 'E1', 'E2', 'E5',\n",
       "       'F4', 'E3', 'D4', 'G1', 'F5', 'G2', 'C4', 'F1', 'F3', 'G5', 'G4',\n",
       "       'F2', 'G3'], dtype=object)"
      ]
     },
     "execution_count": 24,
     "metadata": {},
     "output_type": "execute_result"
    }
   ],
   "source": [
    "lc_loan['sub_grade'].unique()"
   ]
  },
  {
   "cell_type": "code",
   "execution_count": 25,
   "id": "d2498e61",
   "metadata": {},
   "outputs": [],
   "source": [
    "def alphnum_to_num(grad):\n",
    "    '''\n",
    "    This function makes the letter in subgrade correspond to the integer part of an output number and the number in subgrade \n",
    "    to the decimal part of the output, i.e., it turns the alphanumerical input to numerical type\n",
    "    '''\n",
    "    grad_n=[]\n",
    "    \n",
    "    #First, we check the letter\n",
    "    sep = [char for char in grad]\n",
    "    if sep[0]=='A':\n",
    "        grad_n.append(1)\n",
    "    elif sep[0]=='B':\n",
    "        grad_n.append(2)\n",
    "    elif sep[0]=='C':\n",
    "        grad_n.append(3)\n",
    "    elif sep[0]=='D':\n",
    "        grad_n.append(4)\n",
    "    elif sep[0]=='E':\n",
    "        grad_n.append(5)\n",
    "    elif sep[0]=='F':\n",
    "        grad_n.append(6)\n",
    "    elif sep[0]=='G':\n",
    "        grad_n.append(7)\n",
    "        \n",
    "    #Now let's check subgrades:\n",
    "    if sep[1]=='1':\n",
    "        grad_n.append(0.00)\n",
    "    elif sep[1]=='2':\n",
    "        grad_n.append(0.20)\n",
    "    elif sep[1]=='3':\n",
    "        grad_n.append(0.40)\n",
    "    elif sep[1]=='4':\n",
    "        grad_n.append(0.60)\n",
    "    elif sep[1]=='5':\n",
    "        grad_n.append(0.80)\n",
    "        \n",
    "    return sum(grad_n)"
   ]
  },
  {
   "cell_type": "code",
   "execution_count": 26,
   "id": "fce9ce1b",
   "metadata": {},
   "outputs": [
    {
     "data": {
      "text/plain": [
       "0"
      ]
     },
     "execution_count": 26,
     "metadata": {},
     "output_type": "execute_result"
    }
   ],
   "source": [
    "lc_loan['sub_grade'] = lc_loan['sub_grade'].apply(alphnum_to_num)\n",
    "lc_loan.sub_grade.isnull().sum() # No null values"
   ]
  },
  {
   "cell_type": "code",
   "execution_count": 27,
   "id": "49c80aaa",
   "metadata": {},
   "outputs": [],
   "source": [
    "# Drop grade column\n",
    "lc_loan.drop(['grade'], axis=1, inplace=True)"
   ]
  },
  {
   "cell_type": "code",
   "execution_count": 28,
   "id": "122b3334",
   "metadata": {},
   "outputs": [
    {
     "data": {
      "text/html": [
       "<div>\n",
       "<style scoped>\n",
       "    .dataframe tbody tr th:only-of-type {\n",
       "        vertical-align: middle;\n",
       "    }\n",
       "\n",
       "    .dataframe tbody tr th {\n",
       "        vertical-align: top;\n",
       "    }\n",
       "\n",
       "    .dataframe thead th {\n",
       "        text-align: right;\n",
       "    }\n",
       "</style>\n",
       "<table border=\"1\" class=\"dataframe\">\n",
       "  <thead>\n",
       "    <tr style=\"text-align: right;\">\n",
       "      <th></th>\n",
       "      <th>loan_amnt</th>\n",
       "      <th>term</th>\n",
       "      <th>int_rate</th>\n",
       "      <th>installment</th>\n",
       "      <th>sub_grade</th>\n",
       "      <th>emp_title</th>\n",
       "      <th>emp_length</th>\n",
       "      <th>home_ownership</th>\n",
       "      <th>annual_inc</th>\n",
       "      <th>verification_status</th>\n",
       "      <th>...</th>\n",
       "      <th>pub_rec</th>\n",
       "      <th>revol_bal</th>\n",
       "      <th>revol_util</th>\n",
       "      <th>total_acc</th>\n",
       "      <th>initial_list_status</th>\n",
       "      <th>application_type</th>\n",
       "      <th>mort_acc</th>\n",
       "      <th>pub_rec_bankruptcies</th>\n",
       "      <th>address</th>\n",
       "      <th>status_dummy</th>\n",
       "    </tr>\n",
       "  </thead>\n",
       "  <tbody>\n",
       "    <tr>\n",
       "      <th>0</th>\n",
       "      <td>10000.0</td>\n",
       "      <td>36</td>\n",
       "      <td>11.44</td>\n",
       "      <td>329.48</td>\n",
       "      <td>2.6</td>\n",
       "      <td>Marketing</td>\n",
       "      <td>10.0</td>\n",
       "      <td>RENT</td>\n",
       "      <td>117000.0</td>\n",
       "      <td>Not Verified</td>\n",
       "      <td>...</td>\n",
       "      <td>0.0</td>\n",
       "      <td>36369.0</td>\n",
       "      <td>41.8</td>\n",
       "      <td>25.0</td>\n",
       "      <td>w</td>\n",
       "      <td>INDIVIDUAL</td>\n",
       "      <td>0.0</td>\n",
       "      <td>0.0</td>\n",
       "      <td>0174 Michelle Gateway\\nMendozaberg, OK 22690</td>\n",
       "      <td>1</td>\n",
       "    </tr>\n",
       "    <tr>\n",
       "      <th>1</th>\n",
       "      <td>8000.0</td>\n",
       "      <td>36</td>\n",
       "      <td>11.99</td>\n",
       "      <td>265.68</td>\n",
       "      <td>2.8</td>\n",
       "      <td>Credit analyst</td>\n",
       "      <td>4.0</td>\n",
       "      <td>MORTGAGE</td>\n",
       "      <td>65000.0</td>\n",
       "      <td>Not Verified</td>\n",
       "      <td>...</td>\n",
       "      <td>0.0</td>\n",
       "      <td>20131.0</td>\n",
       "      <td>53.3</td>\n",
       "      <td>27.0</td>\n",
       "      <td>f</td>\n",
       "      <td>INDIVIDUAL</td>\n",
       "      <td>3.0</td>\n",
       "      <td>0.0</td>\n",
       "      <td>1076 Carney Fort Apt. 347\\nLoganmouth, SD 05113</td>\n",
       "      <td>1</td>\n",
       "    </tr>\n",
       "    <tr>\n",
       "      <th>2</th>\n",
       "      <td>15600.0</td>\n",
       "      <td>36</td>\n",
       "      <td>10.49</td>\n",
       "      <td>506.97</td>\n",
       "      <td>2.4</td>\n",
       "      <td>Statistician</td>\n",
       "      <td>0.0</td>\n",
       "      <td>RENT</td>\n",
       "      <td>43057.0</td>\n",
       "      <td>Source Verified</td>\n",
       "      <td>...</td>\n",
       "      <td>0.0</td>\n",
       "      <td>11987.0</td>\n",
       "      <td>92.2</td>\n",
       "      <td>26.0</td>\n",
       "      <td>f</td>\n",
       "      <td>INDIVIDUAL</td>\n",
       "      <td>0.0</td>\n",
       "      <td>0.0</td>\n",
       "      <td>87025 Mark Dale Apt. 269\\nNew Sabrina, WV 05113</td>\n",
       "      <td>1</td>\n",
       "    </tr>\n",
       "    <tr>\n",
       "      <th>3</th>\n",
       "      <td>7200.0</td>\n",
       "      <td>36</td>\n",
       "      <td>6.49</td>\n",
       "      <td>220.65</td>\n",
       "      <td>1.2</td>\n",
       "      <td>Client Advocate</td>\n",
       "      <td>6.0</td>\n",
       "      <td>RENT</td>\n",
       "      <td>54000.0</td>\n",
       "      <td>Not Verified</td>\n",
       "      <td>...</td>\n",
       "      <td>0.0</td>\n",
       "      <td>5472.0</td>\n",
       "      <td>21.5</td>\n",
       "      <td>13.0</td>\n",
       "      <td>f</td>\n",
       "      <td>INDIVIDUAL</td>\n",
       "      <td>0.0</td>\n",
       "      <td>0.0</td>\n",
       "      <td>823 Reid Ford\\nDelacruzside, MA 00813</td>\n",
       "      <td>1</td>\n",
       "    </tr>\n",
       "    <tr>\n",
       "      <th>4</th>\n",
       "      <td>24375.0</td>\n",
       "      <td>60</td>\n",
       "      <td>17.27</td>\n",
       "      <td>609.33</td>\n",
       "      <td>3.8</td>\n",
       "      <td>Destiny Management Inc.</td>\n",
       "      <td>9.0</td>\n",
       "      <td>MORTGAGE</td>\n",
       "      <td>55000.0</td>\n",
       "      <td>Verified</td>\n",
       "      <td>...</td>\n",
       "      <td>0.0</td>\n",
       "      <td>24584.0</td>\n",
       "      <td>69.8</td>\n",
       "      <td>43.0</td>\n",
       "      <td>f</td>\n",
       "      <td>INDIVIDUAL</td>\n",
       "      <td>1.0</td>\n",
       "      <td>0.0</td>\n",
       "      <td>679 Luna Roads\\nGreggshire, VA 11650</td>\n",
       "      <td>0</td>\n",
       "    </tr>\n",
       "  </tbody>\n",
       "</table>\n",
       "<p>5 rows × 27 columns</p>\n",
       "</div>"
      ],
      "text/plain": [
       "   loan_amnt  term  int_rate  installment  sub_grade                emp_title  \\\n",
       "0    10000.0    36     11.44       329.48        2.6                Marketing   \n",
       "1     8000.0    36     11.99       265.68        2.8          Credit analyst    \n",
       "2    15600.0    36     10.49       506.97        2.4             Statistician   \n",
       "3     7200.0    36      6.49       220.65        1.2          Client Advocate   \n",
       "4    24375.0    60     17.27       609.33        3.8  Destiny Management Inc.   \n",
       "\n",
       "   emp_length home_ownership  annual_inc verification_status  ... pub_rec  \\\n",
       "0        10.0           RENT    117000.0        Not Verified  ...     0.0   \n",
       "1         4.0       MORTGAGE     65000.0        Not Verified  ...     0.0   \n",
       "2         0.0           RENT     43057.0     Source Verified  ...     0.0   \n",
       "3         6.0           RENT     54000.0        Not Verified  ...     0.0   \n",
       "4         9.0       MORTGAGE     55000.0            Verified  ...     0.0   \n",
       "\n",
       "  revol_bal revol_util total_acc  initial_list_status application_type  \\\n",
       "0   36369.0       41.8      25.0                    w       INDIVIDUAL   \n",
       "1   20131.0       53.3      27.0                    f       INDIVIDUAL   \n",
       "2   11987.0       92.2      26.0                    f       INDIVIDUAL   \n",
       "3    5472.0       21.5      13.0                    f       INDIVIDUAL   \n",
       "4   24584.0       69.8      43.0                    f       INDIVIDUAL   \n",
       "\n",
       "   mort_acc  pub_rec_bankruptcies  \\\n",
       "0       0.0                   0.0   \n",
       "1       3.0                   0.0   \n",
       "2       0.0                   0.0   \n",
       "3       0.0                   0.0   \n",
       "4       1.0                   0.0   \n",
       "\n",
       "                                           address  status_dummy  \n",
       "0     0174 Michelle Gateway\\nMendozaberg, OK 22690             1  \n",
       "1  1076 Carney Fort Apt. 347\\nLoganmouth, SD 05113             1  \n",
       "2  87025 Mark Dale Apt. 269\\nNew Sabrina, WV 05113             1  \n",
       "3            823 Reid Ford\\nDelacruzside, MA 00813             1  \n",
       "4             679 Luna Roads\\nGreggshire, VA 11650             0  \n",
       "\n",
       "[5 rows x 27 columns]"
      ]
     },
     "execution_count": 28,
     "metadata": {},
     "output_type": "execute_result"
    }
   ],
   "source": [
    "lc_loan.head()"
   ]
  },
  {
   "cell_type": "markdown",
   "id": "1527afb7",
   "metadata": {},
   "source": [
    "## 2.2. Create dummy variables for categorical features\n",
    "### application_type"
   ]
  },
  {
   "cell_type": "code",
   "execution_count": 29,
   "id": "a521072f",
   "metadata": {},
   "outputs": [
    {
     "data": {
      "text/plain": [
       "array(['INDIVIDUAL', 'JOINT', 'DIRECT_PAY'], dtype=object)"
      ]
     },
     "execution_count": 29,
     "metadata": {},
     "output_type": "execute_result"
    }
   ],
   "source": [
    "lc_loan['application_type'].unique()"
   ]
  },
  {
   "cell_type": "code",
   "execution_count": 30,
   "id": "485b67cb",
   "metadata": {
    "scrolled": true
   },
   "outputs": [
    {
     "data": {
      "text/html": [
       "<div>\n",
       "<style scoped>\n",
       "    .dataframe tbody tr th:only-of-type {\n",
       "        vertical-align: middle;\n",
       "    }\n",
       "\n",
       "    .dataframe tbody tr th {\n",
       "        vertical-align: top;\n",
       "    }\n",
       "\n",
       "    .dataframe thead th {\n",
       "        text-align: right;\n",
       "    }\n",
       "</style>\n",
       "<table border=\"1\" class=\"dataframe\">\n",
       "  <thead>\n",
       "    <tr style=\"text-align: right;\">\n",
       "      <th></th>\n",
       "      <th>loan_amnt</th>\n",
       "      <th>term</th>\n",
       "      <th>int_rate</th>\n",
       "      <th>installment</th>\n",
       "      <th>sub_grade</th>\n",
       "      <th>emp_title</th>\n",
       "      <th>emp_length</th>\n",
       "      <th>home_ownership</th>\n",
       "      <th>annual_inc</th>\n",
       "      <th>verification_status</th>\n",
       "      <th>...</th>\n",
       "      <th>revol_bal</th>\n",
       "      <th>revol_util</th>\n",
       "      <th>total_acc</th>\n",
       "      <th>initial_list_status</th>\n",
       "      <th>mort_acc</th>\n",
       "      <th>pub_rec_bankruptcies</th>\n",
       "      <th>address</th>\n",
       "      <th>status_dummy</th>\n",
       "      <th>dum_INDIVIDUAL</th>\n",
       "      <th>dum_JOINT</th>\n",
       "    </tr>\n",
       "  </thead>\n",
       "  <tbody>\n",
       "    <tr>\n",
       "      <th>0</th>\n",
       "      <td>10000.0</td>\n",
       "      <td>36</td>\n",
       "      <td>11.44</td>\n",
       "      <td>329.48</td>\n",
       "      <td>2.6</td>\n",
       "      <td>Marketing</td>\n",
       "      <td>10.0</td>\n",
       "      <td>RENT</td>\n",
       "      <td>117000.0</td>\n",
       "      <td>Not Verified</td>\n",
       "      <td>...</td>\n",
       "      <td>36369.0</td>\n",
       "      <td>41.8</td>\n",
       "      <td>25.0</td>\n",
       "      <td>w</td>\n",
       "      <td>0.0</td>\n",
       "      <td>0.0</td>\n",
       "      <td>0174 Michelle Gateway\\nMendozaberg, OK 22690</td>\n",
       "      <td>1</td>\n",
       "      <td>1</td>\n",
       "      <td>0</td>\n",
       "    </tr>\n",
       "    <tr>\n",
       "      <th>1</th>\n",
       "      <td>8000.0</td>\n",
       "      <td>36</td>\n",
       "      <td>11.99</td>\n",
       "      <td>265.68</td>\n",
       "      <td>2.8</td>\n",
       "      <td>Credit analyst</td>\n",
       "      <td>4.0</td>\n",
       "      <td>MORTGAGE</td>\n",
       "      <td>65000.0</td>\n",
       "      <td>Not Verified</td>\n",
       "      <td>...</td>\n",
       "      <td>20131.0</td>\n",
       "      <td>53.3</td>\n",
       "      <td>27.0</td>\n",
       "      <td>f</td>\n",
       "      <td>3.0</td>\n",
       "      <td>0.0</td>\n",
       "      <td>1076 Carney Fort Apt. 347\\nLoganmouth, SD 05113</td>\n",
       "      <td>1</td>\n",
       "      <td>1</td>\n",
       "      <td>0</td>\n",
       "    </tr>\n",
       "    <tr>\n",
       "      <th>2</th>\n",
       "      <td>15600.0</td>\n",
       "      <td>36</td>\n",
       "      <td>10.49</td>\n",
       "      <td>506.97</td>\n",
       "      <td>2.4</td>\n",
       "      <td>Statistician</td>\n",
       "      <td>0.0</td>\n",
       "      <td>RENT</td>\n",
       "      <td>43057.0</td>\n",
       "      <td>Source Verified</td>\n",
       "      <td>...</td>\n",
       "      <td>11987.0</td>\n",
       "      <td>92.2</td>\n",
       "      <td>26.0</td>\n",
       "      <td>f</td>\n",
       "      <td>0.0</td>\n",
       "      <td>0.0</td>\n",
       "      <td>87025 Mark Dale Apt. 269\\nNew Sabrina, WV 05113</td>\n",
       "      <td>1</td>\n",
       "      <td>1</td>\n",
       "      <td>0</td>\n",
       "    </tr>\n",
       "    <tr>\n",
       "      <th>3</th>\n",
       "      <td>7200.0</td>\n",
       "      <td>36</td>\n",
       "      <td>6.49</td>\n",
       "      <td>220.65</td>\n",
       "      <td>1.2</td>\n",
       "      <td>Client Advocate</td>\n",
       "      <td>6.0</td>\n",
       "      <td>RENT</td>\n",
       "      <td>54000.0</td>\n",
       "      <td>Not Verified</td>\n",
       "      <td>...</td>\n",
       "      <td>5472.0</td>\n",
       "      <td>21.5</td>\n",
       "      <td>13.0</td>\n",
       "      <td>f</td>\n",
       "      <td>0.0</td>\n",
       "      <td>0.0</td>\n",
       "      <td>823 Reid Ford\\nDelacruzside, MA 00813</td>\n",
       "      <td>1</td>\n",
       "      <td>1</td>\n",
       "      <td>0</td>\n",
       "    </tr>\n",
       "    <tr>\n",
       "      <th>4</th>\n",
       "      <td>24375.0</td>\n",
       "      <td>60</td>\n",
       "      <td>17.27</td>\n",
       "      <td>609.33</td>\n",
       "      <td>3.8</td>\n",
       "      <td>Destiny Management Inc.</td>\n",
       "      <td>9.0</td>\n",
       "      <td>MORTGAGE</td>\n",
       "      <td>55000.0</td>\n",
       "      <td>Verified</td>\n",
       "      <td>...</td>\n",
       "      <td>24584.0</td>\n",
       "      <td>69.8</td>\n",
       "      <td>43.0</td>\n",
       "      <td>f</td>\n",
       "      <td>1.0</td>\n",
       "      <td>0.0</td>\n",
       "      <td>679 Luna Roads\\nGreggshire, VA 11650</td>\n",
       "      <td>0</td>\n",
       "      <td>1</td>\n",
       "      <td>0</td>\n",
       "    </tr>\n",
       "  </tbody>\n",
       "</table>\n",
       "<p>5 rows × 28 columns</p>\n",
       "</div>"
      ],
      "text/plain": [
       "   loan_amnt  term  int_rate  installment  sub_grade                emp_title  \\\n",
       "0    10000.0    36     11.44       329.48        2.6                Marketing   \n",
       "1     8000.0    36     11.99       265.68        2.8          Credit analyst    \n",
       "2    15600.0    36     10.49       506.97        2.4             Statistician   \n",
       "3     7200.0    36      6.49       220.65        1.2          Client Advocate   \n",
       "4    24375.0    60     17.27       609.33        3.8  Destiny Management Inc.   \n",
       "\n",
       "   emp_length home_ownership  annual_inc verification_status  ... revol_bal  \\\n",
       "0        10.0           RENT    117000.0        Not Verified  ...   36369.0   \n",
       "1         4.0       MORTGAGE     65000.0        Not Verified  ...   20131.0   \n",
       "2         0.0           RENT     43057.0     Source Verified  ...   11987.0   \n",
       "3         6.0           RENT     54000.0        Not Verified  ...    5472.0   \n",
       "4         9.0       MORTGAGE     55000.0            Verified  ...   24584.0   \n",
       "\n",
       "  revol_util total_acc initial_list_status  mort_acc pub_rec_bankruptcies  \\\n",
       "0       41.8      25.0                   w       0.0                  0.0   \n",
       "1       53.3      27.0                   f       3.0                  0.0   \n",
       "2       92.2      26.0                   f       0.0                  0.0   \n",
       "3       21.5      13.0                   f       0.0                  0.0   \n",
       "4       69.8      43.0                   f       1.0                  0.0   \n",
       "\n",
       "                                           address  status_dummy  \\\n",
       "0     0174 Michelle Gateway\\nMendozaberg, OK 22690             1   \n",
       "1  1076 Carney Fort Apt. 347\\nLoganmouth, SD 05113             1   \n",
       "2  87025 Mark Dale Apt. 269\\nNew Sabrina, WV 05113             1   \n",
       "3            823 Reid Ford\\nDelacruzside, MA 00813             1   \n",
       "4             679 Luna Roads\\nGreggshire, VA 11650             0   \n",
       "\n",
       "   dum_INDIVIDUAL  dum_JOINT  \n",
       "0               1          0  \n",
       "1               1          0  \n",
       "2               1          0  \n",
       "3               1          0  \n",
       "4               1          0  \n",
       "\n",
       "[5 rows x 28 columns]"
      ]
     },
     "execution_count": 30,
     "metadata": {},
     "output_type": "execute_result"
    }
   ],
   "source": [
    "lc_loan = pd.get_dummies(data=lc_loan, prefix='dum', columns=['application_type'], drop_first=True)\n",
    "lc_loan.head()"
   ]
  },
  {
   "cell_type": "code",
   "execution_count": 31,
   "id": "d32b9b65",
   "metadata": {},
   "outputs": [
    {
     "data": {
      "text/plain": [
       "Index(['loan_amnt', 'term', 'int_rate', 'installment', 'sub_grade',\n",
       "       'emp_title', 'emp_length', 'home_ownership', 'annual_inc',\n",
       "       'verification_status', 'issue_d', 'loan_status', 'purpose', 'title',\n",
       "       'dti', 'earliest_cr_line', 'open_acc', 'pub_rec', 'revol_bal',\n",
       "       'revol_util', 'total_acc', 'initial_list_status', 'mort_acc',\n",
       "       'pub_rec_bankruptcies', 'address', 'status_dummy', 'dum_INDIVIDUAL',\n",
       "       'dum_JOINT'],\n",
       "      dtype='object')"
      ]
     },
     "execution_count": 31,
     "metadata": {},
     "output_type": "execute_result"
    }
   ],
   "source": [
    "lc_loan.columns"
   ]
  },
  {
   "cell_type": "code",
   "execution_count": 32,
   "id": "4d716445",
   "metadata": {},
   "outputs": [],
   "source": [
    "# We can rename the new columns if we want\n",
    "lc_loan.rename(\n",
    "    columns={\"dum_INDIVIDUAL\": \"Individual\", \"dum_JOINT\": \"Joint\"},\n",
    "    inplace=True\n",
    ")"
   ]
  },
  {
   "cell_type": "markdown",
   "id": "d364d514",
   "metadata": {},
   "source": [
    "### emp_title"
   ]
  },
  {
   "cell_type": "code",
   "execution_count": 33,
   "id": "8dc08299",
   "metadata": {},
   "outputs": [
    {
     "data": {
      "text/plain": [
       "173105"
      ]
     },
     "execution_count": 33,
     "metadata": {},
     "output_type": "execute_result"
    }
   ],
   "source": [
    "# Number of unique employments\n",
    "lc_loan['emp_title'].nunique()"
   ]
  },
  {
   "cell_type": "code",
   "execution_count": 34,
   "id": "0c76df17",
   "metadata": {
    "scrolled": true
   },
   "outputs": [
    {
     "data": {
      "text/plain": [
       "Teacher                     4389\n",
       "Manager                     4250\n",
       "Registered Nurse            1856\n",
       "RN                          1846\n",
       "Supervisor                  1830\n",
       "Sales                       1638\n",
       "Project Manager             1505\n",
       "Owner                       1410\n",
       "Driver                      1339\n",
       "Office Manager              1218\n",
       "manager                     1145\n",
       "Director                    1089\n",
       "General Manager             1074\n",
       "Engineer                     995\n",
       "teacher                      962\n",
       "driver                       882\n",
       "Vice President               857\n",
       "Operations Manager           763\n",
       "Administrative Assistant     756\n",
       "Accountant                   748\n",
       "President                    742\n",
       "owner                        697\n",
       "Account Manager              692\n",
       "Police Officer               686\n",
       "supervisor                   673\n",
       "Attorney                     667\n",
       "Sales Manager                665\n",
       "sales                        645\n",
       "Executive Assistant          642\n",
       "Analyst                      623\n",
       "Name: emp_title, dtype: int64"
      ]
     },
     "execution_count": 34,
     "metadata": {},
     "output_type": "execute_result"
    }
   ],
   "source": [
    "lc_loan['emp_title'].value_counts()[:30]"
   ]
  },
  {
   "cell_type": "markdown",
   "id": "7f3c2387",
   "metadata": {},
   "source": [
    "#### As there are too many different jobs, we drop emp_title"
   ]
  },
  {
   "cell_type": "code",
   "execution_count": 35,
   "id": "9f2a62af",
   "metadata": {},
   "outputs": [],
   "source": [
    "lc_loan.drop('emp_title', axis=1, inplace=True)"
   ]
  },
  {
   "cell_type": "markdown",
   "id": "27f1c62f",
   "metadata": {},
   "source": [
    "### title and purpose columns"
   ]
  },
  {
   "cell_type": "code",
   "execution_count": 36,
   "id": "24c4111f",
   "metadata": {},
   "outputs": [
    {
     "data": {
      "text/plain": [
       "0                   Vacation\n",
       "1         Debt consolidation\n",
       "2    Credit card refinancing\n",
       "3    Credit card refinancing\n",
       "4      Credit Card Refinance\n",
       "5         Debt consolidation\n",
       "6           Home improvement\n",
       "7       No More Credit Cards\n",
       "8         Debt consolidation\n",
       "9         Debt Consolidation\n",
       "Name: title, dtype: object"
      ]
     },
     "execution_count": 36,
     "metadata": {},
     "output_type": "execute_result"
    }
   ],
   "source": [
    "lc_loan['title'].head(10)"
   ]
  },
  {
   "cell_type": "code",
   "execution_count": 37,
   "id": "e74b4841",
   "metadata": {},
   "outputs": [
    {
     "data": {
      "text/plain": [
       "0              vacation\n",
       "1    debt_consolidation\n",
       "2           credit_card\n",
       "3           credit_card\n",
       "4           credit_card\n",
       "5    debt_consolidation\n",
       "6      home_improvement\n",
       "7           credit_card\n",
       "8    debt_consolidation\n",
       "9    debt_consolidation\n",
       "Name: purpose, dtype: object"
      ]
     },
     "execution_count": 37,
     "metadata": {},
     "output_type": "execute_result"
    }
   ],
   "source": [
    "lc_loan['purpose'].head(10)"
   ]
  },
  {
   "cell_type": "markdown",
   "id": "54ca5760",
   "metadata": {},
   "source": [
    "#### title and purpose show about the same information. We can drop title"
   ]
  },
  {
   "cell_type": "code",
   "execution_count": 38,
   "id": "1a095f3f",
   "metadata": {},
   "outputs": [],
   "source": [
    "lc_loan.drop('title', axis=1, inplace=True)"
   ]
  },
  {
   "cell_type": "code",
   "execution_count": 39,
   "id": "5fa08246",
   "metadata": {},
   "outputs": [
    {
     "data": {
      "text/plain": [
       "14"
      ]
     },
     "execution_count": 39,
     "metadata": {},
     "output_type": "execute_result"
    }
   ],
   "source": [
    "# Number of unique values\n",
    "lc_loan['purpose'].nunique()"
   ]
  },
  {
   "cell_type": "markdown",
   "id": "db0f26a0",
   "metadata": {},
   "source": [
    "#### Let's make it a dummy variable"
   ]
  },
  {
   "cell_type": "code",
   "execution_count": 40,
   "id": "615d48f3",
   "metadata": {},
   "outputs": [],
   "source": [
    "lc_loan = pd.get_dummies(data=lc_loan, prefix='dum', columns=['purpose'], drop_first=True)"
   ]
  },
  {
   "cell_type": "code",
   "execution_count": 41,
   "id": "ce7092ac",
   "metadata": {
    "scrolled": true
   },
   "outputs": [
    {
     "name": "stdout",
     "output_type": "stream",
     "text": [
      "<class 'pandas.core.frame.DataFrame'>\n",
      "RangeIndex: 396030 entries, 0 to 396029\n",
      "Data columns (total 38 columns):\n",
      " #   Column                  Non-Null Count   Dtype  \n",
      "---  ------                  --------------   -----  \n",
      " 0   loan_amnt               396030 non-null  float64\n",
      " 1   term                    396030 non-null  int64  \n",
      " 2   int_rate                396030 non-null  float64\n",
      " 3   installment             396030 non-null  float64\n",
      " 4   sub_grade               396030 non-null  float64\n",
      " 5   emp_length              377729 non-null  float64\n",
      " 6   home_ownership          396030 non-null  object \n",
      " 7   annual_inc              396030 non-null  float64\n",
      " 8   verification_status     396030 non-null  object \n",
      " 9   issue_d                 396030 non-null  object \n",
      " 10  loan_status             396030 non-null  object \n",
      " 11  dti                     396030 non-null  float64\n",
      " 12  earliest_cr_line        396030 non-null  object \n",
      " 13  open_acc                396030 non-null  float64\n",
      " 14  pub_rec                 396030 non-null  float64\n",
      " 15  revol_bal               396030 non-null  float64\n",
      " 16  revol_util              395754 non-null  float64\n",
      " 17  total_acc               396030 non-null  float64\n",
      " 18  initial_list_status     396030 non-null  object \n",
      " 19  mort_acc                358235 non-null  float64\n",
      " 20  pub_rec_bankruptcies    395495 non-null  float64\n",
      " 21  address                 396030 non-null  object \n",
      " 22  status_dummy            396030 non-null  uint8  \n",
      " 23  Individual              396030 non-null  uint8  \n",
      " 24  Joint                   396030 non-null  uint8  \n",
      " 25  dum_credit_card         396030 non-null  uint8  \n",
      " 26  dum_debt_consolidation  396030 non-null  uint8  \n",
      " 27  dum_educational         396030 non-null  uint8  \n",
      " 28  dum_home_improvement    396030 non-null  uint8  \n",
      " 29  dum_house               396030 non-null  uint8  \n",
      " 30  dum_major_purchase      396030 non-null  uint8  \n",
      " 31  dum_medical             396030 non-null  uint8  \n",
      " 32  dum_moving              396030 non-null  uint8  \n",
      " 33  dum_other               396030 non-null  uint8  \n",
      " 34  dum_renewable_energy    396030 non-null  uint8  \n",
      " 35  dum_small_business      396030 non-null  uint8  \n",
      " 36  dum_vacation            396030 non-null  uint8  \n",
      " 37  dum_wedding             396030 non-null  uint8  \n",
      "dtypes: float64(14), int64(1), object(7), uint8(16)\n",
      "memory usage: 72.5+ MB\n"
     ]
    }
   ],
   "source": [
    "lc_loan.info()"
   ]
  },
  {
   "cell_type": "markdown",
   "id": "3a9b968b",
   "metadata": {},
   "source": [
    "### home_ownership"
   ]
  },
  {
   "cell_type": "code",
   "execution_count": 42,
   "id": "5dd38f4d",
   "metadata": {
    "scrolled": true
   },
   "outputs": [
    {
     "data": {
      "text/plain": [
       "MORTGAGE    198348\n",
       "RENT        159790\n",
       "OWN          37746\n",
       "OTHER          112\n",
       "NONE            31\n",
       "ANY              3\n",
       "Name: home_ownership, dtype: int64"
      ]
     },
     "execution_count": 42,
     "metadata": {},
     "output_type": "execute_result"
    }
   ],
   "source": [
    "lc_loan['home_ownership'].value_counts()"
   ]
  },
  {
   "cell_type": "markdown",
   "id": "2255ad07",
   "metadata": {},
   "source": [
    "##### Let's join Other, None and Any into 1 category called Other"
   ]
  },
  {
   "cell_type": "code",
   "execution_count": 43,
   "id": "6b6592f3",
   "metadata": {},
   "outputs": [],
   "source": [
    "lc_loan['home_own'] = lc_loan['home_ownership']"
   ]
  },
  {
   "cell_type": "code",
   "execution_count": 44,
   "id": "c91b056b",
   "metadata": {
    "scrolled": true
   },
   "outputs": [
    {
     "data": {
      "text/html": [
       "<div>\n",
       "<style scoped>\n",
       "    .dataframe tbody tr th:only-of-type {\n",
       "        vertical-align: middle;\n",
       "    }\n",
       "\n",
       "    .dataframe tbody tr th {\n",
       "        vertical-align: top;\n",
       "    }\n",
       "\n",
       "    .dataframe thead th {\n",
       "        text-align: right;\n",
       "    }\n",
       "</style>\n",
       "<table border=\"1\" class=\"dataframe\">\n",
       "  <thead>\n",
       "    <tr style=\"text-align: right;\">\n",
       "      <th></th>\n",
       "      <th>loan_amnt</th>\n",
       "      <th>term</th>\n",
       "      <th>int_rate</th>\n",
       "      <th>installment</th>\n",
       "      <th>sub_grade</th>\n",
       "      <th>emp_length</th>\n",
       "      <th>home_ownership</th>\n",
       "      <th>annual_inc</th>\n",
       "      <th>verification_status</th>\n",
       "      <th>issue_d</th>\n",
       "      <th>...</th>\n",
       "      <th>dum_house</th>\n",
       "      <th>dum_major_purchase</th>\n",
       "      <th>dum_medical</th>\n",
       "      <th>dum_moving</th>\n",
       "      <th>dum_other</th>\n",
       "      <th>dum_renewable_energy</th>\n",
       "      <th>dum_small_business</th>\n",
       "      <th>dum_vacation</th>\n",
       "      <th>dum_wedding</th>\n",
       "      <th>home_own</th>\n",
       "    </tr>\n",
       "  </thead>\n",
       "  <tbody>\n",
       "    <tr>\n",
       "      <th>0</th>\n",
       "      <td>10000.0</td>\n",
       "      <td>36</td>\n",
       "      <td>11.44</td>\n",
       "      <td>329.48</td>\n",
       "      <td>2.6</td>\n",
       "      <td>10.0</td>\n",
       "      <td>RENT</td>\n",
       "      <td>117000.0</td>\n",
       "      <td>Not Verified</td>\n",
       "      <td>Jan-2015</td>\n",
       "      <td>...</td>\n",
       "      <td>0</td>\n",
       "      <td>0</td>\n",
       "      <td>0</td>\n",
       "      <td>0</td>\n",
       "      <td>0</td>\n",
       "      <td>0</td>\n",
       "      <td>0</td>\n",
       "      <td>1</td>\n",
       "      <td>0</td>\n",
       "      <td>RENT</td>\n",
       "    </tr>\n",
       "    <tr>\n",
       "      <th>1</th>\n",
       "      <td>8000.0</td>\n",
       "      <td>36</td>\n",
       "      <td>11.99</td>\n",
       "      <td>265.68</td>\n",
       "      <td>2.8</td>\n",
       "      <td>4.0</td>\n",
       "      <td>MORTGAGE</td>\n",
       "      <td>65000.0</td>\n",
       "      <td>Not Verified</td>\n",
       "      <td>Jan-2015</td>\n",
       "      <td>...</td>\n",
       "      <td>0</td>\n",
       "      <td>0</td>\n",
       "      <td>0</td>\n",
       "      <td>0</td>\n",
       "      <td>0</td>\n",
       "      <td>0</td>\n",
       "      <td>0</td>\n",
       "      <td>0</td>\n",
       "      <td>0</td>\n",
       "      <td>MORTGAGE</td>\n",
       "    </tr>\n",
       "    <tr>\n",
       "      <th>2</th>\n",
       "      <td>15600.0</td>\n",
       "      <td>36</td>\n",
       "      <td>10.49</td>\n",
       "      <td>506.97</td>\n",
       "      <td>2.4</td>\n",
       "      <td>0.0</td>\n",
       "      <td>RENT</td>\n",
       "      <td>43057.0</td>\n",
       "      <td>Source Verified</td>\n",
       "      <td>Jan-2015</td>\n",
       "      <td>...</td>\n",
       "      <td>0</td>\n",
       "      <td>0</td>\n",
       "      <td>0</td>\n",
       "      <td>0</td>\n",
       "      <td>0</td>\n",
       "      <td>0</td>\n",
       "      <td>0</td>\n",
       "      <td>0</td>\n",
       "      <td>0</td>\n",
       "      <td>RENT</td>\n",
       "    </tr>\n",
       "    <tr>\n",
       "      <th>3</th>\n",
       "      <td>7200.0</td>\n",
       "      <td>36</td>\n",
       "      <td>6.49</td>\n",
       "      <td>220.65</td>\n",
       "      <td>1.2</td>\n",
       "      <td>6.0</td>\n",
       "      <td>RENT</td>\n",
       "      <td>54000.0</td>\n",
       "      <td>Not Verified</td>\n",
       "      <td>Nov-2014</td>\n",
       "      <td>...</td>\n",
       "      <td>0</td>\n",
       "      <td>0</td>\n",
       "      <td>0</td>\n",
       "      <td>0</td>\n",
       "      <td>0</td>\n",
       "      <td>0</td>\n",
       "      <td>0</td>\n",
       "      <td>0</td>\n",
       "      <td>0</td>\n",
       "      <td>RENT</td>\n",
       "    </tr>\n",
       "    <tr>\n",
       "      <th>4</th>\n",
       "      <td>24375.0</td>\n",
       "      <td>60</td>\n",
       "      <td>17.27</td>\n",
       "      <td>609.33</td>\n",
       "      <td>3.8</td>\n",
       "      <td>9.0</td>\n",
       "      <td>MORTGAGE</td>\n",
       "      <td>55000.0</td>\n",
       "      <td>Verified</td>\n",
       "      <td>Apr-2013</td>\n",
       "      <td>...</td>\n",
       "      <td>0</td>\n",
       "      <td>0</td>\n",
       "      <td>0</td>\n",
       "      <td>0</td>\n",
       "      <td>0</td>\n",
       "      <td>0</td>\n",
       "      <td>0</td>\n",
       "      <td>0</td>\n",
       "      <td>0</td>\n",
       "      <td>MORTGAGE</td>\n",
       "    </tr>\n",
       "    <tr>\n",
       "      <th>5</th>\n",
       "      <td>20000.0</td>\n",
       "      <td>36</td>\n",
       "      <td>13.33</td>\n",
       "      <td>677.07</td>\n",
       "      <td>3.4</td>\n",
       "      <td>10.0</td>\n",
       "      <td>MORTGAGE</td>\n",
       "      <td>86788.0</td>\n",
       "      <td>Verified</td>\n",
       "      <td>Sep-2015</td>\n",
       "      <td>...</td>\n",
       "      <td>0</td>\n",
       "      <td>0</td>\n",
       "      <td>0</td>\n",
       "      <td>0</td>\n",
       "      <td>0</td>\n",
       "      <td>0</td>\n",
       "      <td>0</td>\n",
       "      <td>0</td>\n",
       "      <td>0</td>\n",
       "      <td>MORTGAGE</td>\n",
       "    </tr>\n",
       "    <tr>\n",
       "      <th>6</th>\n",
       "      <td>18000.0</td>\n",
       "      <td>36</td>\n",
       "      <td>5.32</td>\n",
       "      <td>542.07</td>\n",
       "      <td>1.0</td>\n",
       "      <td>2.0</td>\n",
       "      <td>MORTGAGE</td>\n",
       "      <td>125000.0</td>\n",
       "      <td>Source Verified</td>\n",
       "      <td>Sep-2015</td>\n",
       "      <td>...</td>\n",
       "      <td>0</td>\n",
       "      <td>0</td>\n",
       "      <td>0</td>\n",
       "      <td>0</td>\n",
       "      <td>0</td>\n",
       "      <td>0</td>\n",
       "      <td>0</td>\n",
       "      <td>0</td>\n",
       "      <td>0</td>\n",
       "      <td>MORTGAGE</td>\n",
       "    </tr>\n",
       "    <tr>\n",
       "      <th>7</th>\n",
       "      <td>13000.0</td>\n",
       "      <td>36</td>\n",
       "      <td>11.14</td>\n",
       "      <td>426.47</td>\n",
       "      <td>2.2</td>\n",
       "      <td>10.0</td>\n",
       "      <td>RENT</td>\n",
       "      <td>46000.0</td>\n",
       "      <td>Not Verified</td>\n",
       "      <td>Sep-2012</td>\n",
       "      <td>...</td>\n",
       "      <td>0</td>\n",
       "      <td>0</td>\n",
       "      <td>0</td>\n",
       "      <td>0</td>\n",
       "      <td>0</td>\n",
       "      <td>0</td>\n",
       "      <td>0</td>\n",
       "      <td>0</td>\n",
       "      <td>0</td>\n",
       "      <td>RENT</td>\n",
       "    </tr>\n",
       "    <tr>\n",
       "      <th>8</th>\n",
       "      <td>18900.0</td>\n",
       "      <td>60</td>\n",
       "      <td>10.99</td>\n",
       "      <td>410.84</td>\n",
       "      <td>2.4</td>\n",
       "      <td>10.0</td>\n",
       "      <td>RENT</td>\n",
       "      <td>103000.0</td>\n",
       "      <td>Verified</td>\n",
       "      <td>Oct-2014</td>\n",
       "      <td>...</td>\n",
       "      <td>0</td>\n",
       "      <td>0</td>\n",
       "      <td>0</td>\n",
       "      <td>0</td>\n",
       "      <td>0</td>\n",
       "      <td>0</td>\n",
       "      <td>0</td>\n",
       "      <td>0</td>\n",
       "      <td>0</td>\n",
       "      <td>RENT</td>\n",
       "    </tr>\n",
       "    <tr>\n",
       "      <th>9</th>\n",
       "      <td>26300.0</td>\n",
       "      <td>36</td>\n",
       "      <td>16.29</td>\n",
       "      <td>928.40</td>\n",
       "      <td>3.8</td>\n",
       "      <td>3.0</td>\n",
       "      <td>MORTGAGE</td>\n",
       "      <td>115000.0</td>\n",
       "      <td>Verified</td>\n",
       "      <td>Apr-2012</td>\n",
       "      <td>...</td>\n",
       "      <td>0</td>\n",
       "      <td>0</td>\n",
       "      <td>0</td>\n",
       "      <td>0</td>\n",
       "      <td>0</td>\n",
       "      <td>0</td>\n",
       "      <td>0</td>\n",
       "      <td>0</td>\n",
       "      <td>0</td>\n",
       "      <td>MORTGAGE</td>\n",
       "    </tr>\n",
       "    <tr>\n",
       "      <th>10</th>\n",
       "      <td>10000.0</td>\n",
       "      <td>36</td>\n",
       "      <td>13.11</td>\n",
       "      <td>337.47</td>\n",
       "      <td>2.6</td>\n",
       "      <td>2.0</td>\n",
       "      <td>RENT</td>\n",
       "      <td>95000.0</td>\n",
       "      <td>Verified</td>\n",
       "      <td>Jun-2013</td>\n",
       "      <td>...</td>\n",
       "      <td>0</td>\n",
       "      <td>0</td>\n",
       "      <td>0</td>\n",
       "      <td>0</td>\n",
       "      <td>0</td>\n",
       "      <td>0</td>\n",
       "      <td>0</td>\n",
       "      <td>0</td>\n",
       "      <td>0</td>\n",
       "      <td>RENT</td>\n",
       "    </tr>\n",
       "    <tr>\n",
       "      <th>11</th>\n",
       "      <td>35000.0</td>\n",
       "      <td>36</td>\n",
       "      <td>14.64</td>\n",
       "      <td>1207.13</td>\n",
       "      <td>3.4</td>\n",
       "      <td>8.0</td>\n",
       "      <td>MORTGAGE</td>\n",
       "      <td>130000.0</td>\n",
       "      <td>Verified</td>\n",
       "      <td>May-2014</td>\n",
       "      <td>...</td>\n",
       "      <td>0</td>\n",
       "      <td>0</td>\n",
       "      <td>0</td>\n",
       "      <td>0</td>\n",
       "      <td>0</td>\n",
       "      <td>0</td>\n",
       "      <td>0</td>\n",
       "      <td>0</td>\n",
       "      <td>0</td>\n",
       "      <td>MORTGAGE</td>\n",
       "    </tr>\n",
       "    <tr>\n",
       "      <th>12</th>\n",
       "      <td>7500.0</td>\n",
       "      <td>36</td>\n",
       "      <td>9.17</td>\n",
       "      <td>239.10</td>\n",
       "      <td>2.2</td>\n",
       "      <td>7.0</td>\n",
       "      <td>OWN</td>\n",
       "      <td>55000.0</td>\n",
       "      <td>Not Verified</td>\n",
       "      <td>Dec-2015</td>\n",
       "      <td>...</td>\n",
       "      <td>0</td>\n",
       "      <td>0</td>\n",
       "      <td>0</td>\n",
       "      <td>0</td>\n",
       "      <td>0</td>\n",
       "      <td>0</td>\n",
       "      <td>0</td>\n",
       "      <td>0</td>\n",
       "      <td>0</td>\n",
       "      <td>OWN</td>\n",
       "    </tr>\n",
       "    <tr>\n",
       "      <th>13</th>\n",
       "      <td>35000.0</td>\n",
       "      <td>60</td>\n",
       "      <td>12.29</td>\n",
       "      <td>783.70</td>\n",
       "      <td>3.0</td>\n",
       "      <td>10.0</td>\n",
       "      <td>MORTGAGE</td>\n",
       "      <td>157000.0</td>\n",
       "      <td>Verified</td>\n",
       "      <td>Apr-2015</td>\n",
       "      <td>...</td>\n",
       "      <td>0</td>\n",
       "      <td>0</td>\n",
       "      <td>0</td>\n",
       "      <td>0</td>\n",
       "      <td>0</td>\n",
       "      <td>0</td>\n",
       "      <td>0</td>\n",
       "      <td>0</td>\n",
       "      <td>0</td>\n",
       "      <td>MORTGAGE</td>\n",
       "    </tr>\n",
       "    <tr>\n",
       "      <th>14</th>\n",
       "      <td>25975.0</td>\n",
       "      <td>36</td>\n",
       "      <td>6.62</td>\n",
       "      <td>797.53</td>\n",
       "      <td>1.2</td>\n",
       "      <td>9.0</td>\n",
       "      <td>MORTGAGE</td>\n",
       "      <td>65000.0</td>\n",
       "      <td>Verified</td>\n",
       "      <td>Oct-2012</td>\n",
       "      <td>...</td>\n",
       "      <td>0</td>\n",
       "      <td>0</td>\n",
       "      <td>0</td>\n",
       "      <td>0</td>\n",
       "      <td>0</td>\n",
       "      <td>0</td>\n",
       "      <td>1</td>\n",
       "      <td>0</td>\n",
       "      <td>0</td>\n",
       "      <td>MORTGAGE</td>\n",
       "    </tr>\n",
       "    <tr>\n",
       "      <th>15</th>\n",
       "      <td>18000.0</td>\n",
       "      <td>36</td>\n",
       "      <td>8.39</td>\n",
       "      <td>567.30</td>\n",
       "      <td>1.8</td>\n",
       "      <td>8.0</td>\n",
       "      <td>MORTGAGE</td>\n",
       "      <td>45000.0</td>\n",
       "      <td>Not Verified</td>\n",
       "      <td>Jul-2014</td>\n",
       "      <td>...</td>\n",
       "      <td>0</td>\n",
       "      <td>1</td>\n",
       "      <td>0</td>\n",
       "      <td>0</td>\n",
       "      <td>0</td>\n",
       "      <td>0</td>\n",
       "      <td>0</td>\n",
       "      <td>0</td>\n",
       "      <td>0</td>\n",
       "      <td>MORTGAGE</td>\n",
       "    </tr>\n",
       "    <tr>\n",
       "      <th>16</th>\n",
       "      <td>32350.0</td>\n",
       "      <td>60</td>\n",
       "      <td>21.98</td>\n",
       "      <td>893.11</td>\n",
       "      <td>5.6</td>\n",
       "      <td>10.0</td>\n",
       "      <td>MORTGAGE</td>\n",
       "      <td>72000.0</td>\n",
       "      <td>Verified</td>\n",
       "      <td>Feb-2013</td>\n",
       "      <td>...</td>\n",
       "      <td>0</td>\n",
       "      <td>0</td>\n",
       "      <td>0</td>\n",
       "      <td>0</td>\n",
       "      <td>0</td>\n",
       "      <td>0</td>\n",
       "      <td>0</td>\n",
       "      <td>0</td>\n",
       "      <td>0</td>\n",
       "      <td>MORTGAGE</td>\n",
       "    </tr>\n",
       "    <tr>\n",
       "      <th>17</th>\n",
       "      <td>11200.0</td>\n",
       "      <td>60</td>\n",
       "      <td>12.29</td>\n",
       "      <td>250.79</td>\n",
       "      <td>3.0</td>\n",
       "      <td>10.0</td>\n",
       "      <td>MORTGAGE</td>\n",
       "      <td>81000.0</td>\n",
       "      <td>Not Verified</td>\n",
       "      <td>Oct-2015</td>\n",
       "      <td>...</td>\n",
       "      <td>0</td>\n",
       "      <td>0</td>\n",
       "      <td>0</td>\n",
       "      <td>0</td>\n",
       "      <td>0</td>\n",
       "      <td>0</td>\n",
       "      <td>0</td>\n",
       "      <td>0</td>\n",
       "      <td>0</td>\n",
       "      <td>MORTGAGE</td>\n",
       "    </tr>\n",
       "    <tr>\n",
       "      <th>18</th>\n",
       "      <td>34000.0</td>\n",
       "      <td>36</td>\n",
       "      <td>7.90</td>\n",
       "      <td>1063.87</td>\n",
       "      <td>1.6</td>\n",
       "      <td>10.0</td>\n",
       "      <td>RENT</td>\n",
       "      <td>130580.0</td>\n",
       "      <td>Verified</td>\n",
       "      <td>Jan-2014</td>\n",
       "      <td>...</td>\n",
       "      <td>0</td>\n",
       "      <td>0</td>\n",
       "      <td>0</td>\n",
       "      <td>0</td>\n",
       "      <td>0</td>\n",
       "      <td>0</td>\n",
       "      <td>0</td>\n",
       "      <td>0</td>\n",
       "      <td>0</td>\n",
       "      <td>RENT</td>\n",
       "    </tr>\n",
       "    <tr>\n",
       "      <th>19</th>\n",
       "      <td>20000.0</td>\n",
       "      <td>36</td>\n",
       "      <td>6.97</td>\n",
       "      <td>617.27</td>\n",
       "      <td>1.4</td>\n",
       "      <td>7.0</td>\n",
       "      <td>MORTGAGE</td>\n",
       "      <td>85000.0</td>\n",
       "      <td>Not Verified</td>\n",
       "      <td>Mar-2016</td>\n",
       "      <td>...</td>\n",
       "      <td>0</td>\n",
       "      <td>0</td>\n",
       "      <td>0</td>\n",
       "      <td>0</td>\n",
       "      <td>0</td>\n",
       "      <td>0</td>\n",
       "      <td>0</td>\n",
       "      <td>0</td>\n",
       "      <td>0</td>\n",
       "      <td>MORTGAGE</td>\n",
       "    </tr>\n",
       "    <tr>\n",
       "      <th>20</th>\n",
       "      <td>9200.0</td>\n",
       "      <td>36</td>\n",
       "      <td>6.62</td>\n",
       "      <td>282.48</td>\n",
       "      <td>1.2</td>\n",
       "      <td>0.0</td>\n",
       "      <td>RENT</td>\n",
       "      <td>65000.0</td>\n",
       "      <td>Source Verified</td>\n",
       "      <td>Apr-2014</td>\n",
       "      <td>...</td>\n",
       "      <td>0</td>\n",
       "      <td>0</td>\n",
       "      <td>0</td>\n",
       "      <td>0</td>\n",
       "      <td>0</td>\n",
       "      <td>0</td>\n",
       "      <td>0</td>\n",
       "      <td>0</td>\n",
       "      <td>0</td>\n",
       "      <td>RENT</td>\n",
       "    </tr>\n",
       "    <tr>\n",
       "      <th>21</th>\n",
       "      <td>7350.0</td>\n",
       "      <td>36</td>\n",
       "      <td>13.11</td>\n",
       "      <td>248.05</td>\n",
       "      <td>2.6</td>\n",
       "      <td>10.0</td>\n",
       "      <td>MORTGAGE</td>\n",
       "      <td>54800.0</td>\n",
       "      <td>Not Verified</td>\n",
       "      <td>Jun-2013</td>\n",
       "      <td>...</td>\n",
       "      <td>0</td>\n",
       "      <td>0</td>\n",
       "      <td>0</td>\n",
       "      <td>0</td>\n",
       "      <td>0</td>\n",
       "      <td>0</td>\n",
       "      <td>0</td>\n",
       "      <td>0</td>\n",
       "      <td>0</td>\n",
       "      <td>MORTGAGE</td>\n",
       "    </tr>\n",
       "    <tr>\n",
       "      <th>22</th>\n",
       "      <td>4200.0</td>\n",
       "      <td>36</td>\n",
       "      <td>6.99</td>\n",
       "      <td>129.67</td>\n",
       "      <td>1.4</td>\n",
       "      <td>5.0</td>\n",
       "      <td>OWN</td>\n",
       "      <td>24000.0</td>\n",
       "      <td>Not Verified</td>\n",
       "      <td>Jun-2011</td>\n",
       "      <td>...</td>\n",
       "      <td>0</td>\n",
       "      <td>0</td>\n",
       "      <td>0</td>\n",
       "      <td>0</td>\n",
       "      <td>1</td>\n",
       "      <td>0</td>\n",
       "      <td>0</td>\n",
       "      <td>0</td>\n",
       "      <td>0</td>\n",
       "      <td>OWN</td>\n",
       "    </tr>\n",
       "    <tr>\n",
       "      <th>23</th>\n",
       "      <td>20000.0</td>\n",
       "      <td>36</td>\n",
       "      <td>8.39</td>\n",
       "      <td>630.34</td>\n",
       "      <td>1.8</td>\n",
       "      <td>10.0</td>\n",
       "      <td>OWN</td>\n",
       "      <td>55000.0</td>\n",
       "      <td>Source Verified</td>\n",
       "      <td>Oct-2014</td>\n",
       "      <td>...</td>\n",
       "      <td>0</td>\n",
       "      <td>0</td>\n",
       "      <td>0</td>\n",
       "      <td>0</td>\n",
       "      <td>0</td>\n",
       "      <td>0</td>\n",
       "      <td>0</td>\n",
       "      <td>0</td>\n",
       "      <td>0</td>\n",
       "      <td>OWN</td>\n",
       "    </tr>\n",
       "    <tr>\n",
       "      <th>24</th>\n",
       "      <td>5000.0</td>\n",
       "      <td>36</td>\n",
       "      <td>15.61</td>\n",
       "      <td>174.83</td>\n",
       "      <td>4.0</td>\n",
       "      <td>5.0</td>\n",
       "      <td>RENT</td>\n",
       "      <td>75000.0</td>\n",
       "      <td>Verified</td>\n",
       "      <td>Sep-2015</td>\n",
       "      <td>...</td>\n",
       "      <td>0</td>\n",
       "      <td>0</td>\n",
       "      <td>0</td>\n",
       "      <td>0</td>\n",
       "      <td>0</td>\n",
       "      <td>0</td>\n",
       "      <td>0</td>\n",
       "      <td>1</td>\n",
       "      <td>0</td>\n",
       "      <td>RENT</td>\n",
       "    </tr>\n",
       "    <tr>\n",
       "      <th>25</th>\n",
       "      <td>6000.0</td>\n",
       "      <td>36</td>\n",
       "      <td>11.36</td>\n",
       "      <td>197.47</td>\n",
       "      <td>2.8</td>\n",
       "      <td>2.0</td>\n",
       "      <td>RENT</td>\n",
       "      <td>46680.0</td>\n",
       "      <td>Not Verified</td>\n",
       "      <td>Apr-2010</td>\n",
       "      <td>...</td>\n",
       "      <td>0</td>\n",
       "      <td>0</td>\n",
       "      <td>1</td>\n",
       "      <td>0</td>\n",
       "      <td>0</td>\n",
       "      <td>0</td>\n",
       "      <td>0</td>\n",
       "      <td>0</td>\n",
       "      <td>0</td>\n",
       "      <td>RENT</td>\n",
       "    </tr>\n",
       "    <tr>\n",
       "      <th>26</th>\n",
       "      <td>8400.0</td>\n",
       "      <td>36</td>\n",
       "      <td>13.35</td>\n",
       "      <td>284.45</td>\n",
       "      <td>3.2</td>\n",
       "      <td>6.0</td>\n",
       "      <td>RENT</td>\n",
       "      <td>35000.0</td>\n",
       "      <td>Source Verified</td>\n",
       "      <td>Jun-2014</td>\n",
       "      <td>...</td>\n",
       "      <td>0</td>\n",
       "      <td>0</td>\n",
       "      <td>0</td>\n",
       "      <td>0</td>\n",
       "      <td>0</td>\n",
       "      <td>0</td>\n",
       "      <td>0</td>\n",
       "      <td>0</td>\n",
       "      <td>0</td>\n",
       "      <td>RENT</td>\n",
       "    </tr>\n",
       "    <tr>\n",
       "      <th>27</th>\n",
       "      <td>23050.0</td>\n",
       "      <td>36</td>\n",
       "      <td>12.12</td>\n",
       "      <td>766.92</td>\n",
       "      <td>2.4</td>\n",
       "      <td>3.0</td>\n",
       "      <td>RENT</td>\n",
       "      <td>80000.0</td>\n",
       "      <td>Verified</td>\n",
       "      <td>Apr-2013</td>\n",
       "      <td>...</td>\n",
       "      <td>0</td>\n",
       "      <td>0</td>\n",
       "      <td>0</td>\n",
       "      <td>0</td>\n",
       "      <td>0</td>\n",
       "      <td>0</td>\n",
       "      <td>0</td>\n",
       "      <td>0</td>\n",
       "      <td>0</td>\n",
       "      <td>RENT</td>\n",
       "    </tr>\n",
       "    <tr>\n",
       "      <th>28</th>\n",
       "      <td>15000.0</td>\n",
       "      <td>36</td>\n",
       "      <td>9.99</td>\n",
       "      <td>483.94</td>\n",
       "      <td>2.0</td>\n",
       "      <td>10.0</td>\n",
       "      <td>MORTGAGE</td>\n",
       "      <td>79000.0</td>\n",
       "      <td>Verified</td>\n",
       "      <td>Oct-2013</td>\n",
       "      <td>...</td>\n",
       "      <td>0</td>\n",
       "      <td>0</td>\n",
       "      <td>0</td>\n",
       "      <td>0</td>\n",
       "      <td>0</td>\n",
       "      <td>0</td>\n",
       "      <td>0</td>\n",
       "      <td>0</td>\n",
       "      <td>0</td>\n",
       "      <td>MORTGAGE</td>\n",
       "    </tr>\n",
       "    <tr>\n",
       "      <th>29</th>\n",
       "      <td>20000.0</td>\n",
       "      <td>36</td>\n",
       "      <td>8.19</td>\n",
       "      <td>628.49</td>\n",
       "      <td>1.8</td>\n",
       "      <td>10.0</td>\n",
       "      <td>MORTGAGE</td>\n",
       "      <td>87000.0</td>\n",
       "      <td>Source Verified</td>\n",
       "      <td>Nov-2014</td>\n",
       "      <td>...</td>\n",
       "      <td>0</td>\n",
       "      <td>0</td>\n",
       "      <td>0</td>\n",
       "      <td>0</td>\n",
       "      <td>0</td>\n",
       "      <td>0</td>\n",
       "      <td>0</td>\n",
       "      <td>0</td>\n",
       "      <td>0</td>\n",
       "      <td>MORTGAGE</td>\n",
       "    </tr>\n",
       "  </tbody>\n",
       "</table>\n",
       "<p>30 rows × 39 columns</p>\n",
       "</div>"
      ],
      "text/plain": [
       "    loan_amnt  term  int_rate  installment  sub_grade  emp_length  \\\n",
       "0     10000.0    36     11.44       329.48        2.6        10.0   \n",
       "1      8000.0    36     11.99       265.68        2.8         4.0   \n",
       "2     15600.0    36     10.49       506.97        2.4         0.0   \n",
       "3      7200.0    36      6.49       220.65        1.2         6.0   \n",
       "4     24375.0    60     17.27       609.33        3.8         9.0   \n",
       "5     20000.0    36     13.33       677.07        3.4        10.0   \n",
       "6     18000.0    36      5.32       542.07        1.0         2.0   \n",
       "7     13000.0    36     11.14       426.47        2.2        10.0   \n",
       "8     18900.0    60     10.99       410.84        2.4        10.0   \n",
       "9     26300.0    36     16.29       928.40        3.8         3.0   \n",
       "10    10000.0    36     13.11       337.47        2.6         2.0   \n",
       "11    35000.0    36     14.64      1207.13        3.4         8.0   \n",
       "12     7500.0    36      9.17       239.10        2.2         7.0   \n",
       "13    35000.0    60     12.29       783.70        3.0        10.0   \n",
       "14    25975.0    36      6.62       797.53        1.2         9.0   \n",
       "15    18000.0    36      8.39       567.30        1.8         8.0   \n",
       "16    32350.0    60     21.98       893.11        5.6        10.0   \n",
       "17    11200.0    60     12.29       250.79        3.0        10.0   \n",
       "18    34000.0    36      7.90      1063.87        1.6        10.0   \n",
       "19    20000.0    36      6.97       617.27        1.4         7.0   \n",
       "20     9200.0    36      6.62       282.48        1.2         0.0   \n",
       "21     7350.0    36     13.11       248.05        2.6        10.0   \n",
       "22     4200.0    36      6.99       129.67        1.4         5.0   \n",
       "23    20000.0    36      8.39       630.34        1.8        10.0   \n",
       "24     5000.0    36     15.61       174.83        4.0         5.0   \n",
       "25     6000.0    36     11.36       197.47        2.8         2.0   \n",
       "26     8400.0    36     13.35       284.45        3.2         6.0   \n",
       "27    23050.0    36     12.12       766.92        2.4         3.0   \n",
       "28    15000.0    36      9.99       483.94        2.0        10.0   \n",
       "29    20000.0    36      8.19       628.49        1.8        10.0   \n",
       "\n",
       "   home_ownership  annual_inc verification_status   issue_d  ... dum_house  \\\n",
       "0            RENT    117000.0        Not Verified  Jan-2015  ...         0   \n",
       "1        MORTGAGE     65000.0        Not Verified  Jan-2015  ...         0   \n",
       "2            RENT     43057.0     Source Verified  Jan-2015  ...         0   \n",
       "3            RENT     54000.0        Not Verified  Nov-2014  ...         0   \n",
       "4        MORTGAGE     55000.0            Verified  Apr-2013  ...         0   \n",
       "5        MORTGAGE     86788.0            Verified  Sep-2015  ...         0   \n",
       "6        MORTGAGE    125000.0     Source Verified  Sep-2015  ...         0   \n",
       "7            RENT     46000.0        Not Verified  Sep-2012  ...         0   \n",
       "8            RENT    103000.0            Verified  Oct-2014  ...         0   \n",
       "9        MORTGAGE    115000.0            Verified  Apr-2012  ...         0   \n",
       "10           RENT     95000.0            Verified  Jun-2013  ...         0   \n",
       "11       MORTGAGE    130000.0            Verified  May-2014  ...         0   \n",
       "12            OWN     55000.0        Not Verified  Dec-2015  ...         0   \n",
       "13       MORTGAGE    157000.0            Verified  Apr-2015  ...         0   \n",
       "14       MORTGAGE     65000.0            Verified  Oct-2012  ...         0   \n",
       "15       MORTGAGE     45000.0        Not Verified  Jul-2014  ...         0   \n",
       "16       MORTGAGE     72000.0            Verified  Feb-2013  ...         0   \n",
       "17       MORTGAGE     81000.0        Not Verified  Oct-2015  ...         0   \n",
       "18           RENT    130580.0            Verified  Jan-2014  ...         0   \n",
       "19       MORTGAGE     85000.0        Not Verified  Mar-2016  ...         0   \n",
       "20           RENT     65000.0     Source Verified  Apr-2014  ...         0   \n",
       "21       MORTGAGE     54800.0        Not Verified  Jun-2013  ...         0   \n",
       "22            OWN     24000.0        Not Verified  Jun-2011  ...         0   \n",
       "23            OWN     55000.0     Source Verified  Oct-2014  ...         0   \n",
       "24           RENT     75000.0            Verified  Sep-2015  ...         0   \n",
       "25           RENT     46680.0        Not Verified  Apr-2010  ...         0   \n",
       "26           RENT     35000.0     Source Verified  Jun-2014  ...         0   \n",
       "27           RENT     80000.0            Verified  Apr-2013  ...         0   \n",
       "28       MORTGAGE     79000.0            Verified  Oct-2013  ...         0   \n",
       "29       MORTGAGE     87000.0     Source Verified  Nov-2014  ...         0   \n",
       "\n",
       "    dum_major_purchase dum_medical  dum_moving  dum_other  \\\n",
       "0                    0           0           0          0   \n",
       "1                    0           0           0          0   \n",
       "2                    0           0           0          0   \n",
       "3                    0           0           0          0   \n",
       "4                    0           0           0          0   \n",
       "5                    0           0           0          0   \n",
       "6                    0           0           0          0   \n",
       "7                    0           0           0          0   \n",
       "8                    0           0           0          0   \n",
       "9                    0           0           0          0   \n",
       "10                   0           0           0          0   \n",
       "11                   0           0           0          0   \n",
       "12                   0           0           0          0   \n",
       "13                   0           0           0          0   \n",
       "14                   0           0           0          0   \n",
       "15                   1           0           0          0   \n",
       "16                   0           0           0          0   \n",
       "17                   0           0           0          0   \n",
       "18                   0           0           0          0   \n",
       "19                   0           0           0          0   \n",
       "20                   0           0           0          0   \n",
       "21                   0           0           0          0   \n",
       "22                   0           0           0          1   \n",
       "23                   0           0           0          0   \n",
       "24                   0           0           0          0   \n",
       "25                   0           1           0          0   \n",
       "26                   0           0           0          0   \n",
       "27                   0           0           0          0   \n",
       "28                   0           0           0          0   \n",
       "29                   0           0           0          0   \n",
       "\n",
       "    dum_renewable_energy  dum_small_business  dum_vacation dum_wedding  \\\n",
       "0                      0                   0             1           0   \n",
       "1                      0                   0             0           0   \n",
       "2                      0                   0             0           0   \n",
       "3                      0                   0             0           0   \n",
       "4                      0                   0             0           0   \n",
       "5                      0                   0             0           0   \n",
       "6                      0                   0             0           0   \n",
       "7                      0                   0             0           0   \n",
       "8                      0                   0             0           0   \n",
       "9                      0                   0             0           0   \n",
       "10                     0                   0             0           0   \n",
       "11                     0                   0             0           0   \n",
       "12                     0                   0             0           0   \n",
       "13                     0                   0             0           0   \n",
       "14                     0                   1             0           0   \n",
       "15                     0                   0             0           0   \n",
       "16                     0                   0             0           0   \n",
       "17                     0                   0             0           0   \n",
       "18                     0                   0             0           0   \n",
       "19                     0                   0             0           0   \n",
       "20                     0                   0             0           0   \n",
       "21                     0                   0             0           0   \n",
       "22                     0                   0             0           0   \n",
       "23                     0                   0             0           0   \n",
       "24                     0                   0             1           0   \n",
       "25                     0                   0             0           0   \n",
       "26                     0                   0             0           0   \n",
       "27                     0                   0             0           0   \n",
       "28                     0                   0             0           0   \n",
       "29                     0                   0             0           0   \n",
       "\n",
       "    home_own  \n",
       "0       RENT  \n",
       "1   MORTGAGE  \n",
       "2       RENT  \n",
       "3       RENT  \n",
       "4   MORTGAGE  \n",
       "5   MORTGAGE  \n",
       "6   MORTGAGE  \n",
       "7       RENT  \n",
       "8       RENT  \n",
       "9   MORTGAGE  \n",
       "10      RENT  \n",
       "11  MORTGAGE  \n",
       "12       OWN  \n",
       "13  MORTGAGE  \n",
       "14  MORTGAGE  \n",
       "15  MORTGAGE  \n",
       "16  MORTGAGE  \n",
       "17  MORTGAGE  \n",
       "18      RENT  \n",
       "19  MORTGAGE  \n",
       "20      RENT  \n",
       "21  MORTGAGE  \n",
       "22       OWN  \n",
       "23       OWN  \n",
       "24      RENT  \n",
       "25      RENT  \n",
       "26      RENT  \n",
       "27      RENT  \n",
       "28  MORTGAGE  \n",
       "29  MORTGAGE  \n",
       "\n",
       "[30 rows x 39 columns]"
      ]
     },
     "execution_count": 44,
     "metadata": {},
     "output_type": "execute_result"
    }
   ],
   "source": [
    "lc_loan.head(30)"
   ]
  },
  {
   "cell_type": "code",
   "execution_count": 45,
   "id": "75a912cf",
   "metadata": {},
   "outputs": [],
   "source": [
    "lc_loan['home_own'] = lc_loan['home_ownership'].apply(lambda x: 'OTHER' if x in ['NONE', 'ANY'] else x)\n",
    "# The lambda function used returns OTHER if the input is NONE or ANY"
   ]
  },
  {
   "cell_type": "code",
   "execution_count": 46,
   "id": "2db6c487",
   "metadata": {},
   "outputs": [
    {
     "data": {
      "text/plain": [
       "MORTGAGE    198348\n",
       "RENT        159790\n",
       "OWN          37746\n",
       "OTHER          146\n",
       "Name: home_own, dtype: int64"
      ]
     },
     "execution_count": 46,
     "metadata": {},
     "output_type": "execute_result"
    }
   ],
   "source": [
    "lc_loan['home_own'].value_counts()"
   ]
  },
  {
   "cell_type": "code",
   "execution_count": 47,
   "id": "c7c418e7",
   "metadata": {},
   "outputs": [],
   "source": [
    "lc_loan = pd.get_dummies(data=lc_loan, prefix='dum', columns=['home_own'], drop_first=True)\n",
    "lc_loan.drop(['home_ownership'], axis=1, inplace=True)          #Drop original column"
   ]
  },
  {
   "cell_type": "code",
   "execution_count": 48,
   "id": "025ac8a0",
   "metadata": {
    "scrolled": true
   },
   "outputs": [
    {
     "name": "stdout",
     "output_type": "stream",
     "text": [
      "<class 'pandas.core.frame.DataFrame'>\n",
      "RangeIndex: 396030 entries, 0 to 396029\n",
      "Data columns (total 40 columns):\n",
      " #   Column                  Non-Null Count   Dtype  \n",
      "---  ------                  --------------   -----  \n",
      " 0   loan_amnt               396030 non-null  float64\n",
      " 1   term                    396030 non-null  int64  \n",
      " 2   int_rate                396030 non-null  float64\n",
      " 3   installment             396030 non-null  float64\n",
      " 4   sub_grade               396030 non-null  float64\n",
      " 5   emp_length              377729 non-null  float64\n",
      " 6   annual_inc              396030 non-null  float64\n",
      " 7   verification_status     396030 non-null  object \n",
      " 8   issue_d                 396030 non-null  object \n",
      " 9   loan_status             396030 non-null  object \n",
      " 10  dti                     396030 non-null  float64\n",
      " 11  earliest_cr_line        396030 non-null  object \n",
      " 12  open_acc                396030 non-null  float64\n",
      " 13  pub_rec                 396030 non-null  float64\n",
      " 14  revol_bal               396030 non-null  float64\n",
      " 15  revol_util              395754 non-null  float64\n",
      " 16  total_acc               396030 non-null  float64\n",
      " 17  initial_list_status     396030 non-null  object \n",
      " 18  mort_acc                358235 non-null  float64\n",
      " 19  pub_rec_bankruptcies    395495 non-null  float64\n",
      " 20  address                 396030 non-null  object \n",
      " 21  status_dummy            396030 non-null  uint8  \n",
      " 22  Individual              396030 non-null  uint8  \n",
      " 23  Joint                   396030 non-null  uint8  \n",
      " 24  dum_credit_card         396030 non-null  uint8  \n",
      " 25  dum_debt_consolidation  396030 non-null  uint8  \n",
      " 26  dum_educational         396030 non-null  uint8  \n",
      " 27  dum_home_improvement    396030 non-null  uint8  \n",
      " 28  dum_house               396030 non-null  uint8  \n",
      " 29  dum_major_purchase      396030 non-null  uint8  \n",
      " 30  dum_medical             396030 non-null  uint8  \n",
      " 31  dum_moving              396030 non-null  uint8  \n",
      " 32  dum_other               396030 non-null  uint8  \n",
      " 33  dum_renewable_energy    396030 non-null  uint8  \n",
      " 34  dum_small_business      396030 non-null  uint8  \n",
      " 35  dum_vacation            396030 non-null  uint8  \n",
      " 36  dum_wedding             396030 non-null  uint8  \n",
      " 37  dum_OTHER               396030 non-null  uint8  \n",
      " 38  dum_OWN                 396030 non-null  uint8  \n",
      " 39  dum_RENT                396030 non-null  uint8  \n",
      "dtypes: float64(14), int64(1), object(6), uint8(19)\n",
      "memory usage: 70.6+ MB\n"
     ]
    }
   ],
   "source": [
    "lc_loan.info()"
   ]
  },
  {
   "cell_type": "markdown",
   "id": "3c8f8d06",
   "metadata": {},
   "source": [
    "### verification_status"
   ]
  },
  {
   "cell_type": "code",
   "execution_count": 49,
   "id": "2b84c1eb",
   "metadata": {},
   "outputs": [
    {
     "data": {
      "text/plain": [
       "Verified           139563\n",
       "Source Verified    131385\n",
       "Not Verified       125082\n",
       "Name: verification_status, dtype: int64"
      ]
     },
     "execution_count": 49,
     "metadata": {},
     "output_type": "execute_result"
    }
   ],
   "source": [
    "lc_loan['verification_status'].value_counts()"
   ]
  },
  {
   "cell_type": "code",
   "execution_count": 50,
   "id": "30f87043",
   "metadata": {},
   "outputs": [],
   "source": [
    "# Make it a dummy\n",
    "lc_loan = pd.get_dummies(data=lc_loan, prefix='dum', columns=['verification_status'], drop_first=True)"
   ]
  },
  {
   "cell_type": "markdown",
   "id": "fe473e1d",
   "metadata": {},
   "source": [
    "### Issue_d"
   ]
  },
  {
   "cell_type": "markdown",
   "id": "89151116",
   "metadata": {},
   "source": [
    "Let's recall what issue_d means"
   ]
  },
  {
   "cell_type": "code",
   "execution_count": 51,
   "id": "cb2c7bd7",
   "metadata": {},
   "outputs": [
    {
     "data": {
      "text/plain": [
       "Index(['LoanStatNew', 'Description'], dtype='object')"
      ]
     },
     "execution_count": 51,
     "metadata": {},
     "output_type": "execute_result"
    }
   ],
   "source": [
    "lc_info.columns"
   ]
  },
  {
   "cell_type": "code",
   "execution_count": 52,
   "id": "7b60b7c9",
   "metadata": {},
   "outputs": [
    {
     "data": {
      "text/plain": [
       "11    The month which the loan was funded\n",
       "Name: Description, dtype: object"
      ]
     },
     "execution_count": 52,
     "metadata": {},
     "output_type": "execute_result"
    }
   ],
   "source": [
    "lc_info[lc_info['LoanStatNew'] == 'issue_d'].Description"
   ]
  },
  {
   "cell_type": "code",
   "execution_count": 53,
   "id": "de1f2fb6",
   "metadata": {
    "scrolled": true
   },
   "outputs": [
    {
     "data": {
      "text/plain": [
       "0         Jan-2015\n",
       "1         Jan-2015\n",
       "2         Jan-2015\n",
       "3         Nov-2014\n",
       "4         Apr-2013\n",
       "            ...   \n",
       "396025    Oct-2015\n",
       "396026    Feb-2015\n",
       "396027    Oct-2013\n",
       "396028    Aug-2012\n",
       "396029    Jun-2010\n",
       "Name: issue_d, Length: 396030, dtype: object"
      ]
     },
     "execution_count": 53,
     "metadata": {},
     "output_type": "execute_result"
    }
   ],
   "source": [
    "lc_loan['issue_d']"
   ]
  },
  {
   "cell_type": "markdown",
   "id": "cfbe3a97",
   "metadata": {},
   "source": [
    "#### If we can broke down issue_d into Year and Month, would both variables be treated lenearly?"
   ]
  },
  {
   "cell_type": "code",
   "execution_count": 54,
   "id": "8f794120",
   "metadata": {},
   "outputs": [],
   "source": [
    "# Save the loan month\n",
    "lc_loan['loan_month'] = lc_loan['issue_d'].apply(lambda x: x[-8:-5]) # 8th position to 5th position from the end"
   ]
  },
  {
   "cell_type": "code",
   "execution_count": 55,
   "id": "6d1a3236",
   "metadata": {},
   "outputs": [
    {
     "data": {
      "text/plain": [
       "Oct    42130\n",
       "Jul    39714\n",
       "Jan    34682\n",
       "Nov    34068\n",
       "Apr    33223\n",
       "Aug    32816\n",
       "Mar    31919\n",
       "May    31895\n",
       "Jun    30140\n",
       "Dec    29082\n",
       "Feb    28742\n",
       "Sep    27619\n",
       "Name: loan_month, dtype: int64"
      ]
     },
     "execution_count": 55,
     "metadata": {},
     "output_type": "execute_result"
    }
   ],
   "source": [
    "lc_loan['loan_month'].value_counts()"
   ]
  },
  {
   "cell_type": "code",
   "execution_count": 56,
   "id": "79b7a214",
   "metadata": {},
   "outputs": [],
   "source": [
    "# Save the loan year\n",
    "lc_loan['loan_year'] = lc_loan['issue_d'].apply(lambda x: x[-4:]).astype(np.uint16)"
   ]
  },
  {
   "cell_type": "code",
   "execution_count": 57,
   "id": "e330b7bd",
   "metadata": {},
   "outputs": [
    {
     "data": {
      "text/plain": [
       "2014    102860\n",
       "2013     97662\n",
       "2015     94264\n",
       "2012     41202\n",
       "2016     28088\n",
       "2011     17435\n",
       "2010      9258\n",
       "2009      3826\n",
       "2008      1240\n",
       "2007       195\n",
       "Name: loan_year, dtype: int64"
      ]
     },
     "execution_count": 57,
     "metadata": {},
     "output_type": "execute_result"
    }
   ],
   "source": [
    "lc_loan['loan_year'].value_counts()"
   ]
  },
  {
   "cell_type": "markdown",
   "id": "1292b3d2",
   "metadata": {},
   "source": [
    "##### We have the 12 months of a Year and 10 diferent years. We can treat the \"month variable categorically\" as the month in which future loans will be requested will fall into one of the existing categories (the 12 months), but regarding the years, new loans will occur in future years and the values of the past won't be repeated (maybe the last year will if it's not over yet). Because of that I will try \"years linearly\""
   ]
  },
  {
   "cell_type": "markdown",
   "id": "d5fd8edd",
   "metadata": {},
   "source": [
    "#### Turn month into dummy"
   ]
  },
  {
   "cell_type": "code",
   "execution_count": 58,
   "id": "4e12e2d5",
   "metadata": {
    "scrolled": true
   },
   "outputs": [],
   "source": [
    "# Turn month into dummy\n",
    "lc_loan = pd.get_dummies(data=lc_loan, prefix='dum_loan', columns=['loan_month'], drop_first=True)\n",
    "lc_loan.drop(['issue_d'], axis=1, inplace=True)        # Drop original column"
   ]
  },
  {
   "cell_type": "code",
   "execution_count": 59,
   "id": "88cd47e9",
   "metadata": {
    "scrolled": true
   },
   "outputs": [
    {
     "name": "stdout",
     "output_type": "stream",
     "text": [
      "<class 'pandas.core.frame.DataFrame'>\n",
      "RangeIndex: 396030 entries, 0 to 396029\n",
      "Data columns (total 52 columns):\n",
      " #   Column                  Non-Null Count   Dtype  \n",
      "---  ------                  --------------   -----  \n",
      " 0   loan_amnt               396030 non-null  float64\n",
      " 1   term                    396030 non-null  int64  \n",
      " 2   int_rate                396030 non-null  float64\n",
      " 3   installment             396030 non-null  float64\n",
      " 4   sub_grade               396030 non-null  float64\n",
      " 5   emp_length              377729 non-null  float64\n",
      " 6   annual_inc              396030 non-null  float64\n",
      " 7   loan_status             396030 non-null  object \n",
      " 8   dti                     396030 non-null  float64\n",
      " 9   earliest_cr_line        396030 non-null  object \n",
      " 10  open_acc                396030 non-null  float64\n",
      " 11  pub_rec                 396030 non-null  float64\n",
      " 12  revol_bal               396030 non-null  float64\n",
      " 13  revol_util              395754 non-null  float64\n",
      " 14  total_acc               396030 non-null  float64\n",
      " 15  initial_list_status     396030 non-null  object \n",
      " 16  mort_acc                358235 non-null  float64\n",
      " 17  pub_rec_bankruptcies    395495 non-null  float64\n",
      " 18  address                 396030 non-null  object \n",
      " 19  status_dummy            396030 non-null  uint8  \n",
      " 20  Individual              396030 non-null  uint8  \n",
      " 21  Joint                   396030 non-null  uint8  \n",
      " 22  dum_credit_card         396030 non-null  uint8  \n",
      " 23  dum_debt_consolidation  396030 non-null  uint8  \n",
      " 24  dum_educational         396030 non-null  uint8  \n",
      " 25  dum_home_improvement    396030 non-null  uint8  \n",
      " 26  dum_house               396030 non-null  uint8  \n",
      " 27  dum_major_purchase      396030 non-null  uint8  \n",
      " 28  dum_medical             396030 non-null  uint8  \n",
      " 29  dum_moving              396030 non-null  uint8  \n",
      " 30  dum_other               396030 non-null  uint8  \n",
      " 31  dum_renewable_energy    396030 non-null  uint8  \n",
      " 32  dum_small_business      396030 non-null  uint8  \n",
      " 33  dum_vacation            396030 non-null  uint8  \n",
      " 34  dum_wedding             396030 non-null  uint8  \n",
      " 35  dum_OTHER               396030 non-null  uint8  \n",
      " 36  dum_OWN                 396030 non-null  uint8  \n",
      " 37  dum_RENT                396030 non-null  uint8  \n",
      " 38  dum_Source Verified     396030 non-null  uint8  \n",
      " 39  dum_Verified            396030 non-null  uint8  \n",
      " 40  loan_year               396030 non-null  uint16 \n",
      " 41  dum_loan_Aug            396030 non-null  uint8  \n",
      " 42  dum_loan_Dec            396030 non-null  uint8  \n",
      " 43  dum_loan_Feb            396030 non-null  uint8  \n",
      " 44  dum_loan_Jan            396030 non-null  uint8  \n",
      " 45  dum_loan_Jul            396030 non-null  uint8  \n",
      " 46  dum_loan_Jun            396030 non-null  uint8  \n",
      " 47  dum_loan_Mar            396030 non-null  uint8  \n",
      " 48  dum_loan_May            396030 non-null  uint8  \n",
      " 49  dum_loan_Nov            396030 non-null  uint8  \n",
      " 50  dum_loan_Oct            396030 non-null  uint8  \n",
      " 51  dum_loan_Sep            396030 non-null  uint8  \n",
      "dtypes: float64(14), int64(1), object(4), uint16(1), uint8(32)\n",
      "memory usage: 70.2+ MB\n"
     ]
    }
   ],
   "source": [
    "# Let's have a look\n",
    "lc_loan.info()"
   ]
  },
  {
   "cell_type": "markdown",
   "id": "04940f46",
   "metadata": {},
   "source": [
    "### earliest_cr_line"
   ]
  },
  {
   "cell_type": "code",
   "execution_count": 60,
   "id": "cc925c10",
   "metadata": {},
   "outputs": [
    {
     "data": {
      "text/plain": [
       "0         Jun-1990\n",
       "1         Jul-2004\n",
       "2         Aug-2007\n",
       "3         Sep-2006\n",
       "4         Mar-1999\n",
       "            ...   \n",
       "396025    Nov-2004\n",
       "396026    Feb-2006\n",
       "396027    Mar-1997\n",
       "396028    Nov-1990\n",
       "396029    Sep-1998\n",
       "Name: earliest_cr_line, Length: 396030, dtype: object"
      ]
     },
     "execution_count": 60,
     "metadata": {},
     "output_type": "execute_result"
    }
   ],
   "source": [
    "lc_loan['earliest_cr_line']"
   ]
  },
  {
   "cell_type": "code",
   "execution_count": 61,
   "id": "ef1cee27",
   "metadata": {},
   "outputs": [
    {
     "data": {
      "text/html": [
       "<div>\n",
       "<style scoped>\n",
       "    .dataframe tbody tr th:only-of-type {\n",
       "        vertical-align: middle;\n",
       "    }\n",
       "\n",
       "    .dataframe tbody tr th {\n",
       "        vertical-align: top;\n",
       "    }\n",
       "\n",
       "    .dataframe thead th {\n",
       "        text-align: right;\n",
       "    }\n",
       "</style>\n",
       "<table border=\"1\" class=\"dataframe\">\n",
       "  <thead>\n",
       "    <tr style=\"text-align: right;\">\n",
       "      <th></th>\n",
       "      <th>LoanStatNew</th>\n",
       "      <th>Description</th>\n",
       "    </tr>\n",
       "  </thead>\n",
       "  <tbody>\n",
       "    <tr>\n",
       "      <th>18</th>\n",
       "      <td>earliest_cr_line</td>\n",
       "      <td>The month the borrower's earliest reported credit line was opened</td>\n",
       "    </tr>\n",
       "  </tbody>\n",
       "</table>\n",
       "</div>"
      ],
      "text/plain": [
       "         LoanStatNew  \\\n",
       "18  earliest_cr_line   \n",
       "\n",
       "                                                          Description  \n",
       "18  The month the borrower's earliest reported credit line was opened  "
      ]
     },
     "execution_count": 61,
     "metadata": {},
     "output_type": "execute_result"
    }
   ],
   "source": [
    "# Description\n",
    "lc_info[lc_info['LoanStatNew'] == 'earliest_cr_line']"
   ]
  },
  {
   "cell_type": "markdown",
   "id": "79bf6bca",
   "metadata": {},
   "source": [
    "#### Let's do the same we did with issue_d"
   ]
  },
  {
   "cell_type": "code",
   "execution_count": 62,
   "id": "3375eecb",
   "metadata": {},
   "outputs": [],
   "source": [
    "# Save the first credit line year\n",
    "lc_loan['earliest_cr_year'] = lc_loan['earliest_cr_line'].apply(lambda x: x[-4:]).astype(np.uint16)\n",
    "\n",
    "# Save the first credit line month\n",
    "lc_loan['earliest_cr_month'] = lc_loan['earliest_cr_line'].apply(lambda x: x[-8:-5])\n",
    "\n",
    "# Turn month into dummy\n",
    "lc_loan = pd.get_dummies(data=lc_loan, prefix='dum_ear_cr', columns=['earliest_cr_month'], drop_first=True)\n",
    "lc_loan.drop(['earliest_cr_line'], axis=1, inplace=True)        # Drop original column"
   ]
  },
  {
   "cell_type": "markdown",
   "id": "d26cf1ae",
   "metadata": {},
   "source": [
    "### Initial list status"
   ]
  },
  {
   "cell_type": "code",
   "execution_count": 63,
   "id": "b1a02f26",
   "metadata": {},
   "outputs": [],
   "source": [
    "# Turn month into dummy\n",
    "lc_loan = pd.get_dummies(data=lc_loan, prefix='dum', columns=['initial_list_status'], drop_first=True)"
   ]
  },
  {
   "cell_type": "markdown",
   "id": "e4346dba",
   "metadata": {},
   "source": [
    "### Address"
   ]
  },
  {
   "cell_type": "code",
   "execution_count": 64,
   "id": "dd3eafec",
   "metadata": {},
   "outputs": [
    {
     "data": {
      "text/plain": [
       "0       0174 Michelle Gateway\\nMendozaberg, OK 22690\n",
       "1    1076 Carney Fort Apt. 347\\nLoganmouth, SD 05113\n",
       "2    87025 Mark Dale Apt. 269\\nNew Sabrina, WV 05113\n",
       "3              823 Reid Ford\\nDelacruzside, MA 00813\n",
       "4               679 Luna Roads\\nGreggshire, VA 11650\n",
       "Name: address, dtype: object"
      ]
     },
     "execution_count": 64,
     "metadata": {},
     "output_type": "execute_result"
    }
   ],
   "source": [
    "lc_loan['address'].head()"
   ]
  },
  {
   "cell_type": "code",
   "execution_count": 65,
   "id": "b0a5cce5",
   "metadata": {},
   "outputs": [],
   "source": [
    "lc_loan['zip'] = lc_loan['address'].apply(lambda x: x[-5:])"
   ]
  },
  {
   "cell_type": "code",
   "execution_count": 66,
   "id": "04ab06d3",
   "metadata": {},
   "outputs": [
    {
     "data": {
      "text/plain": [
       "0         OK 22690\n",
       "1         SD 05113\n",
       "2         WV 05113\n",
       "3         MA 00813\n",
       "4         VA 11650\n",
       "            ...   \n",
       "396025    DC 30723\n",
       "396026    LA 05113\n",
       "396027    NY 70466\n",
       "396028    FL 29597\n",
       "396029    AR 48052\n",
       "Name: address, Length: 396030, dtype: object"
      ]
     },
     "execution_count": 66,
     "metadata": {},
     "output_type": "execute_result"
    }
   ],
   "source": [
    "lc_loan['address'].apply(lambda x: x[-8:])"
   ]
  },
  {
   "cell_type": "code",
   "execution_count": 67,
   "id": "2594b616",
   "metadata": {},
   "outputs": [
    {
     "data": {
      "text/plain": [
       "540"
      ]
     },
     "execution_count": 67,
     "metadata": {},
     "output_type": "execute_result"
    }
   ],
   "source": [
    "# How many State-zip code combinations are there?\n",
    "lc_loan['address'].apply(lambda x: x[-8:]).nunique()"
   ]
  },
  {
   "cell_type": "code",
   "execution_count": 68,
   "id": "17dc6d8e",
   "metadata": {
    "scrolled": true
   },
   "outputs": [
    {
     "data": {
      "text/plain": [
       "10"
      ]
     },
     "execution_count": 68,
     "metadata": {},
     "output_type": "execute_result"
    }
   ],
   "source": [
    "# How many different zip codes?\n",
    "lc_loan['zip'].nunique()"
   ]
  },
  {
   "cell_type": "markdown",
   "id": "1e65e39c",
   "metadata": {},
   "source": [
    "Let's check how many States there are in the data"
   ]
  },
  {
   "cell_type": "code",
   "execution_count": 69,
   "id": "dd3df4e0",
   "metadata": {},
   "outputs": [
    {
     "data": {
      "text/plain": [
       "0         OK\n",
       "1         SD\n",
       "2         WV\n",
       "3         MA\n",
       "4         VA\n",
       "          ..\n",
       "396025    DC\n",
       "396026    LA\n",
       "396027    NY\n",
       "396028    FL\n",
       "396029    AR\n",
       "Name: address, Length: 396030, dtype: object"
      ]
     },
     "execution_count": 69,
     "metadata": {},
     "output_type": "execute_result"
    }
   ],
   "source": [
    "lc_loan['address'].apply(lambda x: x[-8:-6])"
   ]
  },
  {
   "cell_type": "code",
   "execution_count": 70,
   "id": "b8b61bf6",
   "metadata": {},
   "outputs": [
    {
     "data": {
      "text/plain": [
       "54"
      ]
     },
     "execution_count": 70,
     "metadata": {},
     "output_type": "execute_result"
    }
   ],
   "source": [
    "# How many different States?\n",
    "lc_loan['address'].apply(lambda x: x[-8:-6]).nunique()"
   ]
  },
  {
   "cell_type": "markdown",
   "id": "e58c46c7",
   "metadata": {},
   "source": [
    "#### I will just use the zipcode for now because there are too many states"
   ]
  },
  {
   "cell_type": "code",
   "execution_count": 71,
   "id": "ed59c622",
   "metadata": {
    "scrolled": false
   },
   "outputs": [
    {
     "data": {
      "text/html": [
       "<div>\n",
       "<style scoped>\n",
       "    .dataframe tbody tr th:only-of-type {\n",
       "        vertical-align: middle;\n",
       "    }\n",
       "\n",
       "    .dataframe tbody tr th {\n",
       "        vertical-align: top;\n",
       "    }\n",
       "\n",
       "    .dataframe thead th {\n",
       "        text-align: right;\n",
       "    }\n",
       "</style>\n",
       "<table border=\"1\" class=\"dataframe\">\n",
       "  <thead>\n",
       "    <tr style=\"text-align: right;\">\n",
       "      <th></th>\n",
       "      <th>loan_amnt</th>\n",
       "      <th>term</th>\n",
       "      <th>int_rate</th>\n",
       "      <th>installment</th>\n",
       "      <th>sub_grade</th>\n",
       "      <th>emp_length</th>\n",
       "      <th>annual_inc</th>\n",
       "      <th>loan_status</th>\n",
       "      <th>dti</th>\n",
       "      <th>open_acc</th>\n",
       "      <th>...</th>\n",
       "      <th>dum_w</th>\n",
       "      <th>dum_zip_05113</th>\n",
       "      <th>dum_zip_11650</th>\n",
       "      <th>dum_zip_22690</th>\n",
       "      <th>dum_zip_29597</th>\n",
       "      <th>dum_zip_30723</th>\n",
       "      <th>dum_zip_48052</th>\n",
       "      <th>dum_zip_70466</th>\n",
       "      <th>dum_zip_86630</th>\n",
       "      <th>dum_zip_93700</th>\n",
       "    </tr>\n",
       "  </thead>\n",
       "  <tbody>\n",
       "    <tr>\n",
       "      <th>0</th>\n",
       "      <td>10000.0</td>\n",
       "      <td>36</td>\n",
       "      <td>11.44</td>\n",
       "      <td>329.48</td>\n",
       "      <td>2.6</td>\n",
       "      <td>10.0</td>\n",
       "      <td>117000.0</td>\n",
       "      <td>Fully Paid</td>\n",
       "      <td>26.24</td>\n",
       "      <td>16.0</td>\n",
       "      <td>...</td>\n",
       "      <td>1</td>\n",
       "      <td>0</td>\n",
       "      <td>0</td>\n",
       "      <td>1</td>\n",
       "      <td>0</td>\n",
       "      <td>0</td>\n",
       "      <td>0</td>\n",
       "      <td>0</td>\n",
       "      <td>0</td>\n",
       "      <td>0</td>\n",
       "    </tr>\n",
       "    <tr>\n",
       "      <th>1</th>\n",
       "      <td>8000.0</td>\n",
       "      <td>36</td>\n",
       "      <td>11.99</td>\n",
       "      <td>265.68</td>\n",
       "      <td>2.8</td>\n",
       "      <td>4.0</td>\n",
       "      <td>65000.0</td>\n",
       "      <td>Fully Paid</td>\n",
       "      <td>22.05</td>\n",
       "      <td>17.0</td>\n",
       "      <td>...</td>\n",
       "      <td>0</td>\n",
       "      <td>1</td>\n",
       "      <td>0</td>\n",
       "      <td>0</td>\n",
       "      <td>0</td>\n",
       "      <td>0</td>\n",
       "      <td>0</td>\n",
       "      <td>0</td>\n",
       "      <td>0</td>\n",
       "      <td>0</td>\n",
       "    </tr>\n",
       "    <tr>\n",
       "      <th>2</th>\n",
       "      <td>15600.0</td>\n",
       "      <td>36</td>\n",
       "      <td>10.49</td>\n",
       "      <td>506.97</td>\n",
       "      <td>2.4</td>\n",
       "      <td>0.0</td>\n",
       "      <td>43057.0</td>\n",
       "      <td>Fully Paid</td>\n",
       "      <td>12.79</td>\n",
       "      <td>13.0</td>\n",
       "      <td>...</td>\n",
       "      <td>0</td>\n",
       "      <td>1</td>\n",
       "      <td>0</td>\n",
       "      <td>0</td>\n",
       "      <td>0</td>\n",
       "      <td>0</td>\n",
       "      <td>0</td>\n",
       "      <td>0</td>\n",
       "      <td>0</td>\n",
       "      <td>0</td>\n",
       "    </tr>\n",
       "    <tr>\n",
       "      <th>3</th>\n",
       "      <td>7200.0</td>\n",
       "      <td>36</td>\n",
       "      <td>6.49</td>\n",
       "      <td>220.65</td>\n",
       "      <td>1.2</td>\n",
       "      <td>6.0</td>\n",
       "      <td>54000.0</td>\n",
       "      <td>Fully Paid</td>\n",
       "      <td>2.60</td>\n",
       "      <td>6.0</td>\n",
       "      <td>...</td>\n",
       "      <td>0</td>\n",
       "      <td>0</td>\n",
       "      <td>0</td>\n",
       "      <td>0</td>\n",
       "      <td>0</td>\n",
       "      <td>0</td>\n",
       "      <td>0</td>\n",
       "      <td>0</td>\n",
       "      <td>0</td>\n",
       "      <td>0</td>\n",
       "    </tr>\n",
       "    <tr>\n",
       "      <th>4</th>\n",
       "      <td>24375.0</td>\n",
       "      <td>60</td>\n",
       "      <td>17.27</td>\n",
       "      <td>609.33</td>\n",
       "      <td>3.8</td>\n",
       "      <td>9.0</td>\n",
       "      <td>55000.0</td>\n",
       "      <td>Charged Off</td>\n",
       "      <td>33.95</td>\n",
       "      <td>13.0</td>\n",
       "      <td>...</td>\n",
       "      <td>0</td>\n",
       "      <td>0</td>\n",
       "      <td>1</td>\n",
       "      <td>0</td>\n",
       "      <td>0</td>\n",
       "      <td>0</td>\n",
       "      <td>0</td>\n",
       "      <td>0</td>\n",
       "      <td>0</td>\n",
       "      <td>0</td>\n",
       "    </tr>\n",
       "  </tbody>\n",
       "</table>\n",
       "<p>5 rows × 71 columns</p>\n",
       "</div>"
      ],
      "text/plain": [
       "   loan_amnt  term  int_rate  installment  sub_grade  emp_length  annual_inc  \\\n",
       "0    10000.0    36     11.44       329.48        2.6        10.0    117000.0   \n",
       "1     8000.0    36     11.99       265.68        2.8         4.0     65000.0   \n",
       "2    15600.0    36     10.49       506.97        2.4         0.0     43057.0   \n",
       "3     7200.0    36      6.49       220.65        1.2         6.0     54000.0   \n",
       "4    24375.0    60     17.27       609.33        3.8         9.0     55000.0   \n",
       "\n",
       "   loan_status    dti  open_acc  ...  dum_w  dum_zip_05113  dum_zip_11650  \\\n",
       "0   Fully Paid  26.24      16.0  ...      1              0              0   \n",
       "1   Fully Paid  22.05      17.0  ...      0              1              0   \n",
       "2   Fully Paid  12.79      13.0  ...      0              1              0   \n",
       "3   Fully Paid   2.60       6.0  ...      0              0              0   \n",
       "4  Charged Off  33.95      13.0  ...      0              0              1   \n",
       "\n",
       "   dum_zip_22690  dum_zip_29597  dum_zip_30723  dum_zip_48052  dum_zip_70466  \\\n",
       "0              1              0              0              0              0   \n",
       "1              0              0              0              0              0   \n",
       "2              0              0              0              0              0   \n",
       "3              0              0              0              0              0   \n",
       "4              0              0              0              0              0   \n",
       "\n",
       "   dum_zip_86630  dum_zip_93700  \n",
       "0              0              0  \n",
       "1              0              0  \n",
       "2              0              0  \n",
       "3              0              0  \n",
       "4              0              0  \n",
       "\n",
       "[5 rows x 71 columns]"
      ]
     },
     "execution_count": 71,
     "metadata": {},
     "output_type": "execute_result"
    }
   ],
   "source": [
    "lc_loan = pd.get_dummies(data=lc_loan, prefix='dum_zip', columns=['zip'], drop_first=True)\n",
    "lc_loan.drop('address', axis=1, inplace=True)          # Drop the original column\n",
    "lc_loan.head()"
   ]
  },
  {
   "cell_type": "code",
   "execution_count": 72,
   "id": "31e1ef25",
   "metadata": {
    "scrolled": true
   },
   "outputs": [
    {
     "name": "stdout",
     "output_type": "stream",
     "text": [
      "<class 'pandas.core.frame.DataFrame'>\n",
      "RangeIndex: 396030 entries, 0 to 396029\n",
      "Data columns (total 71 columns):\n",
      " #   Column                  Non-Null Count   Dtype  \n",
      "---  ------                  --------------   -----  \n",
      " 0   loan_amnt               396030 non-null  float64\n",
      " 1   term                    396030 non-null  int64  \n",
      " 2   int_rate                396030 non-null  float64\n",
      " 3   installment             396030 non-null  float64\n",
      " 4   sub_grade               396030 non-null  float64\n",
      " 5   emp_length              377729 non-null  float64\n",
      " 6   annual_inc              396030 non-null  float64\n",
      " 7   loan_status             396030 non-null  object \n",
      " 8   dti                     396030 non-null  float64\n",
      " 9   open_acc                396030 non-null  float64\n",
      " 10  pub_rec                 396030 non-null  float64\n",
      " 11  revol_bal               396030 non-null  float64\n",
      " 12  revol_util              395754 non-null  float64\n",
      " 13  total_acc               396030 non-null  float64\n",
      " 14  mort_acc                358235 non-null  float64\n",
      " 15  pub_rec_bankruptcies    395495 non-null  float64\n",
      " 16  status_dummy            396030 non-null  uint8  \n",
      " 17  Individual              396030 non-null  uint8  \n",
      " 18  Joint                   396030 non-null  uint8  \n",
      " 19  dum_credit_card         396030 non-null  uint8  \n",
      " 20  dum_debt_consolidation  396030 non-null  uint8  \n",
      " 21  dum_educational         396030 non-null  uint8  \n",
      " 22  dum_home_improvement    396030 non-null  uint8  \n",
      " 23  dum_house               396030 non-null  uint8  \n",
      " 24  dum_major_purchase      396030 non-null  uint8  \n",
      " 25  dum_medical             396030 non-null  uint8  \n",
      " 26  dum_moving              396030 non-null  uint8  \n",
      " 27  dum_other               396030 non-null  uint8  \n",
      " 28  dum_renewable_energy    396030 non-null  uint8  \n",
      " 29  dum_small_business      396030 non-null  uint8  \n",
      " 30  dum_vacation            396030 non-null  uint8  \n",
      " 31  dum_wedding             396030 non-null  uint8  \n",
      " 32  dum_OTHER               396030 non-null  uint8  \n",
      " 33  dum_OWN                 396030 non-null  uint8  \n",
      " 34  dum_RENT                396030 non-null  uint8  \n",
      " 35  dum_Source Verified     396030 non-null  uint8  \n",
      " 36  dum_Verified            396030 non-null  uint8  \n",
      " 37  loan_year               396030 non-null  uint16 \n",
      " 38  dum_loan_Aug            396030 non-null  uint8  \n",
      " 39  dum_loan_Dec            396030 non-null  uint8  \n",
      " 40  dum_loan_Feb            396030 non-null  uint8  \n",
      " 41  dum_loan_Jan            396030 non-null  uint8  \n",
      " 42  dum_loan_Jul            396030 non-null  uint8  \n",
      " 43  dum_loan_Jun            396030 non-null  uint8  \n",
      " 44  dum_loan_Mar            396030 non-null  uint8  \n",
      " 45  dum_loan_May            396030 non-null  uint8  \n",
      " 46  dum_loan_Nov            396030 non-null  uint8  \n",
      " 47  dum_loan_Oct            396030 non-null  uint8  \n",
      " 48  dum_loan_Sep            396030 non-null  uint8  \n",
      " 49  earliest_cr_year        396030 non-null  uint16 \n",
      " 50  dum_ear_cr_Aug          396030 non-null  uint8  \n",
      " 51  dum_ear_cr_Dec          396030 non-null  uint8  \n",
      " 52  dum_ear_cr_Feb          396030 non-null  uint8  \n",
      " 53  dum_ear_cr_Jan          396030 non-null  uint8  \n",
      " 54  dum_ear_cr_Jul          396030 non-null  uint8  \n",
      " 55  dum_ear_cr_Jun          396030 non-null  uint8  \n",
      " 56  dum_ear_cr_Mar          396030 non-null  uint8  \n",
      " 57  dum_ear_cr_May          396030 non-null  uint8  \n",
      " 58  dum_ear_cr_Nov          396030 non-null  uint8  \n",
      " 59  dum_ear_cr_Oct          396030 non-null  uint8  \n",
      " 60  dum_ear_cr_Sep          396030 non-null  uint8  \n",
      " 61  dum_w                   396030 non-null  uint8  \n",
      " 62  dum_zip_05113           396030 non-null  uint8  \n",
      " 63  dum_zip_11650           396030 non-null  uint8  \n",
      " 64  dum_zip_22690           396030 non-null  uint8  \n",
      " 65  dum_zip_29597           396030 non-null  uint8  \n",
      " 66  dum_zip_30723           396030 non-null  uint8  \n",
      " 67  dum_zip_48052           396030 non-null  uint8  \n",
      " 68  dum_zip_70466           396030 non-null  uint8  \n",
      " 69  dum_zip_86630           396030 non-null  uint8  \n",
      " 70  dum_zip_93700           396030 non-null  uint8  \n",
      "dtypes: float64(14), int64(1), object(1), uint16(2), uint8(53)\n",
      "memory usage: 69.9+ MB\n"
     ]
    }
   ],
   "source": [
    "lc_loan.info()"
   ]
  },
  {
   "cell_type": "markdown",
   "id": "a943e285",
   "metadata": {},
   "source": [
    "## 3. Missing Data"
   ]
  },
  {
   "cell_type": "code",
   "execution_count": 73,
   "id": "fc4f3fa5",
   "metadata": {
    "scrolled": true
   },
   "outputs": [
    {
     "data": {
      "text/plain": [
       "loan_amnt                   0\n",
       "dum_ear_cr_Aug              0\n",
       "earliest_cr_year            0\n",
       "dum_loan_Sep                0\n",
       "dum_loan_Oct                0\n",
       "                        ...  \n",
       "dum_zip_93700               0\n",
       "revol_util                276\n",
       "pub_rec_bankruptcies      535\n",
       "emp_length              18301\n",
       "mort_acc                37795\n",
       "Length: 71, dtype: int64"
      ]
     },
     "execution_count": 73,
     "metadata": {},
     "output_type": "execute_result"
    }
   ],
   "source": [
    "# Number of missing values (NaNs)\n",
    "lc_loan.isna().sum().sort_values()"
   ]
  },
  {
   "cell_type": "code",
   "execution_count": 74,
   "id": "be913a91",
   "metadata": {
    "scrolled": true
   },
   "outputs": [
    {
     "data": {
      "text/plain": [
       "loan_amnt               0.000000\n",
       "dum_ear_cr_Aug          0.000000\n",
       "earliest_cr_year        0.000000\n",
       "dum_loan_Sep            0.000000\n",
       "dum_loan_Oct            0.000000\n",
       "                          ...   \n",
       "dum_zip_93700           0.000000\n",
       "revol_util              0.069692\n",
       "pub_rec_bankruptcies    0.135091\n",
       "emp_length              4.621115\n",
       "mort_acc                9.543469\n",
       "Length: 71, dtype: float64"
      ]
     },
     "execution_count": 74,
     "metadata": {},
     "output_type": "execute_result"
    }
   ],
   "source": [
    "# Missing values ratio\n",
    "lc_loan.isna().sum().sort_values()/len(lc_loan)*100"
   ]
  },
  {
   "cell_type": "markdown",
   "id": "5f5c138f",
   "metadata": {},
   "source": [
    "#### As the number of NaNs in \"revol_util\" and \"pub_rec_bankruptcies\" is relatively low, we can just drop the rows that contain those NaNs and fill the missing data in the other two columns"
   ]
  },
  {
   "cell_type": "code",
   "execution_count": 75,
   "id": "0690c44a",
   "metadata": {
    "scrolled": false
   },
   "outputs": [
    {
     "data": {
      "text/plain": [
       "loan_amnt                 0.000000\n",
       "dum_ear_cr_Aug            0.000000\n",
       "earliest_cr_year          0.000000\n",
       "dum_loan_Sep              0.000000\n",
       "dum_loan_Oct              0.000000\n",
       "                            ...   \n",
       "dum_debt_consolidation    0.000000\n",
       "dum_medical               0.000000\n",
       "dum_zip_93700             0.000000\n",
       "emp_length                4.627814\n",
       "mort_acc                  9.413768\n",
       "Length: 71, dtype: float64"
      ]
     },
     "execution_count": 75,
     "metadata": {},
     "output_type": "execute_result"
    }
   ],
   "source": [
    "lc_loan.drop(lc_loan[lc_loan['revol_util'].isna()].index, inplace=True)\n",
    "lc_loan.drop(lc_loan[lc_loan['pub_rec_bankruptcies'].isna()].index, inplace=True)\n",
    "lc_loan.isna().sum().sort_values()/len(lc_loan)*100"
   ]
  },
  {
   "cell_type": "markdown",
   "id": "d67af4f7",
   "metadata": {},
   "source": [
    "# 4. Scaling the data"
   ]
  },
  {
   "cell_type": "code",
   "execution_count": 76,
   "id": "7948508a",
   "metadata": {
    "scrolled": true
   },
   "outputs": [
    {
     "name": "stdout",
     "output_type": "stream",
     "text": [
      "<class 'pandas.core.frame.DataFrame'>\n",
      "Int64Index: 395219 entries, 0 to 396029\n",
      "Data columns (total 70 columns):\n",
      " #   Column                  Non-Null Count   Dtype  \n",
      "---  ------                  --------------   -----  \n",
      " 0   loan_amnt               395219 non-null  float64\n",
      " 1   term                    395219 non-null  int64  \n",
      " 2   int_rate                395219 non-null  float64\n",
      " 3   installment             395219 non-null  float64\n",
      " 4   sub_grade               395219 non-null  float64\n",
      " 5   emp_length              376929 non-null  float64\n",
      " 6   annual_inc              395219 non-null  float64\n",
      " 7   dti                     395219 non-null  float64\n",
      " 8   open_acc                395219 non-null  float64\n",
      " 9   pub_rec                 395219 non-null  float64\n",
      " 10  revol_bal               395219 non-null  float64\n",
      " 11  revol_util              395219 non-null  float64\n",
      " 12  total_acc               395219 non-null  float64\n",
      " 13  mort_acc                358014 non-null  float64\n",
      " 14  pub_rec_bankruptcies    395219 non-null  float64\n",
      " 15  status_dummy            395219 non-null  uint8  \n",
      " 16  Individual              395219 non-null  uint8  \n",
      " 17  Joint                   395219 non-null  uint8  \n",
      " 18  dum_credit_card         395219 non-null  uint8  \n",
      " 19  dum_debt_consolidation  395219 non-null  uint8  \n",
      " 20  dum_educational         395219 non-null  uint8  \n",
      " 21  dum_home_improvement    395219 non-null  uint8  \n",
      " 22  dum_house               395219 non-null  uint8  \n",
      " 23  dum_major_purchase      395219 non-null  uint8  \n",
      " 24  dum_medical             395219 non-null  uint8  \n",
      " 25  dum_moving              395219 non-null  uint8  \n",
      " 26  dum_other               395219 non-null  uint8  \n",
      " 27  dum_renewable_energy    395219 non-null  uint8  \n",
      " 28  dum_small_business      395219 non-null  uint8  \n",
      " 29  dum_vacation            395219 non-null  uint8  \n",
      " 30  dum_wedding             395219 non-null  uint8  \n",
      " 31  dum_OTHER               395219 non-null  uint8  \n",
      " 32  dum_OWN                 395219 non-null  uint8  \n",
      " 33  dum_RENT                395219 non-null  uint8  \n",
      " 34  dum_Source Verified     395219 non-null  uint8  \n",
      " 35  dum_Verified            395219 non-null  uint8  \n",
      " 36  loan_year               395219 non-null  uint16 \n",
      " 37  dum_loan_Aug            395219 non-null  uint8  \n",
      " 38  dum_loan_Dec            395219 non-null  uint8  \n",
      " 39  dum_loan_Feb            395219 non-null  uint8  \n",
      " 40  dum_loan_Jan            395219 non-null  uint8  \n",
      " 41  dum_loan_Jul            395219 non-null  uint8  \n",
      " 42  dum_loan_Jun            395219 non-null  uint8  \n",
      " 43  dum_loan_Mar            395219 non-null  uint8  \n",
      " 44  dum_loan_May            395219 non-null  uint8  \n",
      " 45  dum_loan_Nov            395219 non-null  uint8  \n",
      " 46  dum_loan_Oct            395219 non-null  uint8  \n",
      " 47  dum_loan_Sep            395219 non-null  uint8  \n",
      " 48  earliest_cr_year        395219 non-null  uint16 \n",
      " 49  dum_ear_cr_Aug          395219 non-null  uint8  \n",
      " 50  dum_ear_cr_Dec          395219 non-null  uint8  \n",
      " 51  dum_ear_cr_Feb          395219 non-null  uint8  \n",
      " 52  dum_ear_cr_Jan          395219 non-null  uint8  \n",
      " 53  dum_ear_cr_Jul          395219 non-null  uint8  \n",
      " 54  dum_ear_cr_Jun          395219 non-null  uint8  \n",
      " 55  dum_ear_cr_Mar          395219 non-null  uint8  \n",
      " 56  dum_ear_cr_May          395219 non-null  uint8  \n",
      " 57  dum_ear_cr_Nov          395219 non-null  uint8  \n",
      " 58  dum_ear_cr_Oct          395219 non-null  uint8  \n",
      " 59  dum_ear_cr_Sep          395219 non-null  uint8  \n",
      " 60  dum_w                   395219 non-null  uint8  \n",
      " 61  dum_zip_05113           395219 non-null  uint8  \n",
      " 62  dum_zip_11650           395219 non-null  uint8  \n",
      " 63  dum_zip_22690           395219 non-null  uint8  \n",
      " 64  dum_zip_29597           395219 non-null  uint8  \n",
      " 65  dum_zip_30723           395219 non-null  uint8  \n",
      " 66  dum_zip_48052           395219 non-null  uint8  \n",
      " 67  dum_zip_70466           395219 non-null  uint8  \n",
      " 68  dum_zip_86630           395219 non-null  uint8  \n",
      " 69  dum_zip_93700           395219 non-null  uint8  \n",
      "dtypes: float64(14), int64(1), uint16(2), uint8(53)\n",
      "memory usage: 69.7 MB\n"
     ]
    }
   ],
   "source": [
    "lc_loan.drop(('loan_status'), axis=1, inplace=True)\n",
    "lc_loan.info()"
   ]
  },
  {
   "cell_type": "code",
   "execution_count": 77,
   "id": "a33a3001",
   "metadata": {},
   "outputs": [],
   "source": [
    "# Create a dataframe without the dummy columns to scale just those variables\n",
    "\n",
    "# use numpy r_ to concatenate slices\n",
    "dumms = lc_loan.iloc[:,np.r_[16:36, 37:48, 49:70, 15]]\n",
    "noDum = lc_loan.iloc[:,np.r_[:15, 36, 48]]"
   ]
  },
  {
   "cell_type": "code",
   "execution_count": 78,
   "id": "b4d424d3",
   "metadata": {},
   "outputs": [],
   "source": [
    "# We should scale the data as KNN is a distance based algorithm and it reduces biases\n",
    "\n",
    "# Instanciate the scaler model and scale the data\n",
    "scaler = MinMaxScaler()\n",
    "scaled_noDum = pd.DataFrame(scaler.fit_transform(noDum), columns = noDum.columns)"
   ]
  },
  {
   "cell_type": "code",
   "execution_count": 79,
   "id": "6f241318",
   "metadata": {
    "scrolled": true
   },
   "outputs": [
    {
     "data": {
      "text/html": [
       "<div>\n",
       "<style scoped>\n",
       "    .dataframe tbody tr th:only-of-type {\n",
       "        vertical-align: middle;\n",
       "    }\n",
       "\n",
       "    .dataframe tbody tr th {\n",
       "        vertical-align: top;\n",
       "    }\n",
       "\n",
       "    .dataframe thead th {\n",
       "        text-align: right;\n",
       "    }\n",
       "</style>\n",
       "<table border=\"1\" class=\"dataframe\">\n",
       "  <thead>\n",
       "    <tr style=\"text-align: right;\">\n",
       "      <th></th>\n",
       "      <th>loan_amnt</th>\n",
       "      <th>term</th>\n",
       "      <th>int_rate</th>\n",
       "      <th>installment</th>\n",
       "      <th>sub_grade</th>\n",
       "      <th>emp_length</th>\n",
       "      <th>annual_inc</th>\n",
       "      <th>dti</th>\n",
       "      <th>open_acc</th>\n",
       "      <th>pub_rec</th>\n",
       "      <th>revol_bal</th>\n",
       "      <th>revol_util</th>\n",
       "      <th>total_acc</th>\n",
       "      <th>mort_acc</th>\n",
       "      <th>pub_rec_bankruptcies</th>\n",
       "      <th>loan_year</th>\n",
       "      <th>earliest_cr_year</th>\n",
       "    </tr>\n",
       "  </thead>\n",
       "  <tbody>\n",
       "    <tr>\n",
       "      <th>count</th>\n",
       "      <td>395219.000000</td>\n",
       "      <td>395219.000000</td>\n",
       "      <td>395219.000000</td>\n",
       "      <td>395219.000000</td>\n",
       "      <td>395219.000000</td>\n",
       "      <td>376929.000000</td>\n",
       "      <td>395219.000000</td>\n",
       "      <td>395219.000000</td>\n",
       "      <td>395219.000000</td>\n",
       "      <td>395219.000000</td>\n",
       "      <td>395219.000000</td>\n",
       "      <td>395219.000000</td>\n",
       "      <td>395219.000000</td>\n",
       "      <td>358014.000000</td>\n",
       "      <td>395219.000000</td>\n",
       "      <td>395219.000000</td>\n",
       "      <td>395219.000000</td>\n",
       "    </tr>\n",
       "    <tr>\n",
       "      <th>mean</th>\n",
       "      <td>0.344862</td>\n",
       "      <td>0.237772</td>\n",
       "      <td>0.324195</td>\n",
       "      <td>0.274086</td>\n",
       "      <td>0.325956</td>\n",
       "      <td>0.594187</td>\n",
       "      <td>0.008522</td>\n",
       "      <td>0.001739</td>\n",
       "      <td>0.115938</td>\n",
       "      <td>0.002075</td>\n",
       "      <td>0.009093</td>\n",
       "      <td>0.060303</td>\n",
       "      <td>0.157225</td>\n",
       "      <td>0.053347</td>\n",
       "      <td>0.015215</td>\n",
       "      <td>0.737501</td>\n",
       "      <td>0.780603</td>\n",
       "    </tr>\n",
       "    <tr>\n",
       "      <th>std</th>\n",
       "      <td>0.211571</td>\n",
       "      <td>0.425719</td>\n",
       "      <td>0.174248</td>\n",
       "      <td>0.165181</td>\n",
       "      <td>0.194124</td>\n",
       "      <td>0.364464</td>\n",
       "      <td>0.007070</td>\n",
       "      <td>0.001803</td>\n",
       "      <td>0.057696</td>\n",
       "      <td>0.006176</td>\n",
       "      <td>0.011808</td>\n",
       "      <td>0.027390</td>\n",
       "      <td>0.079767</td>\n",
       "      <td>0.063173</td>\n",
       "      <td>0.044534</td>\n",
       "      <td>0.162861</td>\n",
       "      <td>0.104334</td>\n",
       "    </tr>\n",
       "    <tr>\n",
       "      <th>min</th>\n",
       "      <td>0.000000</td>\n",
       "      <td>0.000000</td>\n",
       "      <td>0.000000</td>\n",
       "      <td>0.000000</td>\n",
       "      <td>0.000000</td>\n",
       "      <td>0.000000</td>\n",
       "      <td>0.000000</td>\n",
       "      <td>0.000000</td>\n",
       "      <td>0.000000</td>\n",
       "      <td>0.000000</td>\n",
       "      <td>0.000000</td>\n",
       "      <td>0.000000</td>\n",
       "      <td>0.000000</td>\n",
       "      <td>0.000000</td>\n",
       "      <td>0.000000</td>\n",
       "      <td>0.000000</td>\n",
       "      <td>0.000000</td>\n",
       "    </tr>\n",
       "    <tr>\n",
       "      <th>25%</th>\n",
       "      <td>0.189873</td>\n",
       "      <td>0.000000</td>\n",
       "      <td>0.201402</td>\n",
       "      <td>0.154342</td>\n",
       "      <td>0.176471</td>\n",
       "      <td>0.300000</td>\n",
       "      <td>0.005169</td>\n",
       "      <td>0.001130</td>\n",
       "      <td>0.078652</td>\n",
       "      <td>0.000000</td>\n",
       "      <td>0.003464</td>\n",
       "      <td>0.040233</td>\n",
       "      <td>0.100671</td>\n",
       "      <td>0.000000</td>\n",
       "      <td>0.000000</td>\n",
       "      <td>0.666667</td>\n",
       "      <td>0.724638</td>\n",
       "    </tr>\n",
       "    <tr>\n",
       "      <th>50%</th>\n",
       "      <td>0.291139</td>\n",
       "      <td>0.000000</td>\n",
       "      <td>0.312037</td>\n",
       "      <td>0.236808</td>\n",
       "      <td>0.294118</td>\n",
       "      <td>0.600000</td>\n",
       "      <td>0.007351</td>\n",
       "      <td>0.001692</td>\n",
       "      <td>0.101124</td>\n",
       "      <td>0.000000</td>\n",
       "      <td>0.006419</td>\n",
       "      <td>0.061414</td>\n",
       "      <td>0.147651</td>\n",
       "      <td>0.029412</td>\n",
       "      <td>0.000000</td>\n",
       "      <td>0.777778</td>\n",
       "      <td>0.797101</td>\n",
       "    </tr>\n",
       "    <tr>\n",
       "      <th>75%</th>\n",
       "      <td>0.493671</td>\n",
       "      <td>0.000000</td>\n",
       "      <td>0.437476</td>\n",
       "      <td>0.363510</td>\n",
       "      <td>0.441176</td>\n",
       "      <td>1.000000</td>\n",
       "      <td>0.010337</td>\n",
       "      <td>0.002299</td>\n",
       "      <td>0.146067</td>\n",
       "      <td>0.000000</td>\n",
       "      <td>0.011258</td>\n",
       "      <td>0.081699</td>\n",
       "      <td>0.201342</td>\n",
       "      <td>0.088235</td>\n",
       "      <td>0.000000</td>\n",
       "      <td>0.888889</td>\n",
       "      <td>0.855072</td>\n",
       "    </tr>\n",
       "    <tr>\n",
       "      <th>max</th>\n",
       "      <td>1.000000</td>\n",
       "      <td>1.000000</td>\n",
       "      <td>1.000000</td>\n",
       "      <td>1.000000</td>\n",
       "      <td>1.000000</td>\n",
       "      <td>1.000000</td>\n",
       "      <td>1.000000</td>\n",
       "      <td>1.000000</td>\n",
       "      <td>1.000000</td>\n",
       "      <td>1.000000</td>\n",
       "      <td>1.000000</td>\n",
       "      <td>1.000000</td>\n",
       "      <td>1.000000</td>\n",
       "      <td>1.000000</td>\n",
       "      <td>1.000000</td>\n",
       "      <td>1.000000</td>\n",
       "      <td>1.000000</td>\n",
       "    </tr>\n",
       "  </tbody>\n",
       "</table>\n",
       "</div>"
      ],
      "text/plain": [
       "           loan_amnt           term       int_rate    installment  \\\n",
       "count  395219.000000  395219.000000  395219.000000  395219.000000   \n",
       "mean        0.344862       0.237772       0.324195       0.274086   \n",
       "std         0.211571       0.425719       0.174248       0.165181   \n",
       "min         0.000000       0.000000       0.000000       0.000000   \n",
       "25%         0.189873       0.000000       0.201402       0.154342   \n",
       "50%         0.291139       0.000000       0.312037       0.236808   \n",
       "75%         0.493671       0.000000       0.437476       0.363510   \n",
       "max         1.000000       1.000000       1.000000       1.000000   \n",
       "\n",
       "           sub_grade     emp_length     annual_inc            dti  \\\n",
       "count  395219.000000  376929.000000  395219.000000  395219.000000   \n",
       "mean        0.325956       0.594187       0.008522       0.001739   \n",
       "std         0.194124       0.364464       0.007070       0.001803   \n",
       "min         0.000000       0.000000       0.000000       0.000000   \n",
       "25%         0.176471       0.300000       0.005169       0.001130   \n",
       "50%         0.294118       0.600000       0.007351       0.001692   \n",
       "75%         0.441176       1.000000       0.010337       0.002299   \n",
       "max         1.000000       1.000000       1.000000       1.000000   \n",
       "\n",
       "            open_acc        pub_rec      revol_bal     revol_util  \\\n",
       "count  395219.000000  395219.000000  395219.000000  395219.000000   \n",
       "mean        0.115938       0.002075       0.009093       0.060303   \n",
       "std         0.057696       0.006176       0.011808       0.027390   \n",
       "min         0.000000       0.000000       0.000000       0.000000   \n",
       "25%         0.078652       0.000000       0.003464       0.040233   \n",
       "50%         0.101124       0.000000       0.006419       0.061414   \n",
       "75%         0.146067       0.000000       0.011258       0.081699   \n",
       "max         1.000000       1.000000       1.000000       1.000000   \n",
       "\n",
       "           total_acc       mort_acc  pub_rec_bankruptcies      loan_year  \\\n",
       "count  395219.000000  358014.000000         395219.000000  395219.000000   \n",
       "mean        0.157225       0.053347              0.015215       0.737501   \n",
       "std         0.079767       0.063173              0.044534       0.162861   \n",
       "min         0.000000       0.000000              0.000000       0.000000   \n",
       "25%         0.100671       0.000000              0.000000       0.666667   \n",
       "50%         0.147651       0.029412              0.000000       0.777778   \n",
       "75%         0.201342       0.088235              0.000000       0.888889   \n",
       "max         1.000000       1.000000              1.000000       1.000000   \n",
       "\n",
       "       earliest_cr_year  \n",
       "count     395219.000000  \n",
       "mean           0.780603  \n",
       "std            0.104334  \n",
       "min            0.000000  \n",
       "25%            0.724638  \n",
       "50%            0.797101  \n",
       "75%            0.855072  \n",
       "max            1.000000  "
      ]
     },
     "execution_count": 79,
     "metadata": {},
     "output_type": "execute_result"
    }
   ],
   "source": [
    "scaled_noDum.describe()"
   ]
  },
  {
   "cell_type": "markdown",
   "id": "fbb1456d",
   "metadata": {},
   "source": [
    "#### It looks good. "
   ]
  },
  {
   "cell_type": "code",
   "execution_count": 80,
   "id": "4d9ba32c",
   "metadata": {
    "scrolled": true
   },
   "outputs": [
    {
     "name": "stdout",
     "output_type": "stream",
     "text": [
      "<class 'pandas.core.frame.DataFrame'>\n",
      "RangeIndex: 395219 entries, 0 to 395218\n",
      "Data columns (total 70 columns):\n",
      " #   Column                  Non-Null Count   Dtype  \n",
      "---  ------                  --------------   -----  \n",
      " 0   loan_amnt               395219 non-null  float64\n",
      " 1   term                    395219 non-null  float64\n",
      " 2   int_rate                395219 non-null  float64\n",
      " 3   installment             395219 non-null  float64\n",
      " 4   sub_grade               395219 non-null  float64\n",
      " 5   emp_length              376929 non-null  float64\n",
      " 6   annual_inc              395219 non-null  float64\n",
      " 7   dti                     395219 non-null  float64\n",
      " 8   open_acc                395219 non-null  float64\n",
      " 9   pub_rec                 395219 non-null  float64\n",
      " 10  revol_bal               395219 non-null  float64\n",
      " 11  revol_util              395219 non-null  float64\n",
      " 12  total_acc               395219 non-null  float64\n",
      " 13  mort_acc                358014 non-null  float64\n",
      " 14  pub_rec_bankruptcies    395219 non-null  float64\n",
      " 15  loan_year               395219 non-null  float64\n",
      " 16  earliest_cr_year        395219 non-null  float64\n",
      " 17  Individual              395219 non-null  uint8  \n",
      " 18  Joint                   395219 non-null  uint8  \n",
      " 19  dum_credit_card         395219 non-null  uint8  \n",
      " 20  dum_debt_consolidation  395219 non-null  uint8  \n",
      " 21  dum_educational         395219 non-null  uint8  \n",
      " 22  dum_home_improvement    395219 non-null  uint8  \n",
      " 23  dum_house               395219 non-null  uint8  \n",
      " 24  dum_major_purchase      395219 non-null  uint8  \n",
      " 25  dum_medical             395219 non-null  uint8  \n",
      " 26  dum_moving              395219 non-null  uint8  \n",
      " 27  dum_other               395219 non-null  uint8  \n",
      " 28  dum_renewable_energy    395219 non-null  uint8  \n",
      " 29  dum_small_business      395219 non-null  uint8  \n",
      " 30  dum_vacation            395219 non-null  uint8  \n",
      " 31  dum_wedding             395219 non-null  uint8  \n",
      " 32  dum_OTHER               395219 non-null  uint8  \n",
      " 33  dum_OWN                 395219 non-null  uint8  \n",
      " 34  dum_RENT                395219 non-null  uint8  \n",
      " 35  dum_Source Verified     395219 non-null  uint8  \n",
      " 36  dum_Verified            395219 non-null  uint8  \n",
      " 37  dum_loan_Aug            395219 non-null  uint8  \n",
      " 38  dum_loan_Dec            395219 non-null  uint8  \n",
      " 39  dum_loan_Feb            395219 non-null  uint8  \n",
      " 40  dum_loan_Jan            395219 non-null  uint8  \n",
      " 41  dum_loan_Jul            395219 non-null  uint8  \n",
      " 42  dum_loan_Jun            395219 non-null  uint8  \n",
      " 43  dum_loan_Mar            395219 non-null  uint8  \n",
      " 44  dum_loan_May            395219 non-null  uint8  \n",
      " 45  dum_loan_Nov            395219 non-null  uint8  \n",
      " 46  dum_loan_Oct            395219 non-null  uint8  \n",
      " 47  dum_loan_Sep            395219 non-null  uint8  \n",
      " 48  dum_ear_cr_Aug          395219 non-null  uint8  \n",
      " 49  dum_ear_cr_Dec          395219 non-null  uint8  \n",
      " 50  dum_ear_cr_Feb          395219 non-null  uint8  \n",
      " 51  dum_ear_cr_Jan          395219 non-null  uint8  \n",
      " 52  dum_ear_cr_Jul          395219 non-null  uint8  \n",
      " 53  dum_ear_cr_Jun          395219 non-null  uint8  \n",
      " 54  dum_ear_cr_Mar          395219 non-null  uint8  \n",
      " 55  dum_ear_cr_May          395219 non-null  uint8  \n",
      " 56  dum_ear_cr_Nov          395219 non-null  uint8  \n",
      " 57  dum_ear_cr_Oct          395219 non-null  uint8  \n",
      " 58  dum_ear_cr_Sep          395219 non-null  uint8  \n",
      " 59  dum_w                   395219 non-null  uint8  \n",
      " 60  dum_zip_05113           395219 non-null  uint8  \n",
      " 61  dum_zip_11650           395219 non-null  uint8  \n",
      " 62  dum_zip_22690           395219 non-null  uint8  \n",
      " 63  dum_zip_29597           395219 non-null  uint8  \n",
      " 64  dum_zip_30723           395219 non-null  uint8  \n",
      " 65  dum_zip_48052           395219 non-null  uint8  \n",
      " 66  dum_zip_70466           395219 non-null  uint8  \n",
      " 67  dum_zip_86630           395219 non-null  uint8  \n",
      " 68  dum_zip_93700           395219 non-null  uint8  \n",
      " 69  status_dummy            395219 non-null  uint8  \n",
      "dtypes: float64(17), uint8(53)\n",
      "memory usage: 71.2 MB\n"
     ]
    }
   ],
   "source": [
    "# Add the dummy columns\n",
    "scaled_df = scaled_noDum.join(dumms, on=dumms.index)\n",
    "scaled_df.info()"
   ]
  },
  {
   "cell_type": "markdown",
   "id": "e398bac8",
   "metadata": {},
   "source": [
    "## 5. Neural Network"
   ]
  },
  {
   "cell_type": "code",
   "execution_count": 81,
   "id": "c179c61b",
   "metadata": {},
   "outputs": [],
   "source": [
    "early_stop = EarlyStopping(monitor='val_loss', mode='min', verbose=1, patience=25)"
   ]
  },
  {
   "cell_type": "code",
   "execution_count": 82,
   "id": "cb69590e",
   "metadata": {},
   "outputs": [
    {
     "data": {
      "text/plain": [
       "(395219, 70)"
      ]
     },
     "execution_count": 82,
     "metadata": {},
     "output_type": "execute_result"
    }
   ],
   "source": [
    "scaled_df.shape # Width of 48 neurons, as the last one is the target"
   ]
  },
  {
   "cell_type": "code",
   "execution_count": 83,
   "id": "8b550679",
   "metadata": {},
   "outputs": [],
   "source": [
    "# Setting up the Neural Network\n",
    "\n",
    "model = Sequential()\n",
    "\n",
    "model.add(Dense(units=70, activation='relu'))   # Input layer\n",
    "model.add(Dropout(0.2))\n",
    "model.add(Dense(units=35, activation='relu'))   # Hidden Layer 1\n",
    "model.add(Dropout(0.2))\n",
    "model.add(Dense(units=12, activation='relu'))   # Hidden Layer 2\n",
    "model.add(Dropout(0.2))\n",
    "model.add(Dense(units=1, activation='sigmoid')) # Output layer\n",
    "\n",
    "# For a binary classification problem : binary_crossentropy\n",
    "model.compile(loss='binary_crossentropy', optimizer='adam')"
   ]
  },
  {
   "cell_type": "markdown",
   "id": "1ed8d9bd",
   "metadata": {},
   "source": [
    "### 5.1. Model training/testing"
   ]
  },
  {
   "cell_type": "markdown",
   "id": "c19fbf30",
   "metadata": {},
   "source": [
    "#### After trying many runs with different NN model hyperparameters and number of neighbors for the imputation ( in which the results didn't change too much), the best result was achieved with the following setup"
   ]
  },
  {
   "cell_type": "code",
   "execution_count": 84,
   "id": "155dfd4b",
   "metadata": {},
   "outputs": [
    {
     "name": "stdout",
     "output_type": "stream",
     "text": [
      "Epoch 1/150\n",
      "1158/1158 [==============================] - 3s 2ms/step - loss: 0.3145 - val_loss: 0.2685\n",
      "Epoch 2/150\n",
      "1158/1158 [==============================] - 2s 2ms/step - loss: 0.2674 - val_loss: 0.2619\n",
      "Epoch 3/150\n",
      "1158/1158 [==============================] - 2s 2ms/step - loss: 0.2634 - val_loss: 0.2611\n",
      "Epoch 4/150\n",
      "1158/1158 [==============================] - 2s 2ms/step - loss: 0.2618 - val_loss: 0.2612\n",
      "Epoch 5/150\n",
      "1158/1158 [==============================] - 2s 2ms/step - loss: 0.2609 - val_loss: 0.2608\n",
      "Epoch 6/150\n",
      "1158/1158 [==============================] - 2s 2ms/step - loss: 0.2598 - val_loss: 0.2602\n",
      "Epoch 7/150\n",
      "1158/1158 [==============================] - 2s 2ms/step - loss: 0.2593 - val_loss: 0.2609\n",
      "Epoch 8/150\n",
      "1158/1158 [==============================] - 2s 2ms/step - loss: 0.2589 - val_loss: 0.2608\n",
      "Epoch 9/150\n",
      "1158/1158 [==============================] - 2s 2ms/step - loss: 0.2589 - val_loss: 0.2606\n",
      "Epoch 10/150\n",
      "1158/1158 [==============================] - 2s 2ms/step - loss: 0.2583 - val_loss: 0.2623\n",
      "Epoch 11/150\n",
      "1158/1158 [==============================] - 2s 2ms/step - loss: 0.2580 - val_loss: 0.2598\n",
      "Epoch 12/150\n",
      "1158/1158 [==============================] - 2s 2ms/step - loss: 0.2579 - val_loss: 0.2598\n",
      "Epoch 13/150\n",
      "1158/1158 [==============================] - 2s 2ms/step - loss: 0.2573 - val_loss: 0.2598\n",
      "Epoch 14/150\n",
      "1158/1158 [==============================] - 2s 2ms/step - loss: 0.2569 - val_loss: 0.2598\n",
      "Epoch 15/150\n",
      "1158/1158 [==============================] - 2s 2ms/step - loss: 0.2566 - val_loss: 0.2601\n",
      "Epoch 16/150\n",
      "1158/1158 [==============================] - 2s 2ms/step - loss: 0.2566 - val_loss: 0.2597\n",
      "Epoch 17/150\n",
      "1158/1158 [==============================] - 2s 2ms/step - loss: 0.2564 - val_loss: 0.2596\n",
      "Epoch 18/150\n",
      "1158/1158 [==============================] - 2s 2ms/step - loss: 0.2560 - val_loss: 0.2600\n",
      "Epoch 19/150\n",
      "1158/1158 [==============================] - 2s 2ms/step - loss: 0.2558 - val_loss: 0.2594\n",
      "Epoch 20/150\n",
      "1158/1158 [==============================] - 2s 2ms/step - loss: 0.2554 - val_loss: 0.2592\n",
      "Epoch 21/150\n",
      "1158/1158 [==============================] - 2s 2ms/step - loss: 0.2553 - val_loss: 0.2597\n",
      "Epoch 22/150\n",
      "1158/1158 [==============================] - 2s 2ms/step - loss: 0.2551 - val_loss: 0.2594\n",
      "Epoch 23/150\n",
      "1158/1158 [==============================] - 2s 2ms/step - loss: 0.2546 - val_loss: 0.2596\n",
      "Epoch 24/150\n",
      "1158/1158 [==============================] - 2s 2ms/step - loss: 0.2548 - val_loss: 0.2593\n",
      "Epoch 25/150\n",
      "1158/1158 [==============================] - 2s 2ms/step - loss: 0.2545 - val_loss: 0.2597\n",
      "Epoch 26/150\n",
      "1158/1158 [==============================] - 2s 2ms/step - loss: 0.2545 - val_loss: 0.2596\n",
      "Epoch 27/150\n",
      "1158/1158 [==============================] - 2s 2ms/step - loss: 0.2541 - val_loss: 0.2602\n",
      "Epoch 28/150\n",
      "1158/1158 [==============================] - 2s 2ms/step - loss: 0.2541 - val_loss: 0.2593\n",
      "Epoch 29/150\n",
      "1158/1158 [==============================] - 2s 2ms/step - loss: 0.2540 - val_loss: 0.2597\n",
      "Epoch 30/150\n",
      "1158/1158 [==============================] - 2s 2ms/step - loss: 0.2537 - val_loss: 0.2603\n",
      "Epoch 31/150\n",
      "1158/1158 [==============================] - 2s 2ms/step - loss: 0.2537 - val_loss: 0.2599\n",
      "Epoch 32/150\n",
      "1158/1158 [==============================] - 2s 2ms/step - loss: 0.2533 - val_loss: 0.2592\n",
      "Epoch 33/150\n",
      "1158/1158 [==============================] - 2s 2ms/step - loss: 0.2535 - val_loss: 0.2593\n",
      "Epoch 34/150\n",
      "1158/1158 [==============================] - 2s 2ms/step - loss: 0.2531 - val_loss: 0.2591\n",
      "Epoch 35/150\n",
      "1158/1158 [==============================] - 2s 2ms/step - loss: 0.2530 - val_loss: 0.2605\n",
      "Epoch 36/150\n",
      "1158/1158 [==============================] - 2s 2ms/step - loss: 0.2528 - val_loss: 0.2591\n",
      "Epoch 37/150\n",
      "1158/1158 [==============================] - 2s 2ms/step - loss: 0.2531 - val_loss: 0.2594\n",
      "Epoch 38/150\n",
      "1158/1158 [==============================] - 2s 2ms/step - loss: 0.2527 - val_loss: 0.2595\n",
      "Epoch 39/150\n",
      "1158/1158 [==============================] - 2s 2ms/step - loss: 0.2528 - val_loss: 0.2591\n",
      "Epoch 40/150\n",
      "1158/1158 [==============================] - 2s 2ms/step - loss: 0.2530 - val_loss: 0.2590\n",
      "Epoch 41/150\n",
      "1158/1158 [==============================] - 2s 2ms/step - loss: 0.2526 - val_loss: 0.2592\n",
      "Epoch 42/150\n",
      "1158/1158 [==============================] - 2s 2ms/step - loss: 0.2523 - val_loss: 0.2602\n",
      "Epoch 43/150\n",
      "1158/1158 [==============================] - 2s 2ms/step - loss: 0.2521 - val_loss: 0.2591\n",
      "Epoch 44/150\n",
      "1158/1158 [==============================] - 2s 2ms/step - loss: 0.2520 - val_loss: 0.2613\n",
      "Epoch 45/150\n",
      "1158/1158 [==============================] - 2s 2ms/step - loss: 0.2523 - val_loss: 0.2593\n",
      "Epoch 46/150\n",
      "1158/1158 [==============================] - 2s 2ms/step - loss: 0.2521 - val_loss: 0.2590\n",
      "Epoch 47/150\n",
      "1158/1158 [==============================] - 2s 2ms/step - loss: 0.2516 - val_loss: 0.2601\n",
      "Epoch 48/150\n",
      "1158/1158 [==============================] - 2s 2ms/step - loss: 0.2518 - val_loss: 0.2596\n",
      "Epoch 49/150\n",
      "1158/1158 [==============================] - 2s 2ms/step - loss: 0.2517 - val_loss: 0.2592\n",
      "Epoch 50/150\n",
      "1158/1158 [==============================] - 2s 2ms/step - loss: 0.2516 - val_loss: 0.2594\n",
      "Epoch 51/150\n",
      "1158/1158 [==============================] - 2s 2ms/step - loss: 0.2516 - val_loss: 0.2598\n",
      "Epoch 52/150\n",
      "1158/1158 [==============================] - 2s 2ms/step - loss: 0.2515 - val_loss: 0.2597\n",
      "Epoch 53/150\n",
      "1158/1158 [==============================] - 2s 2ms/step - loss: 0.2516 - val_loss: 0.2607\n",
      "Epoch 54/150\n",
      "1158/1158 [==============================] - 2s 2ms/step - loss: 0.2514 - val_loss: 0.2597\n",
      "Epoch 55/150\n",
      "1158/1158 [==============================] - 2s 2ms/step - loss: 0.2512 - val_loss: 0.2598\n",
      "Epoch 56/150\n",
      "1158/1158 [==============================] - 2s 2ms/step - loss: 0.2512 - val_loss: 0.2592\n",
      "Epoch 57/150\n",
      "1158/1158 [==============================] - 2s 2ms/step - loss: 0.2511 - val_loss: 0.2600\n",
      "Epoch 58/150\n",
      "1158/1158 [==============================] - 2s 2ms/step - loss: 0.2513 - val_loss: 0.2596\n",
      "Epoch 59/150\n",
      "1158/1158 [==============================] - 2s 2ms/step - loss: 0.2513 - val_loss: 0.2594\n",
      "Epoch 60/150\n",
      "1158/1158 [==============================] - 2s 2ms/step - loss: 0.2511 - val_loss: 0.2620\n",
      "Epoch 61/150\n",
      "1158/1158 [==============================] - 2s 2ms/step - loss: 0.2511 - val_loss: 0.2594\n",
      "Epoch 62/150\n",
      "1158/1158 [==============================] - 2s 2ms/step - loss: 0.2507 - val_loss: 0.2595\n",
      "Epoch 63/150\n",
      "1158/1158 [==============================] - 2s 2ms/step - loss: 0.2509 - val_loss: 0.2595\n",
      "Epoch 64/150\n",
      "1158/1158 [==============================] - 2s 2ms/step - loss: 0.2509 - val_loss: 0.2596\n",
      "Epoch 65/150\n",
      "1158/1158 [==============================] - 2s 2ms/step - loss: 0.2505 - val_loss: 0.2594\n",
      "Epoch 66/150\n",
      "1158/1158 [==============================] - 2s 2ms/step - loss: 0.2509 - val_loss: 0.2593\n",
      "Epoch 67/150\n",
      "1158/1158 [==============================] - 2s 2ms/step - loss: 0.2506 - val_loss: 0.2594\n",
      "Epoch 68/150\n",
      "1158/1158 [==============================] - 2s 2ms/step - loss: 0.2508 - val_loss: 0.2594\n",
      "Epoch 69/150\n",
      "1158/1158 [==============================] - 2s 2ms/step - loss: 0.2506 - val_loss: 0.2595\n",
      "Epoch 70/150\n",
      "1158/1158 [==============================] - 2s 2ms/step - loss: 0.2503 - val_loss: 0.2590\n",
      "Epoch 71/150\n",
      "1158/1158 [==============================] - 2s 2ms/step - loss: 0.2503 - val_loss: 0.2593\n",
      "Epoch 71: early stopping\n"
     ]
    },
    {
     "data": {
      "text/plain": [
       "<keras.callbacks.History at 0x23133b0eda0>"
      ]
     },
     "execution_count": 84,
     "metadata": {},
     "output_type": "execute_result"
    }
   ],
   "source": [
    "imputer = KNNImputer(n_neighbors=2)\n",
    "imputed_df = imputer.fit_transform(scaled_df)  # This Outputs an array\n",
    "\n",
    "# Neural networks work with arrays\n",
    "y = imputed_df[:,69]                           # status_dummy\n",
    "X = imputed_df[:,:69]                          # rest of columns\n",
    "    \n",
    "X_train, X_test, y_train, y_test = train_test_split(X, y, test_size=0.25, random_state=101)\n",
    "\n",
    "model.fit(x=X_train, \n",
    "          y=y_train, \n",
    "          epochs=150,                  # number times that the learning algorithm will work through the entire training dataset\n",
    "          batch_size=256,              # number of samples processed before the model is updated\n",
    "          validation_data=(X_test, y_test), verbose=1,\n",
    "          callbacks=[early_stop]\n",
    "          )"
   ]
  },
  {
   "cell_type": "markdown",
   "id": "c7066b79",
   "metadata": {},
   "source": [
    "### Model performance"
   ]
  },
  {
   "cell_type": "code",
   "execution_count": 90,
   "id": "04efa1d0",
   "metadata": {},
   "outputs": [
    {
     "name": "stdout",
     "output_type": "stream",
     "text": [
      "              precision    recall  f1-score   support\n",
      "\n",
      "           0       0.92      0.48      0.63     19458\n",
      "           1       0.88      0.99      0.93     79347\n",
      "\n",
      "    accuracy                           0.89     98805\n",
      "   macro avg       0.90      0.73      0.78     98805\n",
      "weighted avg       0.89      0.89      0.87     98805\n",
      "\n"
     ]
    }
   ],
   "source": [
    "# Create global variables containing the predictions\n",
    "pred2 = (model.predict(X_test) > 0.5).astype(\"int32\")\n",
    "\n",
    "print(classification_report(y_test.astype(int),pred2))"
   ]
  },
  {
   "cell_type": "markdown",
   "id": "2131b41a",
   "metadata": {},
   "source": [
    "#### It would be better that the recall for \"0\" (charged-off loans) was higher, as this is the model capability to detect all the loans of this kind. Despite that, this is a normal result, given the big quantity difference between fully-paid and charged-off loans present in the data."
   ]
  }
 ],
 "metadata": {
  "kernelspec": {
   "display_name": "Python 3 (ipykernel)",
   "language": "python",
   "name": "python3"
  },
  "language_info": {
   "codemirror_mode": {
    "name": "ipython",
    "version": 3
   },
   "file_extension": ".py",
   "mimetype": "text/x-python",
   "name": "python",
   "nbconvert_exporter": "python",
   "pygments_lexer": "ipython3",
   "version": "3.10.9"
  }
 },
 "nbformat": 4,
 "nbformat_minor": 5
}
